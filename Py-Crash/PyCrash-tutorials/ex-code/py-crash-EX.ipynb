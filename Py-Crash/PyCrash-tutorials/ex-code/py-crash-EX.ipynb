{
 "cells": [
  {
   "cell_type": "markdown",
   "metadata": {},
   "source": [
    "## EX for py"
   ]
  },
  {
   "cell_type": "code",
   "execution_count": 1,
   "metadata": {},
   "outputs": [
    {
     "name": "stdout",
     "output_type": "stream",
     "text": [
      "\n",
      "Ss , nice choice!.\n",
      "\n",
      "Ss , nice choice!.\n",
      "\n",
      "Aa , nice choice!.\n",
      "\n",
      " , nice choice!.\n"
     ]
    }
   ],
   "source": [
    "prompt = \"\\nPlease enter your pizza ingridients:\"\n",
    "prompt += \"\\nEnter 'quit' if you finished.\"\n",
    "\n",
    "while True:\n",
    "    ingredient = input(prompt)\n",
    "    if ingredient == 'quit':\n",
    "        break\n",
    "    else:\n",
    "        print(f\"\\n{ingredient.title()} , nice choice!.\")\n"
   ]
  },
  {
   "cell_type": "markdown",
   "metadata": {},
   "source": []
  },
  {
   "cell_type": "code",
   "execution_count": 2,
   "metadata": {},
   "outputs": [],
   "source": [
    "# movie ticket price\n",
    "msg = \"\\nHow old are you?\"\n",
    "msg += \"\\nEnter 'quit' when you are finished.\"\n",
    "\n",
    "while True:\n",
    "    age = input(msg)\n",
    "    if age == 'quit':\n",
    "        break\n",
    "    else:\n",
    "        age = int(age)  # make the age as int for py\n",
    "        if age < 3:\n",
    "            print(\"\\nYour ticket is free.\")\n",
    "        elif age < 12:\n",
    "            print(\"\\nYour ticket is $10.\")\n",
    "        else:\n",
    "            print(\"\\nYour ticket is $15.\")"
   ]
  },
  {
   "cell_type": "markdown",
   "metadata": {},
   "source": []
  },
  {
   "cell_type": "markdown",
   "metadata": {},
   "source": []
  },
  {
   "cell_type": "markdown",
   "metadata": {},
   "source": []
  },
  {
   "cell_type": "markdown",
   "metadata": {},
   "source": []
  },
  {
   "cell_type": "markdown",
   "metadata": {},
   "source": []
  },
  {
   "cell_type": "code",
   "execution_count": null,
   "metadata": {},
   "outputs": [],
   "source": []
  },
  {
   "cell_type": "markdown",
   "metadata": {},
   "source": []
  },
  {
   "cell_type": "code",
   "execution_count": 3,
   "metadata": {},
   "outputs": [
    {
     "name": "stdout",
     "output_type": "stream",
     "text": [
      "Vertfying user: Candace\n",
      "Vertfying user: Brian\n",
      "Vertfying user: Alice\n",
      "\n",
      "The following users have been confirmed:\n",
      "Candace\n",
      "Brian\n",
      "Alice\n"
     ]
    }
   ],
   "source": [
    "unconfirmed_users = ['alice', 'brian', 'candace']  # 初始化未验证用户列表\n",
    "confirmed_users = []  # 创建存储已验证用户的空表\n",
    "\n",
    "while unconfirmed_users:\n",
    "    current_user = unconfirmed_users.pop()  # 从未验证用户列表中取出一个用户\n",
    "    print(f\"Vertfying user: {current_user.title()}\")  # 验证当前用户\n",
    "    confirmed_users.append(current_user)  # 将用户添加到已验证用户列表中\n",
    "\n",
    "print(f\"\\nThe following users have been confirmed:\")\n",
    "for confirmed_user in confirmed_users:\n",
    "    print(confirmed_user.title())"
   ]
  },
  {
   "cell_type": "markdown",
   "metadata": {},
   "source": []
  },
  {
   "cell_type": "markdown",
   "metadata": {},
   "source": []
  },
  {
   "cell_type": "code",
   "execution_count": 4,
   "metadata": {},
   "outputs": [
    {
     "name": "stdout",
     "output_type": "stream",
     "text": [
      "\n",
      "---Poll Results---\n",
      "en would like to climb en.\n",
      "\n",
      "---Poll Results---\n",
      "en would like to climb en.\n",
      " would like to climb s.\n",
      "\n",
      "---Poll Results---\n",
      "en would like to climb en.\n",
      " would like to climb .\n"
     ]
    },
    {
     "ename": "KeyboardInterrupt",
     "evalue": "Interrupted by user",
     "output_type": "error",
     "traceback": [
      "\u001b[0;31m---------------------------------------------------------------------------\u001b[0m",
      "\u001b[0;31mKeyboardInterrupt\u001b[0m                         Traceback (most recent call last)",
      "\u001b[1;32m/Users/sagawithme/Documents/Github/Coding-Crash/Py-Crash/ex-code/py-crash-EX.ipynb Cell 15'\u001b[0m in \u001b[0;36m<cell line: 4>\u001b[0;34m()\u001b[0m\n\u001b[1;32m      <a href='vscode-notebook-cell:/Users/sagawithme/Documents/Github/Coding-Crash/Py-Crash/ex-code/py-crash-EX.ipynb#ch0000006?line=1'>2</a>\u001b[0m polling_active \u001b[39m=\u001b[39m \u001b[39mTrue\u001b[39;00m  \u001b[39m# 设置一个标志，指出调查是否继续：\u001b[39;00m\n\u001b[1;32m      <a href='vscode-notebook-cell:/Users/sagawithme/Documents/Github/Coding-Crash/Py-Crash/ex-code/py-crash-EX.ipynb#ch0000006?line=3'>4</a>\u001b[0m \u001b[39mwhile\u001b[39;00m polling_active:  \u001b[39m# 提示输入被调查者的名字和回答：\u001b[39;00m\n\u001b[0;32m----> <a href='vscode-notebook-cell:/Users/sagawithme/Documents/Github/Coding-Crash/Py-Crash/ex-code/py-crash-EX.ipynb#ch0000006?line=5'>6</a>\u001b[0m     name \u001b[39m=\u001b[39m \u001b[39minput\u001b[39;49m(\u001b[39m\"\u001b[39;49m\u001b[39m\\n\u001b[39;49;00m\u001b[39mWhat is your name? \u001b[39;49m\u001b[39m\"\u001b[39;49m)\n\u001b[1;32m      <a href='vscode-notebook-cell:/Users/sagawithme/Documents/Github/Coding-Crash/Py-Crash/ex-code/py-crash-EX.ipynb#ch0000006?line=6'>7</a>\u001b[0m     response \u001b[39m=\u001b[39m \u001b[39minput\u001b[39m(\u001b[39m\"\u001b[39m\u001b[39mWhich moutain would you like to climb someday?\u001b[39m\u001b[39m\"\u001b[39m)\n\u001b[1;32m      <a href='vscode-notebook-cell:/Users/sagawithme/Documents/Github/Coding-Crash/Py-Crash/ex-code/py-crash-EX.ipynb#ch0000006?line=8'>9</a>\u001b[0m     responses[name] \u001b[39m=\u001b[39m response  \u001b[39m# 将答案存储在字典中\u001b[39;00m\n",
      "File \u001b[0;32m/opt/homebrew/Caskroom/mambaforge/base/envs/p39/lib/python3.10/site-packages/ipykernel/kernelbase.py:1076\u001b[0m, in \u001b[0;36mKernel.raw_input\u001b[0;34m(self, prompt)\u001b[0m\n\u001b[1;32m   <a href='file:///opt/homebrew/Caskroom/mambaforge/base/envs/p39/lib/python3.10/site-packages/ipykernel/kernelbase.py?line=1071'>1072</a>\u001b[0m \u001b[39mif\u001b[39;00m \u001b[39mnot\u001b[39;00m \u001b[39mself\u001b[39m\u001b[39m.\u001b[39m_allow_stdin:\n\u001b[1;32m   <a href='file:///opt/homebrew/Caskroom/mambaforge/base/envs/p39/lib/python3.10/site-packages/ipykernel/kernelbase.py?line=1072'>1073</a>\u001b[0m     \u001b[39mraise\u001b[39;00m StdinNotImplementedError(\n\u001b[1;32m   <a href='file:///opt/homebrew/Caskroom/mambaforge/base/envs/p39/lib/python3.10/site-packages/ipykernel/kernelbase.py?line=1073'>1074</a>\u001b[0m         \u001b[39m\"\u001b[39m\u001b[39mraw_input was called, but this frontend does not support input requests.\u001b[39m\u001b[39m\"\u001b[39m\n\u001b[1;32m   <a href='file:///opt/homebrew/Caskroom/mambaforge/base/envs/p39/lib/python3.10/site-packages/ipykernel/kernelbase.py?line=1074'>1075</a>\u001b[0m     )\n\u001b[0;32m-> <a href='file:///opt/homebrew/Caskroom/mambaforge/base/envs/p39/lib/python3.10/site-packages/ipykernel/kernelbase.py?line=1075'>1076</a>\u001b[0m \u001b[39mreturn\u001b[39;00m \u001b[39mself\u001b[39;49m\u001b[39m.\u001b[39;49m_input_request(\n\u001b[1;32m   <a href='file:///opt/homebrew/Caskroom/mambaforge/base/envs/p39/lib/python3.10/site-packages/ipykernel/kernelbase.py?line=1076'>1077</a>\u001b[0m     \u001b[39mstr\u001b[39;49m(prompt),\n\u001b[1;32m   <a href='file:///opt/homebrew/Caskroom/mambaforge/base/envs/p39/lib/python3.10/site-packages/ipykernel/kernelbase.py?line=1077'>1078</a>\u001b[0m     \u001b[39mself\u001b[39;49m\u001b[39m.\u001b[39;49m_parent_ident[\u001b[39m\"\u001b[39;49m\u001b[39mshell\u001b[39;49m\u001b[39m\"\u001b[39;49m],\n\u001b[1;32m   <a href='file:///opt/homebrew/Caskroom/mambaforge/base/envs/p39/lib/python3.10/site-packages/ipykernel/kernelbase.py?line=1078'>1079</a>\u001b[0m     \u001b[39mself\u001b[39;49m\u001b[39m.\u001b[39;49mget_parent(\u001b[39m\"\u001b[39;49m\u001b[39mshell\u001b[39;49m\u001b[39m\"\u001b[39;49m),\n\u001b[1;32m   <a href='file:///opt/homebrew/Caskroom/mambaforge/base/envs/p39/lib/python3.10/site-packages/ipykernel/kernelbase.py?line=1079'>1080</a>\u001b[0m     password\u001b[39m=\u001b[39;49m\u001b[39mFalse\u001b[39;49;00m,\n\u001b[1;32m   <a href='file:///opt/homebrew/Caskroom/mambaforge/base/envs/p39/lib/python3.10/site-packages/ipykernel/kernelbase.py?line=1080'>1081</a>\u001b[0m )\n",
      "File \u001b[0;32m/opt/homebrew/Caskroom/mambaforge/base/envs/p39/lib/python3.10/site-packages/ipykernel/kernelbase.py:1121\u001b[0m, in \u001b[0;36mKernel._input_request\u001b[0;34m(self, prompt, ident, parent, password)\u001b[0m\n\u001b[1;32m   <a href='file:///opt/homebrew/Caskroom/mambaforge/base/envs/p39/lib/python3.10/site-packages/ipykernel/kernelbase.py?line=1117'>1118</a>\u001b[0m             \u001b[39mbreak\u001b[39;00m\n\u001b[1;32m   <a href='file:///opt/homebrew/Caskroom/mambaforge/base/envs/p39/lib/python3.10/site-packages/ipykernel/kernelbase.py?line=1118'>1119</a>\u001b[0m \u001b[39mexcept\u001b[39;00m \u001b[39mKeyboardInterrupt\u001b[39;00m:\n\u001b[1;32m   <a href='file:///opt/homebrew/Caskroom/mambaforge/base/envs/p39/lib/python3.10/site-packages/ipykernel/kernelbase.py?line=1119'>1120</a>\u001b[0m     \u001b[39m# re-raise KeyboardInterrupt, to truncate traceback\u001b[39;00m\n\u001b[0;32m-> <a href='file:///opt/homebrew/Caskroom/mambaforge/base/envs/p39/lib/python3.10/site-packages/ipykernel/kernelbase.py?line=1120'>1121</a>\u001b[0m     \u001b[39mraise\u001b[39;00m \u001b[39mKeyboardInterrupt\u001b[39;00m(\u001b[39m\"\u001b[39m\u001b[39mInterrupted by user\u001b[39m\u001b[39m\"\u001b[39m) \u001b[39mfrom\u001b[39;00m \u001b[39mNone\u001b[39m\n\u001b[1;32m   <a href='file:///opt/homebrew/Caskroom/mambaforge/base/envs/p39/lib/python3.10/site-packages/ipykernel/kernelbase.py?line=1121'>1122</a>\u001b[0m \u001b[39mexcept\u001b[39;00m \u001b[39mException\u001b[39;00m:\n\u001b[1;32m   <a href='file:///opt/homebrew/Caskroom/mambaforge/base/envs/p39/lib/python3.10/site-packages/ipykernel/kernelbase.py?line=1122'>1123</a>\u001b[0m     \u001b[39mself\u001b[39m\u001b[39m.\u001b[39mlog\u001b[39m.\u001b[39mwarning(\u001b[39m\"\u001b[39m\u001b[39mInvalid Message:\u001b[39m\u001b[39m\"\u001b[39m, exc_info\u001b[39m=\u001b[39m\u001b[39mTrue\u001b[39;00m)\n",
      "\u001b[0;31mKeyboardInterrupt\u001b[0m: Interrupted by user"
     ]
    }
   ],
   "source": [
    "responses = {}  # 创建一个空字典\n",
    "polling_active = True  # 设置一个标志，指出调查是否继续：\n",
    "\n",
    "while polling_active:  # 提示输入被调查者的名字和回答：\n",
    "\n",
    "    name = input(\"\\nWhat is your name? \")\n",
    "    response = input(\"Which moutain would you like to climb someday?\")\n",
    "\n",
    "    responses[name] = response  # 将答案存储在字典中\n",
    "\n",
    "    repeat = input(\"Would you like to let another person respond?(Yes/No)?\")\n",
    "    if repeat == 'no':\n",
    "        polling_active = False\n",
    "\n",
    "    print(\"\\n---Poll Results---\")\n",
    "    for name, response in responses.items():\n",
    "        print(f\"{name} would like to climb {response}.\")"
   ]
  },
  {
   "cell_type": "code",
   "execution_count": null,
   "metadata": {},
   "outputs": [
    {
     "name": "stdout",
     "output_type": "stream",
     "text": [
      "\n",
      "I made your pastrami sandwich.\n",
      "\n",
      "I made your chicken sandwich.\n",
      "\n",
      "I made your peanut butter sandwich.\n",
      "\n",
      "I made your cheese sandwich.\n",
      "\n",
      "I made your ham sandwich.\n",
      "\n",
      "I made your following sandwiches:\n",
      "Pastrami sandwich\n",
      "Chicken sandwich\n",
      "Peanut Butter sandwich\n",
      "Cheese sandwich\n",
      "Ham sandwich\n"
     ]
    }
   ],
   "source": [
    "sandwiches_ordes = ['ham', 'cheese', 'peanut butter', 'chicken', 'pastrami']\n",
    "finished_sandwiches = []\n",
    "\n",
    "while sandwiches_ordes:\n",
    "    sandwich = sandwiches_ordes.pop()\n",
    "    print(f\"\\nI made your {sandwich} sandwich.\")\n",
    "    finished_sandwiches.append(sandwich)\n",
    "\n",
    "print(\"\\nI made your following sandwiches:\")\n",
    "for sandwich in finished_sandwiches:\n",
    "    print(f\"{sandwich.title()} sandwich\")"
   ]
  },
  {
   "cell_type": "code",
   "execution_count": null,
   "metadata": {},
   "outputs": [
    {
     "name": "stdout",
     "output_type": "stream",
     "text": [
      "We are out of pastrami.\n",
      "\n",
      "I made your chicken sandwich.\n",
      "\n",
      "I made your peanut butter sandwich.\n",
      "\n",
      "I made your cheese sandwich.\n",
      "\n",
      "I made your ham sandwich.\n",
      "\n",
      "I made your following sandwiches:\n",
      "Chicken sandwich\n",
      "Peanut Butter sandwich\n",
      "Cheese sandwich\n",
      "Ham sandwich\n"
     ]
    }
   ],
   "source": [
    "sandwiches_orders = [\n",
    "    'ham', 'pastrami', 'cheese', 'peanut butter', 'pastrami', 'chicken',\n",
    "    'pastrami'\n",
    "]\n",
    "\n",
    "finished_sandwiches = []\n",
    "\n",
    "print(\"We are out of pastrami.\")\n",
    "\n",
    "while 'pastrami' in sandwiches_orders:\n",
    "    sandwiches_orders.remove('pastrami')\n",
    "while sandwiches_orders:\n",
    "    sandwich = sandwiches_orders.pop()\n",
    "    print(f\"\\nI made your {sandwich} sandwich.\")\n",
    "    finished_sandwiches.append(sandwich)\n",
    "\n",
    "print(\"\\nI made your following sandwiches:\")\n",
    "for sandwich in finished_sandwiches:\n",
    "    print(f\"{sandwich.title()} sandwich\")\n"
   ]
  },
  {
   "cell_type": "code",
   "execution_count": null,
   "metadata": {},
   "outputs": [
    {
     "name": "stdout",
     "output_type": "stream",
     "text": [
      "beijing, nice choice@\n",
      "dongjing, nice choice@\n",
      "nanjing, nice choice@\n",
      "kaifeng, nice choice@\n",
      "kkk, nice choice@\n",
      "llll, nice choice@\n",
      "\n",
      "Here is the list you guys want to go:\n",
      "{'mike': 'beijing', 'lily': 'dongjing', 'lucy': 'nanjing', 'kitty': 'kaifeng', 'lll': 'kkk', 'dddd': 'llll'}\n"
     ]
    }
   ],
   "source": [
    "places_to_go = {} # set an empty dictionary\n",
    "\n",
    "while True:\n",
    "    name = input(\"What's your name? (Enter 'quit' to leave)\")\n",
    "    if name == \"quit\":\n",
    "        break\n",
    "        print(f\"\\nHere is the list you guys want to go:\")\n",
    "        print(places_to_go)\n",
    "    else:\n",
    "        location = input(\n",
    "            f\"\\nHi {name.title()}! If you could visit one place in the world, where would you go?\\nEnter 'quit' to finish.\"\n",
    "        )\n",
    "        if location == 'quit':\n",
    "            break\n",
    "            print(f\"\\nHere is the list you guys want to go:\")\n",
    "            print(places_to_go)\n",
    "\n",
    "        else:\n",
    "            places_to_go[\n",
    "                name] = location  # store the location in the dictionary\n",
    "            print(f\"{location.title()}, nice choice!\")\n",
    "\n",
    "print(f\"\\nHere is the list you guys want to go:\")\n",
    "print(places_to_go)\n"
   ]
  },
  {
   "cell_type": "markdown",
   "metadata": {},
   "source": [
    "## Chap 10"
   ]
  },
  {
   "cell_type": "code",
   "execution_count": null,
   "metadata": {},
   "outputs": [
    {
     "name": "stdout",
     "output_type": "stream",
     "text": [
      "3.1415926535 \n",
      "  8979323846 \n",
      "  2643383279\n",
      "\n"
     ]
    }
   ],
   "source": [
    "with open('pi_digits.txt') as file_object:\n",
    "    contents = file_object.read()\n",
    "print(contents)"
   ]
  },
  {
   "cell_type": "code",
   "execution_count": null,
   "metadata": {},
   "outputs": [
    {
     "name": "stdout",
     "output_type": "stream",
     "text": [
      "3.1415926535\n",
      "  8979323846\n",
      "  2643383279\n"
     ]
    }
   ],
   "source": [
    "file_name = 'pi_digits.txt'\n",
    "with open(file_name) as file_object:\n",
    "    for line in file_object:\n",
    "        print(line.rstrip())"
   ]
  },
  {
   "cell_type": "code",
   "execution_count": null,
   "metadata": {},
   "outputs": [
    {
     "name": "stdout",
     "output_type": "stream",
     "text": [
      "3.1415926535\n",
      "  8979323846\n",
      "  2643383279\n"
     ]
    }
   ],
   "source": [
    "file_name = 'pi_digits.txt'\n",
    "\n",
    "with open(file_name) as file_object:\n",
    "    lines = file_object.readlines()\n",
    "\n",
    "for line in lines:\n",
    "    print(line.rstrip())\n"
   ]
  },
  {
   "cell_type": "code",
   "execution_count": null,
   "metadata": {},
   "outputs": [
    {
     "name": "stdout",
     "output_type": "stream",
     "text": [
      "3.141592653589793238462643383279\n",
      "32\n"
     ]
    }
   ],
   "source": [
    "file_name = 'pi_digits.txt'\n",
    "\n",
    "with open(file_name) as file_object:\n",
    "    lines = file_object.readlines()\n",
    "\n",
    "pi_string = ''  # 创建了一个（空）变量pi_string ,用于指向圆周率的值\n",
    "\n",
    "for line in lines:\n",
    "    pi_string += line.strip()\n",
    "\n",
    "print(pi_string)\n",
    "print(len(pi_string))"
   ]
  },
  {
   "cell_type": "code",
   "execution_count": null,
   "metadata": {},
   "outputs": [
    {
     "name": "stdout",
     "output_type": "stream",
     "text": [
      "3.14159265358979323846264338327950288419716939937510...后面省略hhh\n",
      "1000002\n"
     ]
    }
   ],
   "source": [
    "file_name = 'pi_million_digits.txt'\n",
    "\n",
    "with open(file_name) as file_object:\n",
    "    lines = file_object.readlines()\n",
    "\n",
    "pi_string = ''  # 创建了一个（空）变量pi_string ,用于指向圆周率的值\n",
    "\n",
    "for line in lines:\n",
    "    pi_string += line.strip()\n",
    "\n",
    "print(f\"{pi_string[:52]}...后面省略hhh\")\n",
    "print(len(pi_string))"
   ]
  },
  {
   "cell_type": "code",
   "execution_count": null,
   "metadata": {},
   "outputs": [
    {
     "name": "stdout",
     "output_type": "stream",
     "text": [
      "Your birthday does not appear in the first million digits of pi.\n"
     ]
    }
   ],
   "source": [
    "## 运行前取消注释\n",
    "\n",
    "# file_name = 'pi_million_digits.txt'\n",
    "\n",
    "# with open(file_name) as file_object:\n",
    "#     lines = file_object.readlines()\n",
    "\n",
    "# pi_string = ''  # 创建了一个（空）变量pi_string ,用于指向圆周率的值\n",
    "\n",
    "# for line in lines:\n",
    "#     pi_string += line.strip()\n",
    "\n",
    "# birthday = input(\"Enter your birthday, in the form mmddyy: \")\n",
    "\n",
    "# if birthday in pi_string:\n",
    "#     print(\"Your birthday appears in the first million digits of pi!\")\n",
    "#     print(f\"It is at the {pi_string.find(birthday)}th position of Pi.\")\n",
    "# else:\n",
    "#     print(\"Your birthday does not appear in the first million digits of pi.\")"
   ]
  },
  {
   "cell_type": "code",
   "execution_count": null,
   "metadata": {},
   "outputs": [],
   "source": [
    "file_name = 'programming.txt'\n",
    "with open(file_name, 'w') as file_object:\n",
    "    file_object.write(\"I love programming.\")"
   ]
  },
  {
   "cell_type": "code",
   "execution_count": null,
   "metadata": {},
   "outputs": [],
   "source": [
    "file_name = 'programming.txt'\n",
    "with open(file_name, 'w') as file_object:\n",
    "    file_object.write(\"I love programming.\\n\")\n",
    "    file_object.write(\"I love creating new games.\\n\")"
   ]
  },
  {
   "cell_type": "code",
   "execution_count": null,
   "metadata": {},
   "outputs": [],
   "source": [
    "file_name = 'programming.txt'\n",
    "with open(file_name, 'a') as file_object:\n",
    "    file_object.write(\"I love finding meaning in large datasets.\\n\")\n",
    "    file_object.write(\"I love creating apps that can run in a browser.\\n\")"
   ]
  },
  {
   "cell_type": "code",
   "execution_count": null,
   "metadata": {},
   "outputs": [
    {
     "name": "stdout",
     "output_type": "stream",
     "text": [
      "\n",
      "Reading cats.txt...\n",
      "henry \n",
      "clarence\n",
      "mildred\n",
      "\n",
      "Reading dogs.txt...\n",
      "willie \n",
      "annahootz \n",
      "summit\n",
      "\n",
      "Reading bears.txt...\n",
      "Sorry, the file bears.txt does not exist.\n"
     ]
    }
   ],
   "source": [
    "file_names = [\"cats.txt\", \"dogs.txt\", \"bears.txt\"]\n",
    "\n",
    "for filename in file_names:\n",
    "    print(f\"\\nReading {filename}...\")\n",
    "    try:\n",
    "        with open(filename) as f:\n",
    "            contents = f.read()\n",
    "            print(contents)\n",
    "    except FileNotFoundError:\n",
    "        print(f\"Sorry, the file {filename} does not exist.\")\n"
   ]
  },
  {
   "cell_type": "code",
   "execution_count": null,
   "metadata": {},
   "outputs": [],
   "source": [
    "file_names = [\"cats.txt\", \"dogs.txt\", \"bears.txt\"]\n",
    "\n",
    "for filename in file_names:\n",
    "    print(f\"\\nReading {filename}...\")\n",
    "    try:\n",
    "        with open(filename) as f:\n",
    "            contents = f.read()\n",
    "            print(contents)\n",
    "    except FileNotFoundError:\n",
    "        print(f\"Sorry, the file {filename} does not exist.\")\n"
   ]
  },
  {
   "cell_type": "code",
   "execution_count": null,
   "metadata": {},
   "outputs": [
    {
     "name": "stdout",
     "output_type": "stream",
     "text": [
      "\n",
      "Reading cats.txt...\n",
      "henry \n",
      "clarence\n",
      "mildred\n",
      "\n",
      "Reading dogs.txt...\n",
      "willie \n",
      "annahootz \n",
      "summit\n",
      "\n",
      "Reading bears.txt...\n"
     ]
    }
   ],
   "source": [
    "file_names = [\"cats.txt\", \"dogs.txt\", \"bears.txt\"]\n",
    "\n",
    "for filename in file_names:\n",
    "    print(f\"\\nReading {filename}...\")\n",
    "    try:\n",
    "        with open(filename) as f:\n",
    "            contents = f.read()\n",
    "            print(contents)\n",
    "    except FileNotFoundError:\n",
    "        pass"
   ]
  },
  {
   "cell_type": "code",
   "execution_count": null,
   "metadata": {},
   "outputs": [
    {
     "name": "stdout",
     "output_type": "stream",
     "text": [
      "The file fightclub.txt has about 13228 words.\n"
     ]
    }
   ],
   "source": [
    "def count_words(filename):\n",
    "    try:\n",
    "        with open(filename, encoding='utf8') as f:\n",
    "            contents = f.read()\n",
    "    except FileNotFoundError:\n",
    "        pass\n",
    "    else:\n",
    "        # 计算文件大致包含多少个单词\n",
    "        words = contents.split()\n",
    "        num_words = len(words)\n",
    "        print(f\"The file {filename} has about {num_words} words.\")\n",
    "\n",
    "\n",
    "file_name = 'fightclub.txt'\n",
    "count_words(file_name)"
   ]
  },
  {
   "cell_type": "code",
   "execution_count": null,
   "metadata": {},
   "outputs": [
    {
     "name": "stdout",
     "output_type": "stream",
     "text": [
      "The file fightclub.txt has about 13228 words.\n",
      "The word durden appears 17 times in the file fightclub.txt.\n"
     ]
    }
   ],
   "source": [
    "def common_words(filename,word):\n",
    "    \"\"\"计算指定单词在书中出现了多少次\"\"\"\n",
    "    try:\n",
    "        with open(filename, encoding='utf8') as f:\n",
    "            contents = f.read()\n",
    "    except FileNotFoundError:\n",
    "        pass\n",
    "    else:\n",
    "        num_words = len(contents.split())\n",
    "        print(f\"The file {filename} has about {num_words} words.\")\n",
    "        words = contents.lower().count(word)\n",
    "        print(f\"The word {word} appears {words} times in the file {filename}.\")\n",
    "\n",
    "\n",
    "file_name = 'fightclub.txt'\n",
    "common_words(file_name, 'durden')\n",
    "# common_words(file_name,'the')\n",
    "# common_words(file_name, 'fuck')\n",
    "# common_words(file_name, 'love')\n",
    "# common_words(file_name, 'fight')\n",
    "# common_words(file_name, 'club')\n",
    "# common_words(file_name, 'house')\n",
    "# common_words(file_name, 'something')\n",
    "# common_words(file_name, 'bob')\n",
    "# common_words(file_name, 'death')"
   ]
  },
  {
   "cell_type": "code",
   "execution_count": null,
   "metadata": {},
   "outputs": [
    {
     "ename": "NameError",
     "evalue": "name 'contents' is not defined",
     "output_type": "error",
     "traceback": [
      "\u001b[0;31m---------------------------------------------------------------------------\u001b[0m",
      "\u001b[0;31mNameError\u001b[0m                                 Traceback (most recent call last)",
      "Input \u001b[0;32mIn [4]\u001b[0m, in \u001b[0;36m<module>\u001b[0;34m\u001b[0m\n\u001b[1;32m      1\u001b[0m file_name \u001b[38;5;241m=\u001b[39m \u001b[38;5;124m'\u001b[39m\u001b[38;5;124mfightclub.txt\u001b[39m\u001b[38;5;124m'\u001b[39m\n\u001b[1;32m      4\u001b[0m \u001b[38;5;66;03m# 计算文件大致包含多少个单词\u001b[39;00m\n\u001b[0;32m----> 5\u001b[0m words \u001b[38;5;241m=\u001b[39m \u001b[43mcontents\u001b[49m\u001b[38;5;241m.\u001b[39msplit()\n\u001b[1;32m      6\u001b[0m num_words \u001b[38;5;241m=\u001b[39m \u001b[38;5;28mlen\u001b[39m(words)\n\u001b[1;32m      7\u001b[0m \u001b[38;5;28mprint\u001b[39m(\u001b[38;5;124mf\u001b[39m\u001b[38;5;124m\"\u001b[39m\u001b[38;5;124mThe file \u001b[39m\u001b[38;5;132;01m{\u001b[39;00mfile_name\u001b[38;5;132;01m}\u001b[39;00m\u001b[38;5;124m has abou\u001b[39m\u001b[38;5;132;01m{\u001b[39;00mnum_words\u001b[38;5;132;01m}\u001b[39;00m\u001b[38;5;124m words.\u001b[39m\u001b[38;5;124m\"\u001b[39m)\n",
      "\u001b[0;31mNameError\u001b[0m: name 'contents' is not defined"
     ]
    }
   ],
   "source": [
    "# file_name = 'fightclub.txt'\n",
    "\n",
    "\n",
    "# # 计算文件大致包含多少个单词\n",
    "# words = contents.split()\n",
    "# num_words = len(words)\n",
    "# print(f\"The file {file_name} has abou{num_words} words.\")"
   ]
  },
  {
   "cell_type": "code",
   "execution_count": null,
   "metadata": {},
   "outputs": [],
   "source": [
    "# file_name = 'guest.txt'\n",
    "# with open(file_name, 'w') as file_object:\n",
    "#     name = input(\"Name:\")\n",
    "#     file_object.write(name)"
   ]
  },
  {
   "cell_type": "code",
   "execution_count": null,
   "metadata": {},
   "outputs": [
    {
     "name": "stdout",
     "output_type": "stream",
     "text": [
      "Hello Ss!\n",
      "Hello Dd!\n",
      "Hello Aa!\n",
      "Hello Ff!\n",
      "Hello Gg!\n"
     ]
    }
   ],
   "source": [
    "# file_name = 'guest_book.txt'\n",
    "\n",
    "# while True:\n",
    "    \n",
    "#         name = input(\"Please enter your name: (Enter 'quit' to quit)\")\n",
    "#         if name == 'quit':\n",
    "#             break\n",
    "#         else:\n",
    "#             print(f\"Hello {name.title()}!\")\n",
    "#             with open(file_name, 'a') as object:\n",
    "#                 object.write(f\"\\n{name.title()}\")\n"
   ]
  },
  {
   "cell_type": "code",
   "execution_count": null,
   "metadata": {},
   "outputs": [
    {
     "name": "stdout",
     "output_type": "stream",
     "text": [
      "Hello Aa!\n",
      "Hello Ss!\n",
      "Hello Ww!\n",
      "Hello Ee!\n",
      "Hello Qq!\n"
     ]
    }
   ],
   "source": [
    "file_name = 'programming_poll.txt'\n",
    "\n",
    "while True:\n",
    "\n",
    "    name = input(\"Please enter your name: (Enter 'quit' to quit)\")\n",
    "    if name == 'quit':\n",
    "        break\n",
    "    else:\n",
    "        print(f\"Hello {name.title()}!\")\n",
    "        reason = input(\n",
    "            \"Please tell me why you like programming: (Enter 'quit' to quit)\")\n",
    "        with open(file_name, 'a') as object:\n",
    "            object.write(\n",
    "                f\"{name.title()}, reasons of liking programming: {reason.title()}\\n\"\n",
    "            )\n"
   ]
  },
  {
   "cell_type": "code",
   "execution_count": null,
   "metadata": {},
   "outputs": [],
   "source": []
  },
  {
   "cell_type": "code",
   "execution_count": null,
   "metadata": {},
   "outputs": [],
   "source": []
  },
  {
   "cell_type": "code",
   "execution_count": null,
   "metadata": {},
   "outputs": [],
   "source": []
  },
  {
   "cell_type": "code",
   "execution_count": null,
   "metadata": {},
   "outputs": [
    {
     "name": "stdout",
     "output_type": "stream",
     "text": [
      "Give me 2 numbers and I will divide them.\n",
      "Enter 'q' to quit.\n",
      "0.5\n"
     ]
    }
   ],
   "source": [
    "print(\"Give me 2 numbers and I will divide them.\\nEnter 'q' to quit.\")\n",
    "\n",
    "while True:\n",
    "    first_number = input(\"\\nFirst number:\")\n",
    "    if first_number == \"q\":\n",
    "        break\n",
    "    second_number = input(\"\\nSecond number:\")\n",
    "    if second_number == \"q\":\n",
    "        break\n",
    "    try:\n",
    "        answer = int(first_number) / int(second_number)\n",
    "    except ZeroDivisionError: \n",
    "        print(\"You can not divide by 0.\")\n",
    "    else:\n",
    "        print(answer)"
   ]
  },
  {
   "cell_type": "code",
   "execution_count": null,
   "metadata": {},
   "outputs": [],
   "source": [
    "# # PLUS\n",
    "# print(\"Give me 2 numbers and I will add them.\\nEnter 'q' to quit.\")\n",
    "\n",
    "# while True:\n",
    "#     try:\n",
    "#         first_number = int(input(\"\\nFirst number： (Enter 'q' to quit)\"))\n",
    "#         if first_number == 'q':\n",
    "#             break\n",
    "#     except ValueError:\n",
    "#         print(\"Please enter a number.\")\n",
    "    \n",
    "#     try:\n",
    "#         second_number = int(input(\"\\nSecond number： (Enter 'q' to quit)\"))\n",
    "#         if second_number == 'q':\n",
    "#             break\n",
    "#     except ValueError:\n",
    "#         print(\"Please enter a number.\")\n",
    "#     answer = first_number + second_number\n",
    "#     print(answer)\n",
    "# 有点问题，停不下来\n"
   ]
  },
  {
   "cell_type": "code",
   "execution_count": null,
   "metadata": {},
   "outputs": [
    {
     "name": "stdout",
     "output_type": "stream",
     "text": [
      "The sum of 1 and 2 is 3.\n"
     ]
    }
   ],
   "source": [
    "try:\n",
    "    x = int(input(\"Please enter the first number: \"))\n",
    "    y = int(input(\"Please enter the second number: \"))\n",
    "except ValueError:\n",
    "    print(\"Please enter a number.\")\n",
    "else:\n",
    "    sum = x + y\n",
    "\n",
    "print(f\"The sum of {x} and {y} is {sum}.\")"
   ]
  },
  {
   "cell_type": "code",
   "execution_count": null,
   "metadata": {},
   "outputs": [
    {
     "name": "stdout",
     "output_type": "stream",
     "text": [
      "Give me 2 numbers and I will add them.\n",
      "Enter 'q' to quit.\n",
      "3\n"
     ]
    }
   ],
   "source": [
    "print(\"Give me 2 numbers and I will add them.\\nEnter 'q' to quit.\")\n",
    "\n",
    "while True:\n",
    "    first_number = input(\"\\nFirst number:\")\n",
    "    if first_number == \"q\":\n",
    "        break\n",
    "    second_number = input(\"\\nSecond number:\")\n",
    "    if second_number == \"q\":\n",
    "        break\n",
    "    try:\n",
    "        answer = int(first_number) + int(second_number)\n",
    "    except TypeError:\n",
    "        print(\"You need to enter a number.\")\n",
    "    else:\n",
    "        print(answer)"
   ]
  },
  {
   "cell_type": "code",
   "execution_count": null,
   "metadata": {},
   "outputs": [],
   "source": []
  },
  {
   "cell_type": "code",
   "execution_count": null,
   "metadata": {},
   "outputs": [],
   "source": []
  },
  {
   "cell_type": "code",
   "execution_count": null,
   "metadata": {},
   "outputs": [],
   "source": []
  },
  {
   "cell_type": "code",
   "execution_count": null,
   "metadata": {},
   "outputs": [
    {
     "name": "stdout",
     "output_type": "stream",
     "text": [
      "Sorry, the file alice.txt does not exist.\n"
     ]
    }
   ],
   "source": [
    "file_name = 'alice.txt'\n",
    "\n",
    "try:\n",
    "    with open(file_name,encoding='utf8') as f:\n",
    "        contents =f.read()\n",
    "except FileNotFoundError:\n",
    "    print(f\"Sorry, the file {file_name} does not exist.\")"
   ]
  },
  {
   "cell_type": "code",
   "execution_count": null,
   "metadata": {},
   "outputs": [
    {
     "name": "stdout",
     "output_type": "stream",
     "text": [
      "The file alice.txt has about 29465 words.\n"
     ]
    }
   ],
   "source": [
    "file_name = 'alice.txt'\n",
    "\n",
    "try:\n",
    "    with open(file_name,encoding='utf8') as f:\n",
    "        contents =f.read()\n",
    "except FileNotFoundError:\n",
    "        print(f\"Sorry, the file {file_name} does not exist.\")\n",
    "else:\n",
    "        # 计算文件大致包含多少个单词\n",
    "        words = contents.split()\n",
    "        num_words = len(words)\n",
    "        print(f\"The file {file_name} has about {num_words} words.\")"
   ]
  },
  {
   "cell_type": "code",
   "execution_count": null,
   "metadata": {},
   "outputs": [
    {
     "name": "stdout",
     "output_type": "stream",
     "text": [
      "The file alice.txt has about 29465 words.\n"
     ]
    }
   ],
   "source": [
    "def count_words(filename):\n",
    "    try:\n",
    "        with open(filename,encoding='utf8') as f:\n",
    "            contents =f.read()\n",
    "    except FileNotFoundError:\n",
    "        print(f\"Sorry, the file {filename} does not exist.\")\n",
    "    else:\n",
    "        # 计算文件大致包含多少个单词\n",
    "        words = contents.split()\n",
    "        num_words = len(words)\n",
    "        print(f\"The file {filename} has about {num_words} words.\")\n",
    "\n",
    "\n",
    "file_name = 'alice.txt'\n",
    "count_words(file_name)"
   ]
  },
  {
   "cell_type": "code",
   "execution_count": null,
   "metadata": {},
   "outputs": [
    {
     "name": "stdout",
     "output_type": "stream",
     "text": [
      "The file alice.txt has about 29465 words.\n"
     ]
    }
   ],
   "source": [
    "# 静默失败pass\n",
    "def count_words(filename):\n",
    "    try:\n",
    "        with open(filename, encoding='utf8') as f:\n",
    "            contents = f.read()\n",
    "    except FileNotFoundError:\n",
    "        pass\n",
    "    else:\n",
    "        # 计算文件大致包含多少个单词\n",
    "        words = contents.split()\n",
    "        num_words = len(words)\n",
    "        print(f\"The file {filename} has about {num_words} words.\")\n",
    "\n",
    "file_names = ['alice.txt','siddhartha.txt','moby_dick.txt','little_women.txt']\n",
    "\n",
    "for filename in file_names:\n",
    "    count_words(filename)"
   ]
  },
  {
   "cell_type": "code",
   "execution_count": null,
   "metadata": {},
   "outputs": [],
   "source": []
  },
  {
   "cell_type": "code",
   "execution_count": null,
   "metadata": {},
   "outputs": [
    {
     "name": "stdout",
     "output_type": "stream",
     "text": [
      "We'll remember you when you  come back, 11!\n"
     ]
    }
   ],
   "source": [
    "import json\n",
    "\n",
    "username = input(\"What is your name? \")\n",
    "\n",
    "filename = 'username.json'\n",
    "\n",
    "with open(filename,'w') as f:\n",
    "    json.dump(username,f)\n",
    "    print(f\"We'll remember you when you  come back, {username}!\")"
   ]
  },
  {
   "cell_type": "code",
   "execution_count": null,
   "metadata": {},
   "outputs": [
    {
     "name": "stdout",
     "output_type": "stream",
     "text": [
      "We'll remember you when you  come back, hh!\n"
     ]
    }
   ],
   "source": [
    "import json\n",
    "# 如果以前存储了用户名,就加载它。\n",
    "# 否则,提示用户输入用户名并存储它。\n",
    "filename = 'username0.json'\n",
    "\n",
    "try:\n",
    "    with open(filename) as f:\n",
    "        username = json.load(f)\n",
    "except FileNotFoundError:\n",
    "    username = input(\"What is your name? \")\n",
    "    with open(filename, 'w') as f:\n",
    "        json.dump(username, f)\n",
    "        print(f\"We'll remember you when you  come back, {username}!\")\n",
    "else:\n",
    "    print(f\"Welcome back, {username}!\")"
   ]
  },
  {
   "cell_type": "code",
   "execution_count": null,
   "metadata": {},
   "outputs": [
    {
     "name": "stdout",
     "output_type": "stream",
     "text": [
      "Welcome back, 11!\n"
     ]
    }
   ],
   "source": [
    "import json\n",
    "\n",
    "def greet_user():\n",
    "    \"\"\"问候用户，并指出其名字\"\"\"\n",
    "    filename = 'username.json'\n",
    "    try:\n",
    "        with open(filename) as f:\n",
    "            username = json.load(f)\n",
    "    except FileNotFoundError:\n",
    "        username = input(\"What is your name? \")\n",
    "        with open(filename,'w') as f:\n",
    "            print(f\"We'll Remember you when you come back, {username}!\")\n",
    "\n",
    "    else:\n",
    "        print(f\"Welcome back, {username}!\")\n",
    "\n",
    "greet_user()\n"
   ]
  },
  {
   "cell_type": "code",
   "execution_count": null,
   "metadata": {},
   "outputs": [
    {
     "name": "stdout",
     "output_type": "stream",
     "text": [
      "Welcome back! 11!\n"
     ]
    }
   ],
   "source": [
    "import json\n",
    "\n",
    "def get_stored_username():\n",
    "    \"\"\"如果存储了用户名，就获取它\"\"\"\n",
    "    filename = 'username.json'\n",
    "    try:\n",
    "        with open(filename) as f:\n",
    "            username = json.load(f)\n",
    "    except FileNotFoundError:\n",
    "        return None\n",
    "    else: \n",
    "        return username\n",
    "\n",
    "def greet_user():\n",
    "    \"\"\"问候用户，并指出其名字\"\"\"\n",
    "    username = get_stored_username()\n",
    "    if username:\n",
    "        print(f\"Welcome back! {username}!\")\n",
    "    else:\n",
    "        username = input(\"Enter your username: \")\n",
    "        filename = 'username.json'\n",
    "        with open(filename, 'w') as f:\n",
    "            json.dump(username,f)\n",
    "            print(f\"We'll remember you when you come back, {username}!\")\n",
    "\n",
    "greet_user()\n",
    "\n",
    "    "
   ]
  },
  {
   "cell_type": "code",
   "execution_count": null,
   "metadata": {},
   "outputs": [],
   "source": []
  },
  {
   "cell_type": "code",
   "execution_count": null,
   "metadata": {},
   "outputs": [],
   "source": []
  },
  {
   "cell_type": "code",
   "execution_count": null,
   "metadata": {},
   "outputs": [],
   "source": []
  },
  {
   "cell_type": "code",
   "execution_count": null,
   "metadata": {},
   "outputs": [],
   "source": []
  },
  {
   "cell_type": "code",
   "execution_count": null,
   "metadata": {},
   "outputs": [],
   "source": []
  }
 ],
 "metadata": {
  "interpreter": {
   "hash": "daabc12b7e82262630a7e373b09e73b659ba21f5700e5baa669a48eb8260a031"
  },
  "kernelspec": {
   "display_name": "Python 3 (ipykernel)",
   "language": "python",
   "name": "python3"
  },
  "language_info": {
   "codemirror_mode": {
    "name": "ipython",
    "version": 3
   },
   "file_extension": ".py",
   "mimetype": "text/x-python",
   "name": "python",
   "nbconvert_exporter": "python",
   "pygments_lexer": "ipython3",
   "version": "3.10.2"
  }
 },
 "nbformat": 4,
 "nbformat_minor": 4
}
