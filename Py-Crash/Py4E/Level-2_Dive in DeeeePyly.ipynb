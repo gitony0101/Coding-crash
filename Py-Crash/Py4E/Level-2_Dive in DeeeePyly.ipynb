{
 "cells": [
  {
   "cell_type": "markdown",
   "source": [
    "# Dive in DeeeePyly"
   ],
   "metadata": {}
  },
  {
   "cell_type": "markdown",
   "source": [
    "## Optional Positional Arguments `*args` and Keyword Arguments `**kwargs`\n",
    "\n",
    "\n",
    "[args and kwargs](https://realpython.com/python-kwargs-and-args/#using-the-python-kwargs-variable-in-function-definitions)\n",
    "\n",
    "\n",
    "    1.)*args (Non-Keyword Arguments)\n",
    "\n",
    "    2.)**kwargs (Keyword Arguments)\n",
    "\n",
    "\n",
    "- Passing Multiple Arguments to a Function\n",
    "\n",
    "- Using the Python args Variable in Function Definitions\n",
    "\n",
    "- Using the Python kwargs Variable in Function Definitions\n",
    "\n",
    "- Ordering Arguments in a Function\n",
    "\n",
    "- Unpacking With the Asterisk Operators: * & **\n",
    "\n",
    "\n",
    "\n"
   ],
   "metadata": {}
  },
  {
   "cell_type": "markdown",
   "source": [
    "### Passing Multiple Arguments to a Function\n",
    "\n",
    "**`*args and **kwargs`** allow you to pass multiple arguments or keyword arguments to a function.\n",
    "\n",
    "Consider the following example. This is a simple function that takes two arguments and returns their sum:\n",
    "\n"
   ],
   "metadata": {}
  },
  {
   "cell_type": "code",
   "execution_count": 1,
   "source": [
    "def my_sum(a,b):\n",
    "    return a + b"
   ],
   "outputs": [],
   "metadata": {}
  },
  {
   "cell_type": "markdown",
   "source": [
    "This function works fine, but it’s limited to only **two arguments**. \n",
    "\n",
    "What if you need to sum a varying number of arguments, where the specific number of arguments passed is only determined at runtime?\n",
    "\n",
    "Wouldn’t it be great to create a function that could sum all the integers passed to it, no matter how many there are?"
   ],
   "metadata": {}
  },
  {
   "cell_type": "markdown",
   "source": [
    "### Using the Python args Variable in Function Definitions\n",
    "\n",
    "There are a few ways you can pass a varying number of arguments to a function. \n",
    "\n",
    "The first way is often the most intuitive for people that have experience with collections. \n",
    "\n",
    "You simply pass a list or a set of all the arguments to your function. So for my_sum(), you could pass a list of all the integers you need to add:"
   ],
   "metadata": {}
  },
  {
   "cell_type": "markdown",
   "source": [
    "#### sum_integers_list"
   ],
   "metadata": {}
  },
  {
   "cell_type": "code",
   "execution_count": 2,
   "source": [
    "def my_sum(my_integers):\n",
    "    result = 0 \n",
    "    for x in my_integers:\n",
    "        result += x\n",
    "    return result\n",
    "\n",
    "list_of_integers = [1,2,3]\n",
    "\n",
    "print(my_sum(list_of_integers))"
   ],
   "outputs": [
    {
     "output_type": "stream",
     "name": "stdout",
     "text": [
      "6\n"
     ]
    }
   ],
   "metadata": {}
  },
  {
   "cell_type": "code",
   "execution_count": 3,
   "source": [
    "def my_sum(my_integers):\n",
    "    result = 0\n",
    "    for x in my_integers:\n",
    "        result += x\n",
    "    return result\n",
    "\n",
    "list_of_integers = [8,9,7]\n",
    "\n",
    "print(my_sum(list_of_integers))"
   ],
   "outputs": [
    {
     "output_type": "stream",
     "name": "stdout",
     "text": [
      "24\n"
     ]
    }
   ],
   "metadata": {}
  },
  {
   "cell_type": "markdown",
   "source": [
    "This implementation works, but whenever you call this function you’ll also need to create a list of arguments to pass to it. \n",
    "\n",
    "This can be inconvenient where **`*args`** can be really useful, because it allows you to pass a varying number of positional arguments. \n",
    "\n",
    "Take the following example:"
   ],
   "metadata": {}
  },
  {
   "cell_type": "markdown",
   "source": [
    "#### sum_integers_args "
   ],
   "metadata": {}
  },
  {
   "cell_type": "code",
   "execution_count": 4,
   "source": [
    "def my_sum(*args):\n",
    "    result = 0\n",
    "    #Iterating over the Python args tuple:\n",
    "    for x in args:\n",
    "        result += x\n",
    "    return result\n",
    "\n",
    "print(my_sum(1,2,3))"
   ],
   "outputs": [
    {
     "output_type": "stream",
     "name": "stdout",
     "text": [
      "6\n"
     ]
    }
   ],
   "metadata": {}
  },
  {
   "cell_type": "code",
   "execution_count": 5,
   "source": [
    "def my_sum(*args):\n",
    "    result = 0\n",
    "    #Iterating over the Python args tuple:\n",
    "    for x in args:\n",
    "        result += x\n",
    "    return result\n",
    "\n",
    "print(my_sum(8,9,7))"
   ],
   "outputs": [
    {
     "output_type": "stream",
     "name": "stdout",
     "text": [
      "24\n"
     ]
    }
   ],
   "metadata": {}
  },
  {
   "cell_type": "markdown",
   "source": [
    "In this example, you’re no longer passing a list to `my_sum()`. Instead, you’re passing three different positional arguments. \n",
    "\n",
    "`my_sum()` takes all the parameters that are provided in the input and packs them all into a single iterable object named **`args`**.\n",
    "\n",
    "#### Note :*args is just a name.\n",
    "\n",
    "You’re not required to use the name args. You can choose any name that you prefer, such as **`*integers`**:"
   ],
   "metadata": {}
  },
  {
   "cell_type": "code",
   "execution_count": 6,
   "source": [
    "# sum_integers_args_2.py\n",
    "\n",
    "# here try another name values\n",
    "def my_sum(*values):#look at the star*\n",
    "    result = 0\n",
    "    for x in values:\n",
    "        result += x\n",
    "    return result\n",
    "\n",
    "print(my_sum(1,2,3))"
   ],
   "outputs": [
    {
     "output_type": "stream",
     "name": "stdout",
     "text": [
      "6\n"
     ]
    }
   ],
   "metadata": {}
  },
  {
   "cell_type": "markdown",
   "source": [
    "The function still works, even if you pass the iterable object as integers**(values)** instead of **args**. \n",
    "\n",
    "\n",
    "All that matters here is that you use the **unpacking operator (*)**.\n",
    "\n",
    "- Bear in mind that the iterable object you’ll get using the **`unpacking operator *`** is **[not a list but a tuple,which is IMMUTABLE!](https://realpython.com/python-lists-tuples/)**."
   ],
   "metadata": {}
  },
  {
   "cell_type": "markdown",
   "source": [
    "### Using the Python kwargs Variable in Function Definitions\n",
    "\n",
    "**` **kwargs`** works just like **`*args`**, \n",
    "\n",
    "but instead of accepting positional arguments it accepts keyword (or named) arguments. Take the following example:"
   ],
   "metadata": {}
  },
  {
   "cell_type": "code",
   "execution_count": 7,
   "source": [
    "# concatenate:\n",
    "\n",
    "def concatenate(**kwargs):\n",
    "    result= \"\" #cool here , you need know more\n",
    "    # firstly, this is an initialization\n",
    "    # Iterating over the Python kwargs dictionary\n",
    "    for arg in kwargs.values():\n",
    "        result += arg\n",
    "    return result\n",
    "\n",
    "print(concatenate(a=\"Keep Calm\",b=\" and \",c=\"Carry On\",d=\"!\"))"
   ],
   "outputs": [
    {
     "output_type": "stream",
     "name": "stdout",
     "text": [
      "Keep Calm and Carry On!\n"
     ]
    }
   ],
   "metadata": {}
  },
  {
   "cell_type": "markdown",
   "source": [
    "**Note:** \n",
    "\n",
    "In the example above the iterable object is a standard dict(). -----**Dictionary**\n",
    "\n",
    "If you iterate over the dictionary and want to **return its values**, like in the example shown, then you must use .values().\n",
    "\n",
    "In fact, if you forget to use this method, you will find yourself iterating through the **keys** of your **Python kwargs dictionary** instead, like in the following example:"
   ],
   "metadata": {}
  },
  {
   "cell_type": "code",
   "execution_count": 8,
   "source": [
    "# concatenate_keys.py\n",
    "\n",
    "def concatenate(**kwargs):\n",
    "    result = \"\"\n",
    "    # Interating over the keys of the Python kwargs dictionary\n",
    "    for arg in kwargs:######(different here)\n",
    "        result += arg\n",
    "    return result\n",
    "\n",
    "print(concatenate(a=\"Keep Calm\",b=\" and \",c=\"Carry On\",d=\"!!\"))"
   ],
   "outputs": [
    {
     "output_type": "stream",
     "name": "stdout",
     "text": [
      "abcd\n"
     ]
    }
   ],
   "metadata": {}
  },
  {
   "cell_type": "markdown",
   "source": [
    "As you can see, **if you don’t specify .values()**, your function will **iterate over the keys of your Python kwargs dictionary**, returning the wrong result."
   ],
   "metadata": {}
  },
  {
   "cell_type": "code",
   "execution_count": null,
   "source": [
    "def concatenate(**kwargs):\n",
    "    result = \"\"\n",
    "    # Interating over the keys of the Python kwargs dictionary\n",
    "    for arg in kwargs.values():####### seeeeeeeeeeeeee here!\n",
    "        result += arg\n",
    "    return result\n",
    "\n",
    "print(concatenate(a=\"Keep Calm\",b=\" and \",c=\"Carry On\",d=\"!!\"))"
   ],
   "outputs": [],
   "metadata": {}
  },
  {
   "cell_type": "markdown",
   "source": [
    "### Ordering Arguments in a Function\n",
    "\n",
    "Now that you have learned what **`*args and **kwargs`** are for.\n",
    "\n",
    "But what if you want to create a function that takes a changeable number of both positional and named arguments?\n",
    "\n",
    "In this case, you have to bear in mind that order counts. \n",
    "\n",
    "Just as non-default arguments have to precede default arguments, so **`*args must come before **kwargs`**.\n",
    "\n",
    "To recap, the correct order for your parameters is:\n",
    "\n",
    "    1.Standard arguments\n",
    "    \n",
    "    2.`*args` arguments\n",
    "    \n",
    "    3.`**kwargs` arguments\n",
    "\n",
    "For example, this function definition is correct:"
   ],
   "metadata": {}
  },
  {
   "cell_type": "code",
   "execution_count": null,
   "source": [
    "#correct_function_definition\n",
    "def my_function(a,b,*args,**kwargs):\n",
    "    pass"
   ],
   "outputs": [],
   "metadata": {}
  },
  {
   "cell_type": "markdown",
   "source": [
    "The **`*args`** variable is appropriately listed before **` **kwargs`**.\n",
    "\n",
    "\n",
    "But what if you try to modify the order of the arguments? "
   ],
   "metadata": {}
  },
  {
   "cell_type": "code",
   "execution_count": null,
   "source": [
    "# wrong_function_definition\n",
    "\n",
    "def my_function(a,b,**kwargs,*args):\n",
    "    pass"
   ],
   "outputs": [],
   "metadata": {}
  },
  {
   "cell_type": "code",
   "execution_count": null,
   "source": [
    "def person(name,age,**kw):\n",
    "    print('name : ',name,'age :',age,'other :',kw)\n",
    "\n",
    "person('Mike',30)"
   ],
   "outputs": [],
   "metadata": {}
  },
  {
   "cell_type": "code",
   "execution_count": null,
   "source": [
    "# you can package a dict then bring it to the func:\n",
    "extra = {'city':'beijing','job':'engineer'}\n",
    "person('Jack',24,**extra)"
   ],
   "outputs": [],
   "metadata": {}
  },
  {
   "cell_type": "markdown",
   "source": [
    "**In this case**\n",
    "\n",
    "The Python interpreter throws a SyntaxError since **`*args`** comes after **` **kwargs`**."
   ],
   "metadata": {}
  },
  {
   "cell_type": "markdown",
   "source": [
    "### Unpacking With the Asterisk Operators: `* & **`\n",
    "\n",
    "You are now able to use **`*args and **kwargs`** to define Python functions that take a varying number of input arguments. \n",
    "\n",
    "Go deeper to understand something more about the unpacking operators:\n",
    "\n",
    "The single and double asterisk unpacking operators were introduced in Python 2. As of the 3.5 release, they have become even more powerful, thanks to [PEP 448](https://www.python.org/dev/peps/pep-0448/). \n",
    "\n",
    "In short, the unpacking operators are operators that unpack the values from iterable objects in Python. \n",
    "\n",
    "- The single asterisk operator * can be used on any **iterable that Python provides**\n",
    "\n",
    "- The double asterisk operator ** can **only be used on dictionaries**.\n",
    "\n",
    "Let’s start with an example:"
   ],
   "metadata": {}
  },
  {
   "cell_type": "code",
   "execution_count": null,
   "source": [
    "# print_list.py\n",
    "my_list = [1, 2, 3]\n",
    "print(my_list)"
   ],
   "outputs": [],
   "metadata": {}
  },
  {
   "cell_type": "code",
   "execution_count": null,
   "source": [
    "# Now, try to prepend the unpacking operator * to the name of list:\n",
    "# print _unpacked_list\n",
    "\n",
    "my_list = [1,2,3]\n",
    "print(*my_list) #try one more star **my_list"
   ],
   "outputs": [],
   "metadata": {}
  },
  {
   "cell_type": "markdown",
   "source": [
    "Instead of a list, print() has taken three separate arguments as the input.\n",
    "\n",
    "print() takes all the items of a list as though they were **single arguments**.\n",
    "\n",
    "To test this behavior, consider this script:"
   ],
   "metadata": {}
  },
  {
   "cell_type": "code",
   "execution_count": null,
   "source": [
    "# unpacking_call.py\n",
    "def my_sum(a,b,c):\n",
    "    print(a+b+c)\n",
    "    \n",
    "my_list = [1,2,3]\n",
    "\n",
    "my_sum(**my_list)#check out the error:"
   ],
   "outputs": [],
   "metadata": {}
  },
  {
   "cell_type": "code",
   "execution_count": null,
   "source": [
    "# unpacking_call.py\n",
    "def my_sum(a,b,c):\n",
    "    print(a+b+c)\n",
    "    \n",
    "my_list = [1,2,3]\n",
    "\n",
    "my_sum(*my_list)"
   ],
   "outputs": [],
   "metadata": {}
  },
  {
   "cell_type": "markdown",
   "source": [
    "When you use the * operator to unpack a list and pass arguments to a function, it’s exactly as though you’re passing every single argument alone. \n",
    "\n",
    "This means that you can use multiple unpacking operators to get values from several lists and pass them all to a single function.\n",
    "\n",
    "To test this behavior, consider the following example:"
   ],
   "metadata": {}
  },
  {
   "cell_type": "code",
   "execution_count": null,
   "source": [
    "# sum_integers_args_3.py\n",
    "\n",
    "def my_sum(*args):\n",
    "    result = 0\n",
    "    for x in args:\n",
    "        result += x\n",
    "    return result\n",
    "\n",
    "list1 = [1,2,3]\n",
    "list2 = [4,5]\n",
    "list3 = [6,7,8,9]\n",
    "\n",
    "print(my_sum(*list1,*list2,*list3))"
   ],
   "outputs": [],
   "metadata": {}
  },
  {
   "cell_type": "markdown",
   "source": [
    "Run this example, all three lists are unpacked. Each individual item is passed to my_sum(), resulting in the following output 45"
   ],
   "metadata": {}
  },
  {
   "cell_type": "markdown",
   "source": [
    "#### Bonus 1: Extract the **first value, the last value, and all the values in between** in the list.\n",
    "\n",
    "For example, say you need to split a list into three different parts. \n",
    "\n",
    "The output should show the **first value, the last value, and all the values in between**.\n",
    "\n",
    "With the unpacking operator, you can do this in just one line of code:"
   ],
   "metadata": {}
  },
  {
   "cell_type": "code",
   "execution_count": null,
   "source": [
    "# extract_list_body.py\n",
    "\n",
    "my_list = [1,2,3,4,5,6]\n",
    "a,*b,c = my_list\n",
    "\n",
    "print(a)\n",
    "print(b)\n",
    "print(c)\n"
   ],
   "outputs": [],
   "metadata": {}
  },
  {
   "cell_type": "markdown",
   "source": [
    "#### Bonus 2: Merge two lists"
   ],
   "metadata": {}
  },
  {
   "cell_type": "code",
   "execution_count": null,
   "source": [
    "my_first_list = [1,2,3]\n",
    "my_second_list = [4,5,6]\n",
    "my_merged_list = [*my_first_list,my_second_list]\n",
    "print(my_merged_list)"
   ],
   "outputs": [],
   "metadata": {}
  },
  {
   "cell_type": "markdown",
   "source": [
    "Interesting error, here we can comprehend the meaning of asterisk operator *:\n",
    "\n",
    "   - extract the value from the list,if not the whole list.\n",
    "\n",
    "Now,show the right:"
   ],
   "metadata": {}
  },
  {
   "cell_type": "code",
   "execution_count": null,
   "source": [
    "my_first_list = [1,2,3]\n",
    "my_second_list = [4,5,6]\n",
    "my_merged_list = [*my_first_list,*my_second_list]\n",
    "                                # look at the star,look how it shines for you.\n",
    "print(my_merged_list)"
   ],
   "outputs": [],
   "metadata": {}
  },
  {
   "cell_type": "markdown",
   "source": [
    "#### Bonus 2.1: Merge two different dicionaries \n",
    "\n",
    "bu using the unpacking operator **:\n",
    "\n",
    "Again,feel the rules of double star:it works for the dictionaries.-dict()"
   ],
   "metadata": {}
  },
  {
   "cell_type": "code",
   "execution_count": null,
   "source": [
    "# Merg the dicts:\n",
    "\n",
    "my_first_dict = {\"A\":1,\"B\":2}\n",
    "my_second_dict={\"C\":3,\"D\":4}\n",
    "Third_list = {\"E\":5,\"F\":6}\n",
    "\n",
    "\n",
    "my_merged_dict = {**my_first_dict,**my_second_dict,**Third_list}\n",
    "\n",
    "print(my_merged_dict)"
   ],
   "outputs": [],
   "metadata": {}
  },
  {
   "cell_type": "markdown",
   "source": [
    "Yeah, not only two dicts, but also, more than two is OK!!"
   ],
   "metadata": {}
  },
  {
   "cell_type": "markdown",
   "source": [
    "### One star **` * `** boom for the string.\n",
    "\n",
    "Remember that the * operator works on **any iterable object**. It can also be used to unpack a string:"
   ],
   "metadata": {}
  },
  {
   "cell_type": "code",
   "execution_count": null,
   "source": [
    "a = [*\"Fly Emirates\"]\n",
    "print(a)"
   ],
   "outputs": [],
   "metadata": {}
  },
  {
   "cell_type": "markdown",
   "source": [
    "\"Fly Emirates\"----BoooooooM!----['F', 'l', 'y', ' ', 'E', 'm', 'i', 'r', 'a', 't', 'e', 's']"
   ],
   "metadata": {}
  },
  {
   "cell_type": "markdown",
   "source": [
    "#### Zen or Trick?\n",
    "\n",
    "The previous example seems great, but when you work with these operators,it’s important to keep in mind the seventh rule of The Zen of Python by Tim Peters: \n",
    "\n",
    "**Readability counts.**\n",
    "\n",
    "To see why, consider the following example:"
   ],
   "metadata": {}
  },
  {
   "cell_type": "code",
   "execution_count": null,
   "source": [
    "*a, = \"Fly Emirates\"\n",
    "print(a)"
   ],
   "outputs": [],
   "metadata": {}
  },
  {
   "cell_type": "markdown",
   "source": [
    "There’s the unpacking operator *, followed by a variable, **a comma, ** and an assignment. \n",
    "\n",
    "That’s a lot packed into one line! \n",
    "\n",
    "In fact, this code is no different from the previous example. \n",
    "\n",
    "It just takes the string RealPython and assigns all the items to the new list a, thanks to the **`unpacking operator *`**.\n",
    "\n",
    "\n",
    "**The comma after the a does the trick:**\n",
    "\n",
    "When you use the unpacking operator with variable assignment, Python requires that your resulting variable is **either a list or a tuple. **\n",
    "\n",
    "With the **trailing comma**, you have actually **defined a tuple** with just one named variable **a**.\n",
    "\n",
    "While this is a neat trick, many Pythonistas would **NOT** consider this code to be very readable.\n",
    "\n",
    "As such, **Take care!!! Be Cautious!!**\n",
    "\n",
    "it’s best to use these kinds of constructions sparingly."
   ],
   "metadata": {}
  },
  {
   "cell_type": "markdown",
   "source": [
    "### Summary for `*args` and `**kwargs`\n",
    "\n",
    "可变参数\n",
    "\n",
    "| Arguments           | expression                    | 调用                 |\n",
    "| -------------- | ----------------------- | -------------------- |\n",
    "| 可变参数       | 在参数前面加 `*args`    | 本质为一个参数 tuple |\n",
    "| 关键字参数:    | 在参数前面加 `**kwargs` | 本质为一个参数 dict  |\n",
    "| 命名关键字参数 | 在关键字参数前面加 `*`  | 可加入缺省值         |\n",
    "\n",
    "> 注意：在生成器上使用 `*` 操作符可能会导致程序跑出内存而崩溃。"
   ],
   "metadata": {}
  },
  {
   "cell_type": "markdown",
   "source": [
    "## Comprehensions and Generators"
   ],
   "metadata": {}
  },
  {
   "cell_type": "markdown",
   "source": [
    "**Comprehensions** can significantly increase the readability of code performing these common tasks and provide a number of other benefits.\n",
    "\n",
    "This style of processing is extended to functions with **generators**, which enable a stream of values to be incrementally returned by a function. \n",
    "\n",
    "The result of a call to a **generator function** can be used anywhere an iterator is appropriate (e.g., for loops, starred expressions). \n",
    "\n",
    "**Generators** can **improve performance, reduce memory usage, and increase readability**."
   ],
   "metadata": {}
  },
  {
   "cell_type": "markdown",
   "source": [
    "### List Comprehensions\n",
    "\n",
    "list comprehension:deriving a new list from another sequence or iterable,it let you easily filter items from the input list"
   ],
   "metadata": {}
  },
  {
   "cell_type": "markdown",
   "source": [
    "#### compare with map and lambda:"
   ],
   "metadata": {}
  },
  {
   "cell_type": "code",
   "execution_count": null,
   "source": [
    "a = [1, 2, 3, 4, 5, 6, 7, 8, 9, 10]"
   ],
   "outputs": [],
   "metadata": {}
  },
  {
   "cell_type": "code",
   "execution_count": null,
   "source": [
    "# loop sample:\n",
    "sqrs = []\n",
    "for x in a:\n",
    "    sqrs.append(x**2)\n",
    "    \n",
    "print(sqrs)"
   ],
   "outputs": [],
   "metadata": {}
  },
  {
   "cell_type": "code",
   "execution_count": null,
   "source": [
    "# list comprehension version\n",
    "sqrs = [x ** 2 for x in a]\n",
    "print(sqrs)"
   ],
   "outputs": [],
   "metadata": {}
  },
  {
   "cell_type": "code",
   "execution_count": null,
   "source": [
    "# yes we can code one line in lambda,too,while it is visually noisy:\n",
    "sqrs_l = map(lambda x:x **2 ,a)\n",
    "print(list(sqrs_l))"
   ],
   "outputs": [],
   "metadata": {}
  },
  {
   "cell_type": "code",
   "execution_count": null,
   "source": [
    "# Compute the squares of the numbers in the set a that are divisible by 2\n",
    "# map-lambda version:\n",
    "sqr_l = map(lambda x:x ** 2,filter(lambda x:x %2 ==0,a))\n",
    "print(list(sqr_l))"
   ],
   "outputs": [],
   "metadata": {}
  },
  {
   "cell_type": "code",
   "execution_count": null,
   "source": [
    "# list comprehension version:\n",
    "even_sqrs = [x ** 2 for x in a if x % 2 ==0]\n",
    "print(even_sqrs)"
   ],
   "outputs": [],
   "metadata": {}
  },
  {
   "cell_type": "markdown",
   "source": [
    "Now we need to comprehend why we define such list expressions as List **Comprehensions**"
   ],
   "metadata": {}
  },
  {
   "cell_type": "markdown",
   "source": [
    "#### Dictionary/Set/Other  Comprehensions"
   ],
   "metadata": {}
  },
  {
   "cell_type": "code",
   "execution_count": null,
   "source": [
    "# still the same mission:\n",
    "\n",
    "# Dictionary Comprehensions\n",
    "even_sqrs_dict = {x:x**2 for x in a if x % 2 == 0}#yes this is the dict\n",
    "#since it has the key x, then x : values\n",
    "print(even_sqrs_dict)"
   ],
   "outputs": [],
   "metadata": {}
  },
  {
   "cell_type": "code",
   "execution_count": null,
   "source": [
    "#Set Comprehensions\n",
    "three_cubed_st = {x**3 for x in a if x % 3 ==0 }# no x: ... any more,just set\n",
    "print(three_cubed_st)"
   ],
   "outputs": [],
   "metadata": {}
  },
  {
   "cell_type": "code",
   "execution_count": null,
   "source": [
    "# Multi iter:\n",
    "[m + n for m in \"ABC\" for n in \"XYZ\"]"
   ],
   "outputs": [],
   "metadata": {}
  },
  {
   "cell_type": "code",
   "execution_count": null,
   "source": [
    "# conditional comprehension:\n",
    "[i * i for i in range (1,11) if i % 2 ==0]"
   ],
   "outputs": [],
   "metadata": {}
  },
  {
   "cell_type": "markdown",
   "source": [
    "- List comprehensions are clearer than the map and filter built-in functions because they don’t require lambda expressions.\n",
    "\n",
    "\n",
    "- List comprehensions allow you to easily skip items from the input list, a behavior that map doesn’t support without help from filter.\n",
    "\n",
    "\n",
    "- Dictionaries and sets may also be created using comprehensions"
   ],
   "metadata": {}
  },
  {
   "cell_type": "markdown",
   "source": [
    "### Build Generator instead of larfe scale comprehensions\n",
    "\n",
    "\n",
    "- method 1: change () in to [] outside the comprehensions\n",
    "\n",
    "\n",
    "- method 2:build func, use `yield` in the `for` and `while` loop.\n"
   ],
   "metadata": {}
  },
  {
   "cell_type": "code",
   "execution_count": null,
   "source": [
    "# method 1\n",
    "G = (x*2 for x in range(5))\n",
    "print(\"method 1\")\n",
    "print(next(G))\n",
    "print(next(G))\n",
    "print(next(G))\n",
    "print(next(G))"
   ],
   "outputs": [],
   "metadata": {}
  },
  {
   "cell_type": "code",
   "execution_count": null,
   "source": [
    "# method 2\n",
    "def Fibonacci(times):\n",
    "    n = 0\n",
    "    a,b = 0, 1\n",
    "    while n < times:\n",
    "        yield b\n",
    "        # iteration expression\n",
    "        a,b = b ,a + b\n",
    "        n += 1\n",
    "    return \"done\"\n",
    "\n",
    "# now the fibonacci is the generator func\n",
    "fib = Fibonacci(5)\n",
    "#Traverse\n",
    "print(\"method 2: \")\n",
    "for i in fib:\n",
    "    print(i)"
   ],
   "outputs": [],
   "metadata": {}
  },
  {
   "cell_type": "code",
   "execution_count": null,
   "source": [
    "# chat-bot\n",
    "\n",
    "import random\n",
    "\n",
    "def bad_service_chatbot():\n",
    "    answers = [\"We don't do that\",\n",
    "               \"We will get back to you right away\",\n",
    "               \"Your call is very important to us\",\n",
    "               \"Sorry, my manager is unavailable\"]\n",
    "    yield \"Can I help you?\"\n",
    "    s = ''\n",
    "    while True:\n",
    "        if s is None:\n",
    "            break\n",
    "        s= yield random.choice(answers)\n",
    "\n",
    "g2 = bad_service_chatbot()"
   ],
   "outputs": [],
   "metadata": {}
  },
  {
   "cell_type": "code",
   "execution_count": null,
   "source": [
    "next(g2)"
   ],
   "outputs": [],
   "metadata": {}
  },
  {
   "cell_type": "code",
   "execution_count": null,
   "source": [
    "g2.send('')"
   ],
   "outputs": [],
   "metadata": {}
  },
  {
   "cell_type": "code",
   "execution_count": null,
   "source": [
    "g2.send(1)"
   ],
   "outputs": [],
   "metadata": {}
  },
  {
   "cell_type": "code",
   "execution_count": null,
   "source": [
    "g2.send('Hey')"
   ],
   "outputs": [],
   "metadata": {}
  },
  {
   "cell_type": "markdown",
   "source": [
    "### Multi generator\n",
    "by the ` yield from` expression, we can combine the generators as one multigenerator \n",
    "which excels the manual iteraring generators."
   ],
   "metadata": {}
  },
  {
   "cell_type": "code",
   "execution_count": null,
   "source": [
    "import timeit\n",
    "\n",
    "def child():\n",
    "    for i in range(1_000_000):\n",
    "        yield i\n",
    "def slow():\n",
    "    for i in child():\n",
    "        yield i\n",
    "def fast():\n",
    "    yield from child()\n",
    "    \n",
    "baseline = timeit.timeit(\n",
    "    stmt=\"for _ in slow(): pass\", \n",
    "    globals=globals(), \n",
    "    number=50)\n",
    "\n",
    "print(f\"Manual nesting {baseline:.2f}s\")\n",
    "\n",
    "comparison = timeit.timeit(\n",
    "    stmt=\"for _ in fast(): pass\",\n",
    "    globals=globals(),\n",
    "    number=50)\n",
    "\n",
    "print(f\"Composed Nesting {comparison:.2f}s\")\n",
    "\n",
    "reduction = (baseline - comparison)/baseline\n",
    "\n",
    "print(f\"{reduction:.1%} less time\")"
   ],
   "outputs": [],
   "metadata": {}
  },
  {
   "cell_type": "markdown",
   "source": [
    "### Self-defined Generator\n",
    "\n",
    "当读取的文件过大时，直接使用生成器会返回空值，但不会返回异常。此时，可使用`__iter__()`方法。下例中，`normalize`中的`sum()`调用了`ReadVisits.__iter__`来分配一个新的迭代器对象。对数字进行标准化的`for`循环也调用`__iter__`来分配第二个迭代器对象。这些迭代器中的每个都将独立地被推进和耗尽，以确保每个独特的迭代都能看到所有的输入数据值。这种方法唯一的缺点是它会多次读取输入数据。\n",
    "\n",
    "When a function takes a list of objects as a parameter, it’s often important to iterate over that list multiple times. \n",
    "\n",
    "For example, say that I want to analyze tourism numbers for the U.S. state of Texas. Imagine that the data set is the number of visitors to each city (in millions per year). I’d like to figure out what percentage of overall tourism each city receives.\n",
    "\n",
    "To do this, I need a normalization function that sums the inputs to determine the total number of tourists per year and then divides each city’s individual visitor count by the total to find that city’s contribution to the whole:"
   ],
   "metadata": {}
  },
  {
   "cell_type": "code",
   "execution_count": null,
   "source": [
    "def normalize(numbers):\n",
    "    total = sum(numbers)\n",
    "    result = []\n",
    "    for value in numbers:\n",
    "        percent = 100 * value / total\n",
    "        result.append(percent)\n",
    "    return result"
   ],
   "outputs": [],
   "metadata": {}
  },
  {
   "cell_type": "code",
   "execution_count": null,
   "source": [
    "# This function works as expected when given a list of visits:\n",
    "visits = [15,35,80]\n",
    "percentages = normalize(visits)\n",
    "assert sum(percentages)\n",
    "print(percentages)"
   ],
   "outputs": [],
   "metadata": {}
  },
  {
   "cell_type": "code",
   "execution_count": null,
   "source": [
    "def read_visits(data_path):\n",
    "    with open(data_path) as f:\n",
    "        for line in f:\n",
    "            yield int(line)\n",
    "\n",
    "it = read_visits('my_numbers.txt')\n",
    "percentages = normalize(it)\n",
    "print(percentages)"
   ],
   "outputs": [],
   "metadata": {}
  },
  {
   "cell_type": "code",
   "execution_count": null,
   "source": [],
   "outputs": [],
   "metadata": {}
  },
  {
   "cell_type": "code",
   "execution_count": null,
   "source": [],
   "outputs": [],
   "metadata": {}
  },
  {
   "cell_type": "code",
   "execution_count": null,
   "source": [],
   "outputs": [],
   "metadata": {}
  },
  {
   "cell_type": "code",
   "execution_count": null,
   "source": [],
   "outputs": [],
   "metadata": {}
  },
  {
   "cell_type": "code",
   "execution_count": null,
   "source": [],
   "outputs": [],
   "metadata": {}
  },
  {
   "cell_type": "code",
   "execution_count": null,
   "source": [],
   "outputs": [],
   "metadata": {}
  },
  {
   "cell_type": "code",
   "execution_count": null,
   "source": [],
   "outputs": [],
   "metadata": {}
  },
  {
   "cell_type": "code",
   "execution_count": null,
   "source": [],
   "outputs": [],
   "metadata": {}
  },
  {
   "cell_type": "code",
   "execution_count": null,
   "source": [],
   "outputs": [],
   "metadata": {}
  },
  {
   "cell_type": "markdown",
   "source": [
    "## Lambda Function\n",
    "\n",
    "In Python, a lambda function is a single-line function declared with no name, which can have any number of arguments, but it can only have one expression. Such a function is capable of behaving similarly to a regular function declared using the Python's def keyword.\n",
    "\n",
    "**sth simple ,but you only use once.**\n",
    "\n"
   ],
   "metadata": {}
  },
  {
   "cell_type": "markdown",
   "source": [
    "### Syntax\n",
    "\n",
    "**lambda**  variable, …: expression\n",
    "\n",
    "variable, …\n",
    "    Optional. One or more variables used in the right part of the expression.\n",
    "expression\n",
    "    Required. Return value of the function.\n",
    "\n",
    "\n",
    "\n",
    "As you saw in the previous sections, a lambda form presents syntactic distinctions from a normal function. In particular, a lambda function has the following characteristics:\n",
    "\n",
    "- It can only contain expressions and can’t include statements in its body.\n",
    "\n",
    "- It is written as a single line of execution.\n",
    "\n",
    "- It does not support type annotations.\n",
    "\n",
    "- It can be immediately invoked (IIFE).\n",
    "\n",
    "\n"
   ],
   "metadata": {}
  },
  {
   "cell_type": "markdown",
   "source": [
    "### Why lambda?\n",
    "\n",
    "\n",
    "- Lambda functions are useful as small, throwaway single-line functions.\n",
    "\n",
    "- They’re often useful to allow quick calculations or processing as the input to other functions. \n",
    "\n",
    "- They can make code easier to read if and only if they’re used appropriately.\n",
    "\n",
    "\n",
    "\n",
    "Lambda functions in Python tend to be the subject of controversy. \n",
    "Here are some of the reasons that lambda functions in Python can be controversial:\n",
    "\n",
    "- Issues with readability\n",
    "- The imposition of a functional way of thinking\n",
    "- Heavy syntax with the lambda keyword\n",
    "\n",
    "Despite the heated debates questioning the very existence of this feature in Python, lambda functions have properties that sometimes provide value to the Python language and to developers."
   ],
   "metadata": {}
  },
  {
   "cell_type": "markdown",
   "source": [
    "### Compare with Standard Function"
   ],
   "metadata": {}
  },
  {
   "cell_type": "code",
   "execution_count": null,
   "source": [
    "# std:\n",
    "def myfunc(x,y,z):\n",
    "    result = x + y + z\n",
    "    return result"
   ],
   "outputs": [],
   "metadata": {}
  },
  {
   "cell_type": "code",
   "execution_count": null,
   "source": [
    "myfunc(1,2,3)"
   ],
   "outputs": [],
   "metadata": {}
  },
  {
   "cell_type": "code",
   "execution_count": null,
   "source": [
    "g = lambda x,y,z : x + y + z"
   ],
   "outputs": [],
   "metadata": {}
  },
  {
   "cell_type": "code",
   "execution_count": null,
   "source": [
    "g(1,2,3)"
   ],
   "outputs": [],
   "metadata": {}
  },
  {
   "cell_type": "markdown",
   "source": [
    "$$Compare\\ Lambda \\ Function \\ with \\ Standard \\ Function$$\n",
    "\n",
    "\n",
    "| Std func | Lambda func | notes |\n",
    "| - | - | - |\n",
    "| Used manytimes| Intended for single use|   |\n",
    "| Multiple lines of code | Defined in a single line |   |\n",
    "| Named only| Named or Anonymous |  |\n",
    "| None or more inputs | None or more inputs |   |\n",
    "| one or more returns | One or more return ||"
   ],
   "metadata": {}
  },
  {
   "cell_type": "markdown",
   "source": [
    "#### Appropriate use of lambda functions"
   ],
   "metadata": {}
  },
  {
   "cell_type": "code",
   "execution_count": null,
   "source": [
    "# std:\n",
    "def second(x):\n",
    "    return x[1]\n",
    "a = [(1,2),(2,5),(3,4),(3,15)]\n",
    "\n",
    "a.sort(key=second)\n",
    "print(a)"
   ],
   "outputs": [],
   "metadata": {}
  },
  {
   "cell_type": "code",
   "execution_count": null,
   "source": [
    "# lambda:\n",
    "a = [(1,2),(2,5),(3,4),(3,15)]\n",
    "a.sort(key=lambda x:x[1])\n",
    "a"
   ],
   "outputs": [],
   "metadata": {}
  },
  {
   "cell_type": "markdown",
   "source": [
    "#### Lambda and Std working together:\n",
    "\n",
    "$$ f(x) = ax^2+bx+c$$\n",
    "\n"
   ],
   "metadata": {}
  },
  {
   "cell_type": "code",
   "execution_count": null,
   "source": [
    "def build_quadratic_function(a,b,c):\n",
    "    return lambda x: a * x ** 2 + b * x +c\n",
    "# here we can create equations"
   ],
   "outputs": [],
   "metadata": {}
  },
  {
   "cell_type": "code",
   "execution_count": null,
   "source": [
    "f = build_quadratic_function(2,3,-5) #f =2x^2 + 3x -5"
   ],
   "outputs": [],
   "metadata": {}
  },
  {
   "cell_type": "code",
   "execution_count": null,
   "source": [
    "f(0),f(1),f(2)"
   ],
   "outputs": [],
   "metadata": {}
  },
  {
   "cell_type": "code",
   "execution_count": null,
   "source": [
    "# or in the lambda way\n",
    "build_quadratic_function(2,3,-5)(1)#not readable"
   ],
   "outputs": [],
   "metadata": {}
  },
  {
   "cell_type": "markdown",
   "source": [
    "### Use of Lambda Function in python"
   ],
   "metadata": {}
  },
  {
   "cell_type": "markdown",
   "source": [
    "#### Example use with filter()\n",
    "\n",
    "\n",
    "The `filter()` function in Python takes in a function and a list as arguments.\n",
    "\n",
    "The function is called with all the items in the list and a new list is returned which contains items for which the function evaluates to `True`.\n",
    "\n",
    "Here is an example use of `filter()` function to filter out only even numbers from a list."
   ],
   "metadata": {}
  },
  {
   "cell_type": "code",
   "execution_count": null,
   "source": [
    "# Program to filter out only the even items from a list\n",
    "my_list = [1, 5, 4, 6, 8, 11, 3, 12]\n",
    "\n",
    "new_list = list(filter(lambda x: (x%2 == 0),my_list))\n",
    "\n",
    "print(new_list)"
   ],
   "outputs": [],
   "metadata": {}
  },
  {
   "cell_type": "markdown",
   "source": [
    "#### Example use with map()\n",
    "\n",
    "- `map()`function: Return an iterator that applies function to every item of iterable, yielding the results. \n",
    "\n",
    "The map() function in Python takes in a function and a list.\n",
    "\n",
    "The function is called with all the items in the list and a new list is returned which contains items returned by that function for each item.\n",
    "\n",
    "Here is an example use of map() function to double all the items in a list."
   ],
   "metadata": {}
  },
  {
   "cell_type": "code",
   "execution_count": null,
   "source": [
    "# Program to double each item in a list using map()\n",
    "\n",
    "my_list = [1, 5, 4, 6, 8, 11, 3, 12]\n",
    "\n",
    "new_list = list(map(lambda x: x**2,my_list))\n",
    "\n",
    "print(new_list)\n"
   ],
   "outputs": [],
   "metadata": {}
  },
  {
   "cell_type": "markdown",
   "source": [
    "### Anonymous Functions\n",
    "\n",
    "The following terms may be used interchangeably depending on the programming language type and culture:\n",
    "\n",
    "- Anonymous functions\n",
    "\n",
    "- Lambda functions\n",
    "\n",
    "- Lambda expressions\n",
    "\n",
    "- Lambda abstractions\n",
    "\n",
    "- Lambda form\n",
    "\n",
    "- Function literals"
   ],
   "metadata": {}
  },
  {
   "cell_type": "markdown",
   "source": [
    "Taken literally, an anonymous function is a function without a name. In Python, an anonymous function is created with the lambda keyword. More loosely, it may or not be assigned a name. Consider a two-argument anonymous function defined with lambda but not bound to a variable. The lambda is not given a name:"
   ],
   "metadata": {}
  },
  {
   "cell_type": "code",
   "execution_count": null,
   "source": [
    "lambda x,y: x + y"
   ],
   "outputs": [],
   "metadata": {}
  },
  {
   "cell_type": "markdown",
   "source": [
    "The function above defines a lambda expression that takes two arguments and returns their sum.\n",
    "\n",
    "Other than providing you with the feedback that Python is perfectly fine with this form, it doesn’t lead to any practical use. You could invoke the function in the Python interpreter:"
   ],
   "metadata": {}
  },
  {
   "cell_type": "code",
   "execution_count": null,
   "source": [
    "_(1,2)"
   ],
   "outputs": [],
   "metadata": {}
  },
  {
   "cell_type": "markdown",
   "source": [
    "The example above is taking advantage of the interactive interpreter-only feature provided via the underscore (_). "
   ],
   "metadata": {}
  },
  {
   "cell_type": "markdown",
   "source": [
    "Another pattern used in other languages like JavaScript is to immediately execute a Python lambda function. This is known as an **Immediately Invoked Function Expression** (IIFE, pronounce “iffy”). Here’s an example:"
   ],
   "metadata": {}
  },
  {
   "cell_type": "code",
   "execution_count": null,
   "source": [
    "(lambda x,y:x + y)(1,2)"
   ],
   "outputs": [],
   "metadata": {}
  },
  {
   "cell_type": "markdown",
   "source": [
    "### [ higher-order functions](https://en.wikipedia.org/wiki/Higher-order_function#Python) with Lambda fucntion\n",
    "\n",
    "`higher-order functions`take one or more functions as arguments or return one or more functions.\n",
    "\n",
    "A lambda function can be a higher-order function by taking a function (normal or lambda) as an argument like in the following contrived example:"
   ],
   "metadata": {}
  },
  {
   "cell_type": "code",
   "execution_count": 1,
   "source": [
    "high_ord_func = lambda x,func:x + func(x)"
   ],
   "outputs": [],
   "metadata": {}
  },
  {
   "cell_type": "code",
   "execution_count": 2,
   "source": [
    "# high_ord_func(2,x + x)"
   ],
   "outputs": [],
   "metadata": {}
  },
  {
   "cell_type": "code",
   "execution_count": 3,
   "source": [
    "high_ord_func(2,lambda x:x + x)\n",
    "\n",
    "#note:x=2,lambda x+x=4\n",
    "#thus outer: 2(which is x) + 4(calculated by the lambda x:x+x)"
   ],
   "outputs": [
    {
     "output_type": "execute_result",
     "data": {
      "text/plain": [
       "6"
      ]
     },
     "metadata": {},
     "execution_count": 3
    }
   ],
   "metadata": {}
  },
  {
   "cell_type": "code",
   "execution_count": 4,
   "source": [
    "high_ord_func(2,lambda x:x+3)\n",
    "#thus outer: 2(which is x) + 5(calculated by the lambda x:x+3)"
   ],
   "outputs": [
    {
     "output_type": "execute_result",
     "data": {
      "text/plain": [
       "7"
      ]
     },
     "metadata": {},
     "execution_count": 4
    }
   ],
   "metadata": {}
  },
  {
   "cell_type": "markdown",
   "source": [
    "### Lambda expressions support all the different ways of passing arguments\n",
    "\n",
    "Like a normal function object defined with def, Python lambda expressions support all the different ways of passing arguments. This includes:\n",
    "\n",
    "- Positional arguments\n",
    "\n",
    "- Named arguments (sometimes called keyword arguments)\n",
    "\n",
    "- Variable list of arguments (often referred to as varargs)\n",
    "\n",
    "- Variable list of keyword arguments\n",
    "\n",
    "- Keyword-only arguments\n",
    "\n",
    "The following examples illustrate options open to you in order to pass arguments to lambda expressions:"
   ],
   "metadata": {}
  },
  {
   "cell_type": "code",
   "execution_count": 5,
   "source": [
    "(lambda x,y,z:x+y+z)(1,2,3)"
   ],
   "outputs": [
    {
     "output_type": "execute_result",
     "data": {
      "text/plain": [
       "6"
      ]
     },
     "metadata": {},
     "execution_count": 5
    }
   ],
   "metadata": {}
  },
  {
   "cell_type": "code",
   "execution_count": 6,
   "source": [
    "(lambda x,y,z=3:x+y+z)(1,2)"
   ],
   "outputs": [
    {
     "output_type": "execute_result",
     "data": {
      "text/plain": [
       "6"
      ]
     },
     "metadata": {},
     "execution_count": 6
    }
   ],
   "metadata": {}
  },
  {
   "cell_type": "code",
   "execution_count": 7,
   "source": [
    "(lambda x,y,z=3:x+y+z)(1,y=2)"
   ],
   "outputs": [
    {
     "output_type": "execute_result",
     "data": {
      "text/plain": [
       "6"
      ]
     },
     "metadata": {},
     "execution_count": 7
    }
   ],
   "metadata": {}
  },
  {
   "cell_type": "code",
   "execution_count": 8,
   "source": [
    "(lambda *args:sum(args))(1,2,3)\n",
    "# (lambda *args:sum(args))(1,2,3,4)"
   ],
   "outputs": [
    {
     "output_type": "execute_result",
     "data": {
      "text/plain": [
       "6"
      ]
     },
     "metadata": {},
     "execution_count": 8
    }
   ],
   "metadata": {}
  },
  {
   "cell_type": "code",
   "execution_count": 9,
   "source": [
    "(lambda **kwargs: sum(kwargs.values()))(one=1, two=2, three=3)\n"
   ],
   "outputs": [
    {
     "output_type": "execute_result",
     "data": {
      "text/plain": [
       "6"
      ]
     },
     "metadata": {},
     "execution_count": 9
    }
   ],
   "metadata": {}
  },
  {
   "cell_type": "code",
   "execution_count": null,
   "source": [
    "(lambda **kwargs: sum(kwargs.values()))(one=1, two=2, three=3)"
   ],
   "outputs": [],
   "metadata": {}
  },
  {
   "cell_type": "code",
   "execution_count": null,
   "source": [],
   "outputs": [],
   "metadata": {}
  },
  {
   "cell_type": "markdown",
   "source": [
    "## [@@Instance, Class, and Static Methods](https://realpython.com/instance-class-and-static-methods-demystified/#instance-class-and-static-methods-an-overview)"
   ],
   "metadata": {}
  },
  {
   "cell_type": "markdown",
   "source": [
    "### Overview"
   ],
   "metadata": {}
  },
  {
   "cell_type": "code",
   "execution_count": null,
   "source": [
    "class MyClass:\n",
    "    def method(self):\n",
    "        return 'instance method called', self\n",
    "    \n",
    "    @classmethod #built-in\n",
    "    def classmethod(cls):\n",
    "        return 'class method called',cls\n",
    "\n",
    "    @staticmethod\n",
    "    def staticmethod():#can be empty\n",
    "        return 'static method called'"
   ],
   "outputs": [],
   "metadata": {}
  },
  {
   "cell_type": "markdown",
   "source": [
    "**Instance Methods**\n",
    "\n",
    "The first method on `MyClass`, called `method`, is a **regular instance method**. That’s the basic, no-frills method type you’ll use most of the time.\n",
    "\n",
    "You can see the method takes one parameter, self, which points to an instance of MyClass when the method is called (but of course instance methods can accept more than just one parameter).\n",
    "\n",
    "Through the self parameter, instance methods can freely access attributes and other methods on the same object. This gives them a lot of power when it comes to modifying an object’s state.\n",
    "\n",
    "Not only can they modify object state, instance methods can also access the class itself through the self.__class__ attribute. This means instance methods can also modify class state.\n",
    "\n",
    "\n",
    "**Class Methods**\n",
    "\n",
    "Let’s compare that to the second method, `MyClass.classmethod`. I marked this method with a `@classmethod decorator` to flag it as a class method.\n",
    "\n",
    "Instead of accepting a self parameter, class methods take a cls parameter that points to the class—and not the object instance—when the method is called.\n",
    "\n",
    "Because the class method only has access to this cls argument, it **can’t modify object instance state**. That would require access to self.\n",
    "\n",
    "However, class methods can still modify class state that applies across all instances of the class.\n",
    "\n",
    "**Static Methods**\n",
    "\n",
    "The third method, `MyClass.staticmethod` was marked with a `@staticmethod` decorator to flag it as a static method.\n",
    "\n",
    "This type of method takes neither a self nor a cls parameter (but of course it’s free to accept an arbitrary number of other parameters).\n",
    "\n",
    "Therefore a static method can neither modify object state nor class state. \n",
    "\n",
    "Static methods are restricted in what data they can access - and they’re primarily a way to namespace your methods.\n"
   ],
   "metadata": {}
  },
  {
   "cell_type": "markdown",
   "source": [
    "### call the methods:"
   ],
   "metadata": {}
  },
  {
   "cell_type": "code",
   "execution_count": null,
   "source": [
    "# call an instance method\n",
    "obj = MyClass()\n",
    "obj.method()"
   ],
   "outputs": [],
   "metadata": {}
  },
  {
   "cell_type": "code",
   "execution_count": null,
   "source": [
    "MyClass().method() # same\n",
    "# This confirmed that method (the instance method) has access to the object instance (printed as <MyClass instance>) via the self argument.\n",
    "# When the method is called, Python replaces the self argument with the instance object, obj. \n",
    "# We could ignore the syntactic sugar of the dot-call syntax (obj.method()) \n",
    "# and pass the instance object manually to get the same result:"
   ],
   "outputs": [],
   "metadata": {}
  },
  {
   "cell_type": "code",
   "execution_count": null,
   "source": [
    "#call the class method:\n",
    "obj.classmethod()"
   ],
   "outputs": [],
   "metadata": {}
  },
  {
   "cell_type": "code",
   "execution_count": null,
   "source": [
    "#call the static method:\n",
    "obj.staticmethod()"
   ],
   "outputs": [],
   "metadata": {}
  },
  {
   "cell_type": "markdown",
   "source": [
    "Call these methods on the class itself - without creating an object instance beforehand:"
   ],
   "metadata": {}
  },
  {
   "cell_type": "code",
   "execution_count": null,
   "source": [
    "MyClass.classmethod()"
   ],
   "outputs": [],
   "metadata": {}
  },
  {
   "cell_type": "code",
   "execution_count": null,
   "source": [
    "MyClass.staticmethod()"
   ],
   "outputs": [],
   "metadata": {}
  },
  {
   "cell_type": "code",
   "execution_count": null,
   "source": [
    "MyClass.method()"
   ],
   "outputs": [],
   "metadata": {}
  },
  {
   "cell_type": "markdown",
   "source": [
    "Attempting to call the instance method method() failed with a TypeError.\n",
    "\n",
    "And this is to be expected：\n",
    "\n",
    "    this time we didn’t create an object instance and tried calling an instance function directly on the class blueprint itself. \n",
    "    \n",
    "    This means there is no way for Python to populate the self argument and therefore the call fails."
   ],
   "metadata": {}
  },
  {
   "cell_type": "code",
   "execution_count": null,
   "source": [
    "class Pizza:\n",
    "    def __init__(self,ingredients):\n",
    "        self.ingredients = ingredients\n",
    "        \n",
    "    def __repr__(self):\n",
    "        return f'Pizza({self.ingredients !r})'"
   ],
   "outputs": [],
   "metadata": {}
  },
  {
   "cell_type": "code",
   "execution_count": null,
   "source": [
    "Pizza(['cheese','tomatoes'])"
   ],
   "outputs": [],
   "metadata": {}
  },
  {
   "cell_type": "code",
   "execution_count": null,
   "source": [],
   "outputs": [],
   "metadata": {}
  },
  {
   "cell_type": "code",
   "execution_count": null,
   "source": [],
   "outputs": [],
   "metadata": {}
  },
  {
   "cell_type": "code",
   "execution_count": null,
   "source": [],
   "outputs": [],
   "metadata": {}
  },
  {
   "cell_type": "code",
   "execution_count": null,
   "source": [],
   "outputs": [],
   "metadata": {}
  },
  {
   "cell_type": "code",
   "execution_count": null,
   "source": [],
   "outputs": [],
   "metadata": {}
  },
  {
   "cell_type": "markdown",
   "source": [
    "##  Decorator"
   ],
   "metadata": {}
  },
  {
   "cell_type": "markdown",
   "source": [
    "[Decorators](https://realpython.com/python-lambda/#classic-functional-constructs)\n",
    "\n",
    "In Python, a decorator is the implementation of a pattern that allows adding a behavior to a function or a class. It is usually expressed with the @decorator syntax prefixing a function. \n",
    "\n",
    "### Functions\n",
    "\n",
    "[Primer on Python Decorators](https://realpython.com/primer-on-python-decorators/#functions)\n",
    "\n",
    "Before you can understand decorators, you must first understand how functions work. For our purposes, a function returns a value based on the given arguments. Here is a very simple example:\n",
    "\n",
    "\n"
   ],
   "metadata": {}
  },
  {
   "cell_type": "code",
   "execution_count": null,
   "source": [
    "def add_one(number):\n",
    "    return number + 1\n",
    "\n",
    "add_one(2)"
   ],
   "outputs": [],
   "metadata": {}
  },
  {
   "cell_type": "markdown",
   "source": [
    "In general, functions in Python may also have side effects rather than just turning an input into an output. The `print() function` is a basic example of this: it returns None while having the side effect of outputting something to the console. However, to understand decorators, it is enough to think about functions as something that turns given arguments into a value.\n",
    "\n",
    "**Note:** In **functional programming**, you work (almost) only with pure functions without side effects. While not a purely functional language, Python supports many of the functional programming concepts, including functions as first-class objects.\n"
   ],
   "metadata": {}
  },
  {
   "cell_type": "markdown",
   "source": [
    "#### First-Class Objects\n",
    "\n",
    "In Python, functions are first-class objects. \n",
    "\n",
    "This means that **functions can be passed around and used as arguments**, just like any other object (string, int, float, list, and so on). Consider the following three functions:"
   ],
   "metadata": {}
  },
  {
   "cell_type": "code",
   "execution_count": null,
   "source": [
    "def say_hello(name):\n",
    "    return f\"Hello {name}\"\n",
    "\n",
    "def be_awesome(name):\n",
    "    return f\"Yo {name},togethoer we are the awesomest!\"\n",
    "\n",
    "def greet_bob(greeter_func):\n",
    "    return greeter_func(\"Bob\")"
   ],
   "outputs": [],
   "metadata": {}
  },
  {
   "cell_type": "markdown",
   "source": [
    "Here, `say_hello()` and `be_awesome()` are regular functions that expect a name given as a string.\n",
    "\n",
    "The `greet_bob()` function however, expects a function as its argument. \n",
    "\n",
    "We can, for instance, pass it the `say_hello()` or the `be_awesome() `function:\n",
    "\n"
   ],
   "metadata": {}
  },
  {
   "cell_type": "code",
   "execution_count": null,
   "source": [
    "greet_bob(say_hello)"
   ],
   "outputs": [],
   "metadata": {}
  },
  {
   "cell_type": "code",
   "execution_count": null,
   "source": [
    "greet_bob(be_awesome)"
   ],
   "outputs": [],
   "metadata": {}
  },
  {
   "cell_type": "markdown",
   "source": [
    "Note that `greet_bob(say_hello)` refers to **two functions**, but in **different ways**: `greet_bob()` and `say_hello`.\n",
    "\n",
    "The `say_hello` function is named without parentheses. This means that **only a reference** to the function is **passed**. The function is not executed.\n",
    "\n",
    "The `greet_bob()` function, on the other hand, is written with parentheses, so it will be called as usual."
   ],
   "metadata": {}
  },
  {
   "cell_type": "markdown",
   "source": [
    "#### Inner Functions\n",
    "\n",
    "It’s possible to **define functions inside other functions**. \n",
    "\n",
    "Such functions are called inner functions. "
   ],
   "metadata": {}
  },
  {
   "cell_type": "code",
   "execution_count": null,
   "source": [
    "def parent():\n",
    "    print(\"Printing form the parent() function\")\n",
    "    \n",
    "    def first_child():\n",
    "        print(\"Printing from the first_child() function\")\n",
    "        \n",
    "    def second_child():\n",
    "        print(\"Printing from the second_child() function\")\n",
    "    first_child()\n",
    "    second_child()\n",
    "    first_child()#check the printing order below we will know what happened:\n",
    "    first_child()\n",
    "    first_child()"
   ],
   "outputs": [],
   "metadata": {
    "cell_style": "center"
   }
  },
  {
   "cell_type": "code",
   "execution_count": null,
   "source": [
    "parent()"
   ],
   "outputs": [],
   "metadata": {}
  },
  {
   "cell_type": "code",
   "execution_count": null,
   "source": [
    "first_child()# we can not call the inner func outside the main func"
   ],
   "outputs": [],
   "metadata": {}
  },
  {
   "cell_type": "markdown",
   "source": [
    "#### Returning Functions From Functions\n",
    "\n",
    "Python also allows you to use functions as return values. \n",
    "\n",
    "The following example returns one of the inner functions from the outer parent() function:"
   ],
   "metadata": {}
  },
  {
   "cell_type": "code",
   "execution_count": null,
   "source": [
    "def parent(num):\n",
    "    def first_child():\n",
    "        return \"Hi, I am Tony\"\n",
    "    \n",
    "    def second_child():\n",
    "        return \"Call me Zoe\"\n",
    "    \n",
    "    if num == 1:\n",
    "        return first_child\n",
    "    \n",
    "    else:\n",
    "        return second_child\n",
    "    \n",
    "# Note that you are returning first_child without the parentheses. \n",
    "# Recall that this means that you are returning a reference to the function first_child.\n",
    "# In contrast first_child() with parentheses refers to the result of evaluating the function.\n",
    "# This can be seen in the following example:\n",
    "\n",
    "first = parent(1)\n",
    "second = parent(2)"
   ],
   "outputs": [],
   "metadata": {}
  },
  {
   "cell_type": "code",
   "execution_count": null,
   "source": [
    "first"
   ],
   "outputs": [],
   "metadata": {}
  },
  {
   "cell_type": "markdown",
   "source": [
    "The somewhat cryptic output simply means that the first variable refers to the local **first_child()** function inside of **parent()**, while second points to **second_child()**."
   ],
   "metadata": {}
  },
  {
   "cell_type": "code",
   "execution_count": null,
   "source": [
    "second"
   ],
   "outputs": [],
   "metadata": {}
  },
  {
   "cell_type": "code",
   "execution_count": null,
   "source": [
    "first()"
   ],
   "outputs": [],
   "metadata": {}
  },
  {
   "cell_type": "code",
   "execution_count": null,
   "source": [
    "second()"
   ],
   "outputs": [],
   "metadata": {}
  },
  {
   "cell_type": "markdown",
   "source": [
    "Finally, note that in the earlier example you executed the inner functions within the parent function, for instance first_child(). \n",
    "\n",
    "However, in this last example, you did not add parentheses to the inner functions—`first_child`—upon returning. \n",
    "\n",
    "That way, you got a reference to each function that you could call in the future.\n",
    "\n",
    "Make sense?"
   ],
   "metadata": {}
  },
  {
   "cell_type": "markdown",
   "source": [
    "### Rookie:Simple Decorators\n",
    "\n",
    "The magical beast\n",
    "\n",
    "Here is a lovely example,of course you can make more:"
   ],
   "metadata": {}
  },
  {
   "cell_type": "code",
   "execution_count": null,
   "source": [
    "def my_decorator(func):\n",
    "    def wrapper():\n",
    "        print(\"Something is happend before the function is called.\")\n",
    "        func()# see, the func is here\n",
    "        print(\"Something happened after the function is called\")\n",
    "    return wrapper\n",
    "\n",
    "def say_whee():#say_whee is the function\n",
    "    print(\"5\")\n",
    "    print(\"4\")\n",
    "    print(\"3\")\n",
    "    print(\"2\")\n",
    "    print(\"1\") # counting is added\n",
    "    print(\"Whee!\")\n",
    "    \n",
    "say_whee = my_decorator(say_whee)"
   ],
   "outputs": [],
   "metadata": {}
  },
  {
   "cell_type": "code",
   "execution_count": null,
   "source": [
    "say_whee()"
   ],
   "outputs": [],
   "metadata": {}
  },
  {
   "cell_type": "code",
   "execution_count": null,
   "source": [
    "# The so-called decoration happens at the following line:\n",
    "say_whee"
   ],
   "outputs": [],
   "metadata": {}
  },
  {
   "cell_type": "markdown",
   "source": [
    "However, `wrapper()` has a reference to the original `say_whee()` as func, and calls that function **between the two calls to `print()`**.\n",
    "\n",
    "Put simply: **decorators wrap a function, modifying its behavior.**\n",
    "\n",
    "\n",
    "Before moving on, let’s have a look at a second example.\n",
    "\n",
    "Because `wrapper()` is a regular Python function, the way a decorator modifies a function can change dynamically.\n",
    "\n",
    "So **as not to disturb your neighbors**, the following example will only run the decorated code during the day:"
   ],
   "metadata": {}
  },
  {
   "cell_type": "code",
   "execution_count": null,
   "source": [
    "from datetime import datetime\n",
    "\n",
    "def not_during_the_night(func):\n",
    "    def wrapper():\n",
    "        if 7 <= datetime.now().hour < 22:\n",
    "            func()\n",
    "        else:\n",
    "            pass # Hush, the neighbors are asleep\n",
    "    return wrapper\n",
    "\n",
    "def say_whee():\n",
    "    print(\"Whee!\")\n",
    "    \n",
    "say_whee = not_during_the_night(say_whee)"
   ],
   "outputs": [],
   "metadata": {}
  },
  {
   "cell_type": "code",
   "execution_count": null,
   "source": [
    "say_whee()"
   ],
   "outputs": [],
   "metadata": {}
  },
  {
   "cell_type": "markdown",
   "source": [
    "#### Syntactic Sugar\n",
    "\n",
    "The way you decorated `say_whee()` above is a little clunky(heavy). \n",
    "\n",
    "    - First of all, you end up typing the name say_whee three times. \n",
    "\n",
    "    - In addition, the decoration gets a bit hidden away below the definition of the function.\n",
    "\n",
    "\n",
    "Instead, Python allows you to use decorators in a simpler way with the \"`@`\" symbol , sometimes called the **`“pie” syntax`**. \n",
    "    \n",
    "    The following example does the exact same thing as the first decorator example:"
   ],
   "metadata": {}
  },
  {
   "cell_type": "code",
   "execution_count": null,
   "source": [
    "def  my_decorator(func):\n",
    "    def wrapper():\n",
    "        print(\"Something is happend before the function is called.\")\n",
    "        func()# see, the func is here\n",
    "        print(\"Something happened after the function is called\")\n",
    "    return wrapper\n",
    "\n",
    "@my_decorator #the first python pie ini your life. Equal to:\n",
    "#say_whee = my_decorator(say_whee),but easier.\n",
    "\n",
    "def say_whee():\n",
    "    print(\"Whee!\")"
   ],
   "outputs": [],
   "metadata": {}
  },
  {
   "cell_type": "code",
   "execution_count": null,
   "source": [
    "say_whee()"
   ],
   "outputs": [],
   "metadata": {}
  },
  {
   "cell_type": "markdown",
   "source": [
    "### Reusing Decorators\n",
    "\n",
    "Recall that a decorator is just a regular Python function. \n",
    "\n",
    "All the usual tools for easy reusability are available. \n",
    "\n",
    "Let’s move the decorator to its own module that can be used in many other functions.\n",
    "\n",
    "Create a file called decorators.py with the following content:"
   ],
   "metadata": {}
  },
  {
   "cell_type": "code",
   "execution_count": null,
   "source": [
    "def do_twice(func):\n",
    "    def wrapper_do_twice():\n",
    "        func()\n",
    "        func()\n",
    "    return wrapper_do_twice"
   ],
   "outputs": [],
   "metadata": {}
  },
  {
   "cell_type": "markdown",
   "source": [
    "**Note:**\n",
    "You can name your inner function whatever you want, and a generic name **like** `wrapper()` is usually okay. \n",
    "\n",
    "To keep them apart, we’ll name the inner function with the same name as the decorator but with a `wrapper_ prefix.`"
   ],
   "metadata": {}
  },
  {
   "cell_type": "code",
   "execution_count": null,
   "source": [
    "do_twice"
   ],
   "outputs": [],
   "metadata": {}
  },
  {
   "cell_type": "code",
   "execution_count": null,
   "source": [
    "# in the article, it Create a file called decorators.py for the do_twice,then from decorators import do_twice."
   ],
   "outputs": [],
   "metadata": {}
  },
  {
   "cell_type": "code",
   "execution_count": null,
   "source": [
    "# in the jupyternotebook we use the decorator directly with the pie @\n",
    "\n",
    "@do_twice\n",
    "def say_whee():\n",
    "    print(\"Whee!\")"
   ],
   "outputs": [],
   "metadata": {}
  },
  {
   "cell_type": "code",
   "execution_count": null,
   "source": [
    "say_whee()"
   ],
   "outputs": [],
   "metadata": {}
  },
  {
   "cell_type": "markdown",
   "source": [
    "#### Decorating Functions With Arguments\n",
    "\n",
    "Say that you have a function that accepts some arguments. Can you still decorate it? Let’s try:"
   ],
   "metadata": {}
  },
  {
   "cell_type": "code",
   "execution_count": null,
   "source": [
    "@do_twice\n",
    "def greet(name):\n",
    "    print(f\"Hello{name}\")"
   ],
   "outputs": [],
   "metadata": {}
  },
  {
   "cell_type": "code",
   "execution_count": null,
   "source": [
    "greet(\"world\")"
   ],
   "outputs": [],
   "metadata": {}
  },
  {
   "cell_type": "markdown",
   "source": [
    "The problem is that the inner function `wrapper_do_twice()` does not take any arguments, but name=\"World\" was passed to it.\n",
    "\n",
    "You could fix this by letting `wrapper_do_twice()` accept one argument, but then it would not work for the `say_whee()` function you created earlier.\n",
    "\n",
    "Here we will use **[args and kwargs](https://realpython.com/python-kwargs-and-args/)**\n",
    "\n",
    "The solution is to use **`*args and **kwargs`** in the inner wrapper function. \n",
    "\n",
    "Then it will accept an arbitrary number of positional and keyword arguments. \n",
    "\n",
    "Rewrite decorators.py as follows:"
   ],
   "metadata": {}
  },
  {
   "cell_type": "code",
   "execution_count": null,
   "source": [
    "def do_twice(func):\n",
    "    def wrapper_do_twice(*args, **kwargs):\n",
    "        func(*args, **kwargs)\n",
    "        func(*args, **kwargs)\n",
    "    return wrapper_do_twice"
   ],
   "outputs": [],
   "metadata": {}
  },
  {
   "cell_type": "markdown",
   "source": [
    "The wrapper_do_twice() inner function now accepts any number of arguments and passes them on to the function it decorates. \n",
    "\n",
    "Now both your say_whee() and greet() examples works:"
   ],
   "metadata": {}
  },
  {
   "cell_type": "code",
   "execution_count": null,
   "source": [
    "say_whee()"
   ],
   "outputs": [],
   "metadata": {}
  },
  {
   "cell_type": "code",
   "execution_count": null,
   "source": [
    "@do_twice\n",
    "def greet(name):\n",
    "    print(f\"Hello {name}\")\n",
    "greet(\"World\")"
   ],
   "outputs": [],
   "metadata": {}
  },
  {
   "cell_type": "markdown",
   "source": [
    "### Returning Values From Decorated Functions\n",
    "\n",
    "What happens to the return value of decorated functions? \n",
    "\n",
    "Well, that’s up to the decorator to decide.\n",
    "\n",
    "Let’s say you decorate a simple function as follows:"
   ],
   "metadata": {}
  },
  {
   "cell_type": "code",
   "execution_count": null,
   "source": [
    "# def do_twice(func):\n",
    "#     def wrapper_do_twice(*args, **kwargs):\n",
    "#         func(*args, **kwargs)\n",
    "#         func(*args, **kwargs)\n",
    "#     return wrapper_do_twice\n",
    "\n",
    "@do_twice\n",
    "def return_greeting(name):\n",
    "    print(\"Creating greeting\")\n",
    "    return f\"Hi {name}\""
   ],
   "outputs": [],
   "metadata": {}
  },
  {
   "cell_type": "code",
   "execution_count": null,
   "source": [
    "hi_tony = return_greeting(\"Tony\")"
   ],
   "outputs": [],
   "metadata": {}
  },
  {
   "cell_type": "code",
   "execution_count": null,
   "source": [
    "print(hi_tony)"
   ],
   "outputs": [],
   "metadata": {}
  },
  {
   "cell_type": "markdown",
   "source": [
    "No return,why?\n",
    "\n",
    "Because the `do_twice_wrapper()` doesn’t explicitly return a value, the call return_greeting(\"Tony\") ended up returning None.\n",
    "\n",
    "To fix this, you need to **make sure the wrapper function returns the return value of the decorated function.**\n",
    "\n",
    "Change your decorators.py file:"
   ],
   "metadata": {}
  },
  {
   "cell_type": "code",
   "execution_count": null,
   "source": [
    "def do_twice(func):\n",
    "    def wrapper_do_twice(*args, **kwargs):\n",
    "        func(*args, **kwargs)\n",
    "        return func(*args, **kwargs)\n",
    "\n",
    "    return wrapper_do_twice"
   ],
   "outputs": [],
   "metadata": {}
  },
  {
   "cell_type": "code",
   "execution_count": null,
   "source": [
    "@do_twice\n",
    "def return_greeting(name):\n",
    "    print(\"Creating greeting\")\n",
    "    return f\"Hi {name}\"\n",
    "hi_tony = return_greeting(\"Tony\")"
   ],
   "outputs": [],
   "metadata": {}
  },
  {
   "cell_type": "code",
   "execution_count": null,
   "source": [
    "print(hi_tony)"
   ],
   "outputs": [],
   "metadata": {}
  },
  {
   "cell_type": "code",
   "execution_count": null,
   "source": [],
   "outputs": [],
   "metadata": {}
  },
  {
   "cell_type": "markdown",
   "source": [
    "### Introspection__Who Are You, Really?"
   ],
   "metadata": {}
  },
  {
   "cell_type": "markdown",
   "source": [
    "A great convenience when working with Python, especially in the interactive shell, is its powerful **`introspection ability`**. \n",
    "\n",
    "**Introspection** is the ability of an object to know about its own attributes at runtime. \n",
    "\n",
    "For instance, a function knows its own name and **[documentation](https://realpython.com/documenting-python-code/)**\n",
    "\n",
    "bonus:[inspect — Inspect live objects](https://docs.python.org/3.9/library/inspect.html?highlight=introspection)"
   ],
   "metadata": {}
  },
  {
   "cell_type": "code",
   "execution_count": null,
   "source": [
    "print"
   ],
   "outputs": [],
   "metadata": {}
  },
  {
   "cell_type": "code",
   "execution_count": null,
   "source": [
    "print.__name__"
   ],
   "outputs": [],
   "metadata": {}
  },
  {
   "cell_type": "code",
   "execution_count": null,
   "source": [
    "help(print)"
   ],
   "outputs": [],
   "metadata": {}
  },
  {
   "cell_type": "code",
   "execution_count": null,
   "source": [
    "print(...)"
   ],
   "outputs": [],
   "metadata": {}
  },
  {
   "cell_type": "markdown",
   "source": [
    "#### Works for functions you define\n",
    "\n",
    "The introspection works for functions you define yourself as well:"
   ],
   "metadata": {}
  },
  {
   "cell_type": "code",
   "execution_count": null,
   "source": [
    "say_whee"
   ],
   "outputs": [],
   "metadata": {}
  },
  {
   "cell_type": "code",
   "execution_count": null,
   "source": [
    "say_whee.__name__"
   ],
   "outputs": [],
   "metadata": {}
  },
  {
   "cell_type": "code",
   "execution_count": null,
   "source": [
    "help(say_whee)"
   ],
   "outputs": [],
   "metadata": {}
  },
  {
   "cell_type": "markdown",
   "source": [
    "#### @functools.wraps\n",
    "\n",
    "However, after being decorated, `say_whee()` has gotten very confused about its identity.\n",
    "\n",
    "It now reports being the `wrapper_do_twice()` inner function inside the `do_twice()` decorator.\n",
    "\n",
    "Although technically true, this is not very useful information.\n",
    "\n",
    "To fix this, decorators should use the **`@functools.wraps`** decorator, which will preserve information about the original function. \n",
    "\n"
   ],
   "metadata": {}
  },
  {
   "cell_type": "markdown",
   "source": [
    "[@functools.wraps](https://docs.python.org/3/library/functools.html#functools.wraps_)(wrapped, assigned=WRAPPER_ASSIGNMENTS, updated=WRAPPER_UPDATES)\n",
    "\n",
    "    This is a convenience function for invoking update_wrapper() as a function decorator when defining a wrapper function. It is equivalent to partial(update_wrapper, wrapped=wrapped, assigned=assigned, updated=updated). \n",
    "    \n",
    " **Without the use of this decorator factory, the name of the example function would have been 'wrapper', and the docstring of the original example() would have been lost.**       "
   ],
   "metadata": {}
  },
  {
   "cell_type": "code",
   "execution_count": null,
   "source": [
    "#create the decorator:\n",
    "from functools import wraps\n",
    "def my_decorator(f):\n",
    "    @wraps(f)\n",
    "    def wrapper(*args,**kwargs):#**kwds??\n",
    "        print('Calling decorated function')\n",
    "        return f(*args,**kwargs)\n",
    "    return wrapper\n",
    "# here is the function f:\n",
    "@my_decorator\n",
    "def example():\n",
    "    \"\"\"Docstring\"\"\"\n",
    "    print('Called example function')\n",
    "    \n",
    "example()"
   ],
   "outputs": [],
   "metadata": {}
  },
  {
   "cell_type": "code",
   "execution_count": null,
   "source": [
    "print(example.__name__, example.__doc__)"
   ],
   "outputs": [],
   "metadata": {}
  },
  {
   "cell_type": "markdown",
   "source": [
    "However, if we do not use the **wraps**:"
   ],
   "metadata": {}
  },
  {
   "cell_type": "code",
   "execution_count": null,
   "source": [
    "def my_decorator(func):\n",
    "    def wrapper(*args, **kwargs):\n",
    "        '''decorator'''\n",
    "        print('Calling decorated function...')\n",
    "        return func(*args, **kwargs)\n",
    "    return wrapper\n",
    "\n",
    "@my_decorator\n",
    "def example():\n",
    "    \"\"\"Docstring\"\"\"\n",
    "    print('Called example function')\n",
    "\n",
    "print(example.__name__, example.__doc__)"
   ],
   "outputs": [],
   "metadata": {}
  },
  {
   "cell_type": "markdown",
   "source": [
    "Now Update decorators.py again:"
   ],
   "metadata": {}
  },
  {
   "cell_type": "code",
   "execution_count": null,
   "source": [
    "import functools\n",
    "\n",
    "def do_twice(func):\n",
    "    @functools.wraps(func)\n",
    "    def wrapper_do_twice(*args,**kwargs):\n",
    "        func(*args,**kwargs)\n",
    "        return func(*args,**kwargs)\n",
    "    return wrapper_do_twice"
   ],
   "outputs": [],
   "metadata": {}
  },
  {
   "cell_type": "markdown",
   "source": [
    "You do not need to change anything about the decorated say_whee() function:"
   ],
   "metadata": {}
  },
  {
   "cell_type": "code",
   "execution_count": null,
   "source": [
    "say_whee"
   ],
   "outputs": [],
   "metadata": {}
  },
  {
   "cell_type": "code",
   "execution_count": null,
   "source": [
    "say_whee.__name__"
   ],
   "outputs": [],
   "metadata": {}
  },
  {
   "cell_type": "code",
   "execution_count": null,
   "source": [
    "help(say_whee)"
   ],
   "outputs": [],
   "metadata": {}
  },
  {
   "cell_type": "markdown",
   "source": [
    "### Real examples of decorators."
   ],
   "metadata": {}
  },
  {
   "cell_type": "markdown",
   "source": [
    "A few more useful examples of decorators.\n",
    "\n",
    "You’ll notice that they’ll mainly follow the same pattern that you’ve learned so far:\n",
    "\n",
    "**Meanwhile,** always be curious with what you see and what you think,then you can make more."
   ],
   "metadata": {}
  },
  {
   "cell_type": "markdown",
   "source": [
    "#### Prime Number @@？\n",
    "\n",
    "Find the prime number in 10000."
   ],
   "metadata": {}
  },
  {
   "cell_type": "code",
   "execution_count": null,
   "source": [
    "# judge whether the number is prime number.\n",
    "def is_prime(num):\n",
    "    if num < 2:\n",
    "        return False\n",
    "    elif num == 2:\n",
    "        return True\n",
    "    else:\n",
    "        for i in range(2,num):\n",
    "            if num % i == 0:\n",
    "                return False\n",
    "            return True"
   ],
   "outputs": [],
   "metadata": {}
  },
  {
   "cell_type": "code",
   "execution_count": null,
   "source": [
    "#then we set the range to run the is_prime:\n",
    "\n",
    "# def prime_nums():\n",
    "#     for i in range(2,10000):\n",
    "#         if is_prime(i):\n",
    "#             print(i)\n",
    "\n",
    "# prime_nums()"
   ],
   "outputs": [],
   "metadata": {}
  },
  {
   "cell_type": "code",
   "execution_count": null,
   "source": [
    "# time the function:\n",
    "import time\n",
    "\n",
    "def prime_nums():\n",
    "    t_1 = time.time()\n",
    "    for i in range(2,10000):\n",
    "        if is_prime(i):\n",
    "            print(i)\n",
    "    t_2 = time.time()\n",
    "    print(t_2-t_1)\n",
    "\n",
    "# prime_nums() ## long output \n",
    "## but in thie way, the code is not readable,so we would like to apply the decorator."
   ],
   "outputs": [],
   "metadata": {}
  },
  {
   "cell_type": "code",
   "execution_count": null,
   "source": [
    "# use the decorator\n",
    "import time\n",
    "\n",
    "def display_time(func):\n",
    "    def wrapper():\n",
    "        t_1 = time.time()\n",
    "        result = func()\n",
    "        t_2 = time.time()\n",
    "        print(t_2-t_1)\n",
    "        return result\n",
    "    return wrapper\n",
    "\n",
    "\n",
    "\n",
    "def is_prime(num):\n",
    "    if num < 2:\n",
    "        return False\n",
    "    elif num == 2:\n",
    "        return True\n",
    "    else:\n",
    "        for i in range(2,num):\n",
    "            if num % i == 0:\n",
    "                return False\n",
    "            return True\n",
    "        \n",
    "\n",
    "@display_time\n",
    "def count_prime_nums():\n",
    "    count = 0\n",
    "    for i in range(2,10000):\n",
    "        if is_prime(i):\n",
    "            count = count + 1\n",
    "    return count\n",
    "\n",
    "count = count_prime_nums()\n",
    "\n",
    "print(count)"
   ],
   "outputs": [],
   "metadata": {}
  },
  {
   "cell_type": "code",
   "execution_count": null,
   "source": [
    "def display_time(func):\n",
    "       def wrapper(n):\n",
    "               t1 = time.time()\n",
    "               result = func(n)\n",
    "               t2 = time.time()\n",
    "               print(t2-t1)\n",
    "               return result\n",
    "       return wrapper\n",
    "def is_Prime(num):\n",
    "       if num < 2:\n",
    "               return True\n",
    "       elif num ==  2:  \n",
    "               return False\n",
    "       else:\n",
    "               for i in (2,num):\n",
    "                       if num % i == 0:\n",
    "                               return False\n",
    "               return True\n",
    "@display_time\n",
    "def find_Prime(n):\n",
    "       count = 0 \n",
    "       for i in range(2,n):\n",
    "               if is_Prime(i):\n",
    "                       count += 1\n",
    "       return count\n",
    "\n",
    "find_Prime(10000)"
   ],
   "outputs": [],
   "metadata": {}
  },
  {
   "cell_type": "code",
   "execution_count": null,
   "source": [],
   "outputs": [],
   "metadata": {}
  },
  {
   "cell_type": "code",
   "execution_count": null,
   "source": [],
   "outputs": [],
   "metadata": {}
  },
  {
   "cell_type": "markdown",
   "source": [
    "#### Boilerplate Template"
   ],
   "metadata": {}
  },
  {
   "cell_type": "code",
   "execution_count": null,
   "source": [
    "#template\n",
    "\n",
    "import functools\n",
    "\n",
    "def decotator(func):\n",
    "    def wrapper_decorator(*args,**kwargs):\n",
    "        #do sth before:\n",
    "        value = func(*args,**kwargs)\n",
    "        #do sth after:\n",
    "        return value\n",
    "    return wrapper_decorator"
   ],
   "outputs": [],
   "metadata": {}
  },
  {
   "cell_type": "markdown",
   "source": [
    "This formula is a **good boilerplate template** for building more complex decorators.\n",
    "\n",
    "**Note:** In later examples, we will assume that these decorators are saved in your decorators.py file as well. \n",
    "    \n",
    "Recall that you can download all the examples [here](https://github.com/realpython/materials/tree/master/primer-on-python-decorators).\n"
   ],
   "metadata": {}
  },
  {
   "cell_type": "markdown",
   "source": [
    "#### Timing Functions\n",
    "\n",
    "Let’s start by creating a @timer decorator. \n",
    "\n",
    "It will [measure the time a function takes to execute](https://realpython.com/python-timer/) and print the duration to the console. \n",
    "\n",
    "Here’s the code:"
   ],
   "metadata": {}
  },
  {
   "cell_type": "code",
   "execution_count": null,
   "source": [
    "import functools\n",
    "import time\n",
    "\n",
    "def timer(func):\n",
    "    \"\"\"Print the runtime of the decorated function\"\"\"\n",
    "    @functools.wraps(func)\n",
    "    def wrapper_timer(*args,**kwargs):    \n",
    "        start_time = time.perf_counter()    #1\n",
    "        value = func(*args,**kwargs)\n",
    "        end_time = time.perf_counter()      #2\n",
    "        run_time = end_time - start_time    #3\n",
    "        print(f\"Finished {func.__name__!r} in {run_time:.4f} secs\")\n",
    "        return value\n",
    "    return wrapper_timer\n",
    "\n",
    "@timer\n",
    "def waste_some_time(num_times):\n",
    "    for _ in range(num_times):\n",
    "        sum([i ** 2 for i in range(10000)])"
   ],
   "outputs": [],
   "metadata": {}
  },
  {
   "cell_type": "markdown",
   "source": [
    "This decorator works by storing the time just before the function starts running (at the line marked # 1) and just after the function finishes (at # 2). \n",
    "\n",
    "\n",
    "The time the function takes is then the difference between the two (at # 3). \n",
    "\n",
    "We use the **`time.perf_counter() function`**, which does a good job of **measuring time intervals**-（we need the subtraction of the start and end time). Here are some examples of timings:"
   ],
   "metadata": {}
  },
  {
   "cell_type": "code",
   "execution_count": null,
   "source": [
    "waste_some_time(1)"
   ],
   "outputs": [],
   "metadata": {}
  },
  {
   "cell_type": "code",
   "execution_count": null,
   "source": [
    "# waste_some_time(999)"
   ],
   "outputs": [],
   "metadata": {}
  },
  {
   "cell_type": "markdown",
   "source": [
    "Decorators are advanced beings. Keep on coding you will get more."
   ],
   "metadata": {}
  },
  {
   "cell_type": "markdown",
   "source": [
    "**Note:** The **`@timer`** decorator is great if you just want to get an idea about the runtime of your functions. \n",
    "\n",
    "If you want to do more precise measurements of code, you should instead consider the timeit module in the standard library. \n",
    "\n",
    "It temporarily disables garbage collection and runs multiple trials to strip out noise from quick function calls."
   ],
   "metadata": {}
  },
  {
   "cell_type": "markdown",
   "source": [
    "#### Debugging Code？\n",
    "\n",
    "The following **`@debug`** decorator will print the arguments a function is called with as well as its return value every time the function is called:"
   ],
   "metadata": {}
  },
  {
   "cell_type": "code",
   "execution_count": null,
   "source": [
    "import functools\n",
    "\n",
    "def debug(func):\n",
    "    \"\"\"Print the function signature and return value\"\"\"\n",
    "    @functools.wraps(func)\n",
    "    def wrapper_debug(*args,**kwargs):\n",
    "        args_repr = [repr(a) for a in args]\n",
    "        kwargs_repr =[f\"{k}={v!r}\" for k, v in kwargs.items()]\n",
    "        signature = \",\".join(args_repr + kwargs_repr)\n",
    "        print(f\"Calling {func.__name__}({signature})\")\n",
    "        value = func(*args,**kwargs)\n",
    "        print(f\"{func.__name__!r} returned {value!r}\")\n",
    "        return value\n",
    "    return wrapper_debug"
   ],
   "outputs": [],
   "metadata": {}
  },
  {
   "cell_type": "markdown",
   "source": [
    "The signature is created by joining the [**string representations**](https://dbader.org/blog/python-repr-vs-str) of all the arguments. The numbers in the following list correspond to the numbered comments in the code:\n",
    "\n",
    "1. Create a list of the positional arguments. Use `repr()` to get a nice string representing each argument.\n",
    "\n",
    "2. Create a list of the keyword arguments. The **[f-string](https://realpython.com/python-f-strings/)** formats each argument as `key=value where the !r specifier means that repr() `is used to represent the value.\n",
    "\n",
    "3. The lists of positional and keyword arguments is joined together to one signature string with each argument separated by a comma.\n",
    "\n",
    "4. The return value is printed after the function is executed.\n",
    "\n",
    "Let’s see how the decorator works in practice by applying it to a simple function with one position and one keyword argument:"
   ],
   "metadata": {}
  },
  {
   "cell_type": "markdown",
   "source": [],
   "metadata": {}
  },
  {
   "cell_type": "code",
   "execution_count": null,
   "source": [
    "@debug\n",
    "\n",
    "def make_greeting(name,age=None):\n",
    "    if age is None:\n",
    "        return f\"Howdy {name}\"\n",
    "    else:\n",
    "        return f\"Whoa {name}! {age} already, you are growing up!\""
   ],
   "outputs": [],
   "metadata": {}
  },
  {
   "cell_type": "markdown",
   "source": [
    "Note how the @debug decorator prints the signature and return value of the make_greeting() function:"
   ],
   "metadata": {}
  },
  {
   "cell_type": "code",
   "execution_count": null,
   "source": [
    "make_greeting('Evan')"
   ],
   "outputs": [],
   "metadata": {}
  },
  {
   "cell_type": "code",
   "execution_count": null,
   "source": [
    "make_greeting('Wendy',age=25)"
   ],
   "outputs": [],
   "metadata": {}
  },
  {
   "cell_type": "code",
   "execution_count": null,
   "source": [
    "make_greeting(name='Tony',age=7)"
   ],
   "outputs": [],
   "metadata": {}
  },
  {
   "cell_type": "markdown",
   "source": [
    "This example might not seem immediately useful since the @debug decorator just repeats what you just wrote.\n",
    "\n",
    "It’s more powerful when applied to small convenience functions that you don’t call directly yourself."
   ],
   "metadata": {}
  },
  {
   "cell_type": "markdown",
   "source": [
    "##### Calculates an approximation to the [mathematical constant e](https://en.wikipedia.org/wiki/E_(mathematical_constant))\n",
    "(?)\n",
    "\n",
    "The approximation of e is based on the following [series expansion](https://en.wikipedia.org/wiki/E_(mathematical_constant)):\n",
    "\n",
    "$$e=\\sum_{n=0}^{\\infty} \\frac{1}{n !}=\\frac{1}{0 !}+\\frac{1}{1 !}+\\frac{1}{2 !}+\\cdots=\\frac{1}{1}+\\frac{1}{1}+\\frac{1}{1 \\cdot 2}+\\cdots$$"
   ],
   "metadata": {}
  },
  {
   "cell_type": "code",
   "execution_count": null,
   "source": [
    "import math\n",
    "\n",
    "@debug\n",
    "\n",
    "# Apply a decorator to a standard library function\n",
    "math.factorial = debug(math.factorial)\n",
    "\n",
    "def approximate_e(terms=18):\n",
    "    return sum(1 / math.factorial(n) for n in range(terms))\n",
    "\n"
   ],
   "outputs": [],
   "metadata": {}
  },
  {
   "cell_type": "markdown",
   "source": [
    "#### Slowing down Code\n",
    "\n",
    "Probably the most common use case is that you want to rate-limit a function that continuously checks whether a resource—like a web page—has changed. \n",
    "\n",
    "The @slow_down decorator will sleep one second before it calls the decorated function:"
   ],
   "metadata": {}
  },
  {
   "cell_type": "code",
   "execution_count": null,
   "source": [
    "import functools\n",
    "import time\n",
    "\n",
    "# create the slowdown decorator:\n",
    "def slow_down(func):\n",
    "    \"\"\"Sleep 1 second before calling the function\"\"\"\n",
    "    @functools.wraps(func)\n",
    "    def wrapper_slow_down(*args,**kwargs):\n",
    "        time.sleep(0.1)#####slowdown core try:0,0.1,0.5,1\n",
    "        return func(*args,**kwargs)\n",
    "    return wrapper_slow_down\n",
    "\n",
    "@slow_down\n",
    "def countdown(from_number):\n",
    "    if from_number < 1:\n",
    "        print(\"Lift off!!\")\n",
    "    else:\n",
    "        print(from_number)\n",
    "        countdown(from_number - 1)"
   ],
   "outputs": [],
   "metadata": {}
  },
  {
   "cell_type": "code",
   "execution_count": null,
   "source": [
    "countdown(3)"
   ],
   "outputs": [],
   "metadata": {}
  },
  {
   "cell_type": "markdown",
   "source": [
    "**Note:** **`The countdown()`** function is a recursive function. \n",
    "\n",
    "In other words, it’s a function calling itself. \n",
    "\n",
    "To learn more about recursive functions in Python, see our guide on [Thinking Recursively in Python](https://realpython.com/python-thinking-recursively/)."
   ],
   "metadata": {}
  },
  {
   "cell_type": "markdown",
   "source": [
    "#### Registering Plugins:Create a light-weight plug-in architecture\n",
    "\n",
    "Decorators don’t have to wrap the function they’re decorating. \n",
    "\n",
    "They can also simply register that a function exists and return it unwrapped. \n",
    "\n",
    "This can be used, for instance, to create a **light-weight plug-in architecture**:"
   ],
   "metadata": {}
  },
  {
   "cell_type": "code",
   "execution_count": null,
   "source": [
    "import random\n",
    "PLUGINS = dict() # whachout,here is the dictionary.\n",
    "\n",
    "def register(func):\n",
    "    \"\"\"Register a function as a plug-in\"\"\"\n",
    "    PLUGINS[func.__name__]= func\n",
    "    return func\n",
    "\n",
    "@register\n",
    "def say_hello(name):\n",
    "    return f\"Hello {name}\"\n",
    "\n",
    "@register\n",
    "def be_awesome(name):\n",
    "    return f\"Yo {name},together we are the awesomest!\"\n",
    "\n",
    "@register\n",
    "def keep_calm(name):\n",
    "    return f\"{name},you did greaT!Never give up!keep calm and carry on!!\"\n",
    "\n",
    "\n",
    "def randomly_greet(name):\n",
    "    greeter,greeter_func = random.choice(list(PLUGINS.items()))\n",
    "\n",
    "    return greeter_func(name)"
   ],
   "outputs": [],
   "metadata": {}
  },
  {
   "cell_type": "code",
   "execution_count": null,
   "source": [
    "PLUGINS"
   ],
   "outputs": [],
   "metadata": {}
  },
  {
   "cell_type": "code",
   "execution_count": null,
   "source": [
    "randomly_greet(\"Evan\")"
   ],
   "outputs": [],
   "metadata": {}
  },
  {
   "cell_type": "markdown",
   "source": [
    "The main benefit of this simple plugin architecture is that you do not need to maintain a list of which plugins exist. \n",
    "\n",
    "That list is created when the plugins register themselves.\n",
    "\n",
    "This makes it trivial to add a new plugin: just define the function and decorate it with @register.\n",
    "\n",
    "If you are familiar with `globals()` in Python, you might see some similarities to how the plugin architecture works.\n",
    "\n",
    "`globals()` gives access to all global variables in the current scope, including your plugins:"
   ],
   "metadata": {}
  },
  {
   "cell_type": "code",
   "execution_count": null,
   "source": [
    "# globals()"
   ],
   "outputs": [],
   "metadata": {}
  },
  {
   "cell_type": "markdown",
   "source": [
    "#### Is the User Logged In?(Using [Flask](https://realpython.com/tutorials/flask/))\n",
    "\n",
    "The final example before moving on to some fancier decorators is commonly used when working with a web framework. \n",
    "\n",
    "In this example, we are using [Flask](https://realpython.com/tutorials/flask/) to set up a /secret web page that should only be visible to users that are logged in or otherwise authenticated:"
   ],
   "metadata": {}
  },
  {
   "cell_type": "code",
   "execution_count": null,
   "source": [
    "# from flask import Flask, g, request, redirect, url_for\n",
    "# import functools\n",
    "# app = Flask(__name__)\n",
    "\n",
    "# def login_required(func):\n",
    "#     \"\"\"Make sure user is logged in before proceeding\"\"\"\n",
    "#     @functools.wraps(func)\n",
    "#     def wrapper_login_required(*args, **kwargs):\n",
    "#         if g.user is None:\n",
    "#             return redirect(url_for(\"login\", next=request.url))\n",
    "#         return func(*args, **kwargs)\n",
    "#     return wrapper_login_required\n",
    "\n",
    "# @app.route(\"/secret\")\n",
    "# @login_required\n",
    "# def secret():\n",
    "#     ...\n",
    "# # While this gives an idea about how to add authentication to your web framework, you should usually not write these types of decorators yourself. For Flask, you can use the Flask-Login extension instead, which adds more security and functionality."
   ],
   "outputs": [],
   "metadata": {}
  },
  {
   "cell_type": "markdown",
   "source": [
    "### @@Fancy Decorators\n",
    "\n",
    "So far, you’ve seen how to create simple decorators. You already have a pretty good understanding of what decorators are and how they work. Feel free to take a break from this article to practice everything you’ve learned.\n",
    "\n",
    "In the second part of this tutorial, we’ll explore more advanced features, including how to use the following:\n",
    "\n",
    "\n",
    "   - Decorators on classes\n",
    "   - Several decorators on one function\n",
    "   - Decorators with arguments\n",
    "   - Decorators that can optionally take arguments\n",
    "   - Stateful decorators\n",
    "   - Classes as decorators\n"
   ],
   "metadata": {}
  },
  {
   "cell_type": "code",
   "execution_count": null,
   "source": [],
   "outputs": [],
   "metadata": {}
  },
  {
   "cell_type": "code",
   "execution_count": null,
   "source": [],
   "outputs": [],
   "metadata": {}
  },
  {
   "cell_type": "markdown",
   "source": [
    "## Python's Instance, Class, and Static Methods"
   ],
   "metadata": {}
  },
  {
   "cell_type": "markdown",
   "source": [
    "Let’s begin by writing a (Python 3) class that contains simple examples for all three method types:"
   ],
   "metadata": {}
  },
  {
   "cell_type": "code",
   "execution_count": null,
   "source": [],
   "outputs": [],
   "metadata": {}
  },
  {
   "cell_type": "code",
   "execution_count": null,
   "source": [],
   "outputs": [],
   "metadata": {}
  },
  {
   "cell_type": "code",
   "execution_count": null,
   "source": [],
   "outputs": [],
   "metadata": {}
  },
  {
   "cell_type": "code",
   "execution_count": null,
   "source": [],
   "outputs": [],
   "metadata": {}
  },
  {
   "cell_type": "code",
   "execution_count": null,
   "source": [],
   "outputs": [],
   "metadata": {}
  },
  {
   "cell_type": "markdown",
   "source": [
    "## Descriptor"
   ],
   "metadata": {}
  },
  {
   "cell_type": "markdown",
   "source": [],
   "metadata": {}
  },
  {
   "cell_type": "code",
   "execution_count": null,
   "source": [],
   "outputs": [],
   "metadata": {}
  },
  {
   "cell_type": "code",
   "execution_count": null,
   "source": [],
   "outputs": [],
   "metadata": {}
  },
  {
   "cell_type": "code",
   "execution_count": null,
   "source": [],
   "outputs": [],
   "metadata": {}
  },
  {
   "cell_type": "code",
   "execution_count": null,
   "source": [],
   "outputs": [],
   "metadata": {}
  },
  {
   "cell_type": "markdown",
   "source": [
    "# Study Notes:"
   ],
   "metadata": {}
  },
  {
   "cell_type": "markdown",
   "source": [
    "## dataclasses"
   ],
   "metadata": {}
  },
  {
   "cell_type": "markdown",
   "source": [
    "## documentation inspect 线程 多线程 异发 同步"
   ],
   "metadata": {}
  },
  {
   "cell_type": "markdown",
   "source": [],
   "metadata": {}
  },
  {
   "cell_type": "markdown",
   "source": [
    "## contextlib 异步 如何减少循环"
   ],
   "metadata": {}
  },
  {
   "cell_type": "code",
   "execution_count": null,
   "source": [],
   "outputs": [],
   "metadata": {}
  },
  {
   "cell_type": "code",
   "execution_count": null,
   "source": [],
   "outputs": [],
   "metadata": {}
  },
  {
   "cell_type": "code",
   "execution_count": null,
   "source": [],
   "outputs": [],
   "metadata": {}
  },
  {
   "cell_type": "code",
   "execution_count": null,
   "source": [],
   "outputs": [],
   "metadata": {}
  },
  {
   "cell_type": "markdown",
   "source": [
    "https://docs.python.org/3.9/library/inspect.html?highlight=introspection\n",
    "\n",
    "https://docs.python.org/3/howto/descriptor.html\n",
    "    \n",
    "https://docs.python.org/zh-cn/3.7/howto/descriptor.html"
   ],
   "metadata": {}
  },
  {
   "cell_type": "code",
   "execution_count": null,
   "source": [],
   "outputs": [],
   "metadata": {}
  }
 ],
 "metadata": {
  "kernelspec": {
   "display_name": "p39",
   "language": "python",
   "name": "p39"
  },
  "language_info": {
   "codemirror_mode": {
    "name": "ipython",
    "version": 3
   },
   "file_extension": ".py",
   "mimetype": "text/x-python",
   "name": "python",
   "nbconvert_exporter": "python",
   "pygments_lexer": "ipython3",
   "version": "3.9.6"
  },
  "latex_envs": {
   "LaTeX_envs_menu_present": true,
   "autoclose": false,
   "autocomplete": true,
   "bibliofile": "biblio.bib",
   "cite_by": "apalike",
   "current_citInitial": 1,
   "eqLabelWithNumbers": true,
   "eqNumInitial": 1,
   "hotkeys": {
    "equation": "Ctrl-E",
    "itemize": "Ctrl-I"
   },
   "labels_anchors": false,
   "latex_user_defs": false,
   "report_style_numbering": false,
   "user_envs_cfg": false
  },
  "toc": {
   "base_numbering": 1,
   "nav_menu": {},
   "number_sections": true,
   "sideBar": true,
   "skip_h1_title": false,
   "title_cell": "Table of Contents",
   "title_sidebar": "Contents",
   "toc_cell": false,
   "toc_position": {
    "height": "calc(100% - 180px)",
    "left": "10px",
    "top": "150px",
    "width": "342px"
   },
   "toc_section_display": true,
   "toc_window_display": true
  },
  "varInspector": {
   "cols": {
    "lenName": 16,
    "lenType": 16,
    "lenVar": 40
   },
   "kernels_config": {
    "python": {
     "delete_cmd_postfix": "",
     "delete_cmd_prefix": "del ",
     "library": "var_list.py",
     "varRefreshCmd": "print(var_dic_list())"
    },
    "r": {
     "delete_cmd_postfix": ") ",
     "delete_cmd_prefix": "rm(",
     "library": "var_list.r",
     "varRefreshCmd": "cat(var_dic_list()) "
    }
   },
   "types_to_exclude": [
    "module",
    "function",
    "builtin_function_or_method",
    "instance",
    "_Feature"
   ],
   "window_display": false
  }
 },
 "nbformat": 4,
 "nbformat_minor": 5
}