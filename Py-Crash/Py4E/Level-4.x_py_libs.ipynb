{
    "cells": [
        {
            "cell_type": "markdown",
            "source": [
                "# My Python & Libs Notes"
            ],
            "metadata": {}
        },
        {
            "cell_type": "code",
            "execution_count": 4,
            "source": [
                "%matplotlib inline\n",
                "import numpy as np\n",
                "import pandas as pd\n",
                "import matplotlib.pyplot as plt\n",
                "import statsmodels.api as sm"
            ],
            "outputs": [],
            "metadata": {}
        },
        {
            "cell_type": "markdown",
            "source": [
                "## Pandas\n",
                "\n",
                "## pandas.DataFrame.loc/iloc"
            ],
            "metadata": {}
        },
        {
            "cell_type": "markdown",
            "source": [
                "[Label vs. Location](https://stackoverflow.com/questions/31593201/how-are-iloc-and-loc-different)\n",
                "\n",
                "The main distinction between the two methods is:\n",
                "\n",
                "- loc gets rows (and/or columns) **with particular labels**.\n",
                "\n",
                "- iloc gets rows (and/or columns) **at integer locations**.\n"
            ],
            "metadata": {}
        },
        {
            "cell_type": "code",
            "execution_count": 19,
            "source": [
                "s = pd.Series(list(\"abcdef\"), index=[49, 48, 47, 0, 1, 2])\n",
                "s"
            ],
            "outputs": [
                {
                    "output_type": "execute_result",
                    "data": {
                        "text/plain": [
                            "49    a\n",
                            "48    b\n",
                            "47    c\n",
                            "0     d\n",
                            "1     e\n",
                            "2     f\n",
                            "dtype: object"
                        ]
                    },
                    "metadata": {},
                    "execution_count": 19
                }
            ],
            "metadata": {}
        },
        {
            "cell_type": "code",
            "execution_count": 24,
            "source": [
                "s.loc[0]"
            ],
            "outputs": [
                {
                    "output_type": "execute_result",
                    "data": {
                        "text/plain": [
                            "'d'"
                        ]
                    },
                    "metadata": {},
                    "execution_count": 24
                }
            ],
            "metadata": {}
        },
        {
            "cell_type": "code",
            "execution_count": 25,
            "source": [
                "s.iloc[0]"
            ],
            "outputs": [
                {
                    "output_type": "execute_result",
                    "data": {
                        "text/plain": [
                            "'a'"
                        ]
                    },
                    "metadata": {},
                    "execution_count": 25
                }
            ],
            "metadata": {}
        },
        {
            "cell_type": "code",
            "execution_count": 26,
            "source": [
                "s.loc[0:1]"
            ],
            "outputs": [
                {
                    "output_type": "execute_result",
                    "data": {
                        "text/plain": [
                            "0    d\n",
                            "1    e\n",
                            "dtype: object"
                        ]
                    },
                    "metadata": {},
                    "execution_count": 26
                }
            ],
            "metadata": {}
        },
        {
            "cell_type": "code",
            "execution_count": 33,
            "source": [
                "s.iloc[0:1] , s.iloc[0:2]"
            ],
            "outputs": [
                {
                    "output_type": "execute_result",
                    "data": {
                        "text/plain": [
                            "(49    a\n",
                            " dtype: object,\n",
                            " 49    a\n",
                            " 48    b\n",
                            " dtype: object)"
                        ]
                    },
                    "metadata": {},
                    "execution_count": 33
                }
            ],
            "metadata": {}
        },
        {
            "cell_type": "markdown",
            "source": [],
            "metadata": {}
        },
        {
            "cell_type": "code",
            "execution_count": null,
            "source": [],
            "outputs": [],
            "metadata": {}
        },
        {
            "cell_type": "code",
            "execution_count": null,
            "source": [],
            "outputs": [],
            "metadata": {}
        },
        {
            "cell_type": "code",
            "execution_count": null,
            "source": [],
            "outputs": [],
            "metadata": {}
        },
        {
            "cell_type": "code",
            "execution_count": null,
            "source": [],
            "outputs": [],
            "metadata": {}
        },
        {
            "cell_type": "code",
            "execution_count": null,
            "source": [],
            "outputs": [],
            "metadata": {}
        },
        {
            "cell_type": "markdown",
            "source": [
                "## statsmodels.api\n",
                "\n",
                "###  sm.add_constant"
            ],
            "metadata": {}
        },
        {
            "cell_type": "code",
            "execution_count": 11,
            "source": [
                "Ns = 10\n",
                "x = np.linspace(0,5,Ns)\n",
                "X = sm.add_constant(x)\n",
                "print(x)\n",
                "print(X)"
            ],
            "outputs": [
                {
                    "output_type": "stream",
                    "name": "stdout",
                    "text": [
                        "[0.         0.55555556 1.11111111 1.66666667 2.22222222 2.77777778\n",
                        " 3.33333333 3.88888889 4.44444444 5.        ]\n",
                        "[[1.         0.        ]\n",
                        " [1.         0.55555556]\n",
                        " [1.         1.11111111]\n",
                        " [1.         1.66666667]\n",
                        " [1.         2.22222222]\n",
                        " [1.         2.77777778]\n",
                        " [1.         3.33333333]\n",
                        " [1.         3.88888889]\n",
                        " [1.         4.44444444]\n",
                        " [1.         5.        ]]\n"
                    ]
                }
            ],
            "metadata": {}
        },
        {
            "cell_type": "code",
            "execution_count": null,
            "source": [],
            "outputs": [],
            "metadata": {}
        },
        {
            "cell_type": "code",
            "execution_count": null,
            "source": [],
            "outputs": [],
            "metadata": {}
        },
        {
            "cell_type": "code",
            "execution_count": null,
            "source": [],
            "outputs": [],
            "metadata": {}
        }
    ],
    "metadata": {
        "orig_nbformat": 4,
        "language_info": {
            "name": "python",
            "version": "3.9.6",
            "mimetype": "text/x-python",
            "codemirror_mode": {
                "name": "ipython",
                "version": 3
            },
            "pygments_lexer": "ipython3",
            "nbconvert_exporter": "python",
            "file_extension": ".py"
        },
        "kernelspec": {
            "name": "python3",
            "display_name": "Python 3.9.6 64-bit ('p39': conda)"
        },
        "interpreter": {
            "hash": "30957a78df82087ad0e293b0e2bba94c1e28de38d27414fc41b7300ce0c7e48e"
        }
    },
    "nbformat": 4,
    "nbformat_minor": 2
}