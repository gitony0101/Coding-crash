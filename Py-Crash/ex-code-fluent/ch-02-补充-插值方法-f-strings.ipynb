{
 "cells": [
  {
   "cell_type": "markdown",
   "metadata": {},
   "source": [
    "# f-strings 插值方法\n",
    "\n",
    "[Python 3's f-Strings: An Improved String Formatting Syntax (Guide)](https://realpython.com/python-f-strings/)\n",
    "\n",
    "[格式字符串字面值](https://docs.python.org/zh-cn/3/reference/lexical_analysis.html#f-strings)\n",
    "\n",
    "[Python 格式化字符串 f-string 概览](https://blog.csdn.net/sunxb10/article/details/81036693)\n",
    "\n",
    "\n",
    "优点：\n",
    "\n",
    "- 可读性强\n",
    "- 简洁\n",
    "- 错误更少\n",
    "- 更快\n"
   ]
  },
  {
   "cell_type": "code",
   "execution_count": 2,
   "metadata": {},
   "outputs": [
    {
     "ename": "NameError",
     "evalue": "name 'decimal' is not defined",
     "output_type": "error",
     "traceback": [
      "\u001b[0;31m---------------------------------------------------------------------------\u001b[0m",
      "\u001b[0;31mNameError\u001b[0m                                 Traceback (most recent call last)",
      "\u001b[1;32m/Users/sagawithme/Documents/Github/Coding-Crash/Py-Crash/ex-code-fluent/ch-02-插值方法-f-strings.ipynb Cell 2'\u001b[0m in \u001b[0;36m<cell line: 3>\u001b[0;34m()\u001b[0m\n\u001b[1;32m      <a href='vscode-notebook-cell:/Users/sagawithme/Documents/Github/Coding-Crash/Py-Crash/ex-code-fluent/ch-02-%E6%8F%92%E5%80%BC%E6%96%B9%E6%B3%95-f-strings.ipynb#ch0000000?line=0'>1</a>\u001b[0m width \u001b[39m=\u001b[39m \u001b[39m10\u001b[39m\n\u001b[1;32m      <a href='vscode-notebook-cell:/Users/sagawithme/Documents/Github/Coding-Crash/Py-Crash/ex-code-fluent/ch-02-%E6%8F%92%E5%80%BC%E6%96%B9%E6%B3%95-f-strings.ipynb#ch0000000?line=1'>2</a>\u001b[0m precision \u001b[39m=\u001b[39m\u001b[39m4\u001b[39m\n\u001b[0;32m----> <a href='vscode-notebook-cell:/Users/sagawithme/Documents/Github/Coding-Crash/Py-Crash/ex-code-fluent/ch-02-%E6%8F%92%E5%80%BC%E6%96%B9%E6%B3%95-f-strings.ipynb#ch0000000?line=2'>3</a>\u001b[0m value \u001b[39m=\u001b[39m decimal\u001b[39m.\u001b[39mDecimal(\u001b[39m\"\u001b[39m\u001b[39m1234567\u001b[39m\u001b[39m\"\u001b[39m)\n",
      "\u001b[0;31mNameError\u001b[0m: name 'decimal' is not defined"
     ]
    }
   ],
   "source": [
    "width = 10\n",
    "precision =4\n",
    "value = decimal.Decimal(\"1234567\")"
   ]
  },
  {
   "cell_type": "code",
   "execution_count": null,
   "metadata": {},
   "outputs": [],
   "source": []
  },
  {
   "cell_type": "code",
   "execution_count": null,
   "metadata": {},
   "outputs": [],
   "source": []
  },
  {
   "cell_type": "code",
   "execution_count": null,
   "metadata": {},
   "outputs": [],
   "source": []
  },
  {
   "cell_type": "code",
   "execution_count": null,
   "metadata": {},
   "outputs": [],
   "source": []
  },
  {
   "cell_type": "code",
   "execution_count": null,
   "metadata": {},
   "outputs": [],
   "source": []
  },
  {
   "cell_type": "code",
   "execution_count": null,
   "metadata": {},
   "outputs": [],
   "source": []
  }
 ],
 "metadata": {
  "interpreter": {
   "hash": "8f4a5838e254fd7354b8339e76c4be2d64c1bd6fe9b1f10156f6601567f3d097"
  },
  "kernelspec": {
   "display_name": "Python 3.10.4 ('p39')",
   "language": "python",
   "name": "python3"
  },
  "language_info": {
   "codemirror_mode": {
    "name": "ipython",
    "version": 3
   },
   "file_extension": ".py",
   "mimetype": "text/x-python",
   "name": "python",
   "nbconvert_exporter": "python",
   "pygments_lexer": "ipython3",
   "version": "3.10.4"
  },
  "orig_nbformat": 4
 },
 "nbformat": 4,
 "nbformat_minor": 2
}
