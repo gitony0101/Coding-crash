{
 "cells": [
  {
   "cell_type": "markdown",
   "metadata": {},
   "source": [
    "# Python 数据模型\n",
    "\n"
   ]
  },
  {
   "cell_type": "code",
   "execution_count": 1,
   "metadata": {},
   "outputs": [],
   "source": [
    "import collections"
   ]
  },
  {
   "cell_type": "code",
   "execution_count": 2,
   "metadata": {},
   "outputs": [],
   "source": [
    "Card = collections.namedtuple('Card', ['rank','suit']) # py纸牌"
   ]
  },
  {
   "cell_type": "code",
   "execution_count": 3,
   "metadata": {},
   "outputs": [],
   "source": [
    "class FrenchDeck:\n",
    "    ranks = [str(n) for n in range(2,11)]+ list('JQKA')\n",
    "    suits = 'spades dimamonds clubs hearts'.split()\n",
    "    def __init__(self):\n",
    "        self._cards = [Card(rank,suit) for suit in self.suits for rank in self.ranks]# 注意这里的生成写法\n",
    "    def __len__(self):\n",
    "        return len(self._cards)# 注意这里的缩进\n",
    "    def __getitem__(self,position):\n",
    "        return self._cards[position]"
   ]
  },
  {
   "cell_type": "code",
   "execution_count": 4,
   "metadata": {},
   "outputs": [
    {
     "data": {
      "text/plain": [
       "Card(rank='7', suit='diamonds')"
      ]
     },
     "execution_count": 4,
     "metadata": {},
     "output_type": "execute_result"
    }
   ],
   "source": [
    "beer_card = Card('7','diamonds')\n",
    "beer_card"
   ]
  },
  {
   "cell_type": "code",
   "execution_count": 5,
   "metadata": {},
   "outputs": [],
   "source": [
    "deck = FrenchDeck()"
   ]
  },
  {
   "cell_type": "code",
   "execution_count": 6,
   "metadata": {},
   "outputs": [
    {
     "data": {
      "text/plain": [
       "52"
      ]
     },
     "execution_count": 6,
     "metadata": {},
     "output_type": "execute_result"
    }
   ],
   "source": [
    "len(deck)"
   ]
  },
  {
   "cell_type": "code",
   "execution_count": 7,
   "metadata": {},
   "outputs": [
    {
     "data": {
      "text/plain": [
       "Card(rank='2', suit='spades')"
      ]
     },
     "execution_count": 7,
     "metadata": {},
     "output_type": "execute_result"
    }
   ],
   "source": [
    "deck[0]"
   ]
  },
  {
   "cell_type": "code",
   "execution_count": 8,
   "metadata": {},
   "outputs": [
    {
     "data": {
      "text/plain": [
       "[Card(rank='2', suit='spades'),\n",
       " Card(rank='3', suit='spades'),\n",
       " Card(rank='4', suit='spades'),\n",
       " Card(rank='5', suit='spades'),\n",
       " Card(rank='6', suit='spades'),\n",
       " Card(rank='7', suit='spades'),\n",
       " Card(rank='8', suit='spades'),\n",
       " Card(rank='9', suit='spades'),\n",
       " Card(rank='10', suit='spades'),\n",
       " Card(rank='J', suit='spades'),\n",
       " Card(rank='Q', suit='spades'),\n",
       " Card(rank='K', suit='spades'),\n",
       " Card(rank='A', suit='spades')]"
      ]
     },
     "execution_count": 8,
     "metadata": {},
     "output_type": "execute_result"
    }
   ],
   "source": [
    "deck[0:13]"
   ]
  },
  {
   "cell_type": "code",
   "execution_count": 9,
   "metadata": {},
   "outputs": [],
   "source": [
    "from random import  choice"
   ]
  },
  {
   "cell_type": "code",
   "execution_count": 10,
   "metadata": {},
   "outputs": [
    {
     "data": {
      "text/plain": [
       "Card(rank='6', suit='hearts')"
      ]
     },
     "execution_count": 10,
     "metadata": {},
     "output_type": "execute_result"
    }
   ],
   "source": [
    "choice(deck)"
   ]
  },
  {
   "cell_type": "code",
   "execution_count": 11,
   "metadata": {},
   "outputs": [
    {
     "data": {
      "text/plain": [
       "52"
      ]
     },
     "execution_count": 11,
     "metadata": {},
     "output_type": "execute_result"
    }
   ],
   "source": [
    "len(deck._cards)"
   ]
  },
  {
   "cell_type": "code",
   "execution_count": 12,
   "metadata": {},
   "outputs": [],
   "source": [
    "from math import hypot"
   ]
  },
  {
   "cell_type": "code",
   "execution_count": 90,
   "metadata": {},
   "outputs": [],
   "source": [
    "class Vector:\n",
    "    def __init__(self,x=0,y=0):\n",
    "        self.x = x\n",
    "        self.y = y\n",
    "    def __repr__(self):\n",
    "        return 'Vector(%r,%r)' % (self.x,self.y)\n",
    "    # def __str__(self): # str 区别？\n",
    "        # return 'Vector(%r,%r)' % (self.x, self.y)\n",
    "    def __abs__(self):\n",
    "        return hypot(self.x,self.y)\n",
    "    def __bool__(self):\n",
    "        return bool(abs(self))\n",
    "    def __add__(self,other):\n",
    "        x = self.x + other.x\n",
    "        y = self.y + other.y\n",
    "        return Vector(x,y)\n",
    "    def __mul__(self,scalar): # 左乘\n",
    "        return Vector(self.x * scalar,self.y*scalar)\n",
    "    def __rmul__(self,scalarF): # rmul 右乘\n",
    "        return Vector(scalarF*self.x,scalarF*self.y)\n",
    "\n",
    "v1 = Vector(2,4)\n",
    "v2 = Vector(2,1)\n",
    "v3 = Vector(3,4)"
   ]
  },
  {
   "cell_type": "code",
   "execution_count": 91,
   "metadata": {},
   "outputs": [
    {
     "data": {
      "text/plain": [
       "Vector(4,5)"
      ]
     },
     "execution_count": 91,
     "metadata": {},
     "output_type": "execute_result"
    }
   ],
   "source": [
    "v1 + v2\n"
   ]
  },
  {
   "cell_type": "code",
   "execution_count": 92,
   "metadata": {},
   "outputs": [
    {
     "data": {
      "text/plain": [
       "5.0"
      ]
     },
     "execution_count": 92,
     "metadata": {},
     "output_type": "execute_result"
    }
   ],
   "source": [
    "abs(v3)"
   ]
  },
  {
   "cell_type": "code",
   "execution_count": 93,
   "metadata": {},
   "outputs": [
    {
     "data": {
      "text/plain": [
       "Vector(9,12)"
      ]
     },
     "execution_count": 93,
     "metadata": {},
     "output_type": "execute_result"
    }
   ],
   "source": [
    "v3 * 3"
   ]
  },
  {
   "cell_type": "code",
   "execution_count": 94,
   "metadata": {},
   "outputs": [
    {
     "data": {
      "text/plain": [
       "Vector(12,16)"
      ]
     },
     "execution_count": 94,
     "metadata": {},
     "output_type": "execute_result"
    }
   ],
   "source": [
    "4*v3"
   ]
  },
  {
   "cell_type": "code",
   "execution_count": 95,
   "metadata": {},
   "outputs": [
    {
     "data": {
      "text/plain": [
       "15.0"
      ]
     },
     "execution_count": 95,
     "metadata": {},
     "output_type": "execute_result"
    }
   ],
   "source": [
    "abs(3*v3)"
   ]
  },
  {
   "cell_type": "markdown",
   "metadata": {},
   "source": [
    "## 2.2 列表推导和生成器表达式"
   ]
  },
  {
   "cell_type": "code",
   "execution_count": 96,
   "metadata": {},
   "outputs": [],
   "source": [
    "import numpy as np"
   ]
  },
  {
   "cell_type": "code",
   "execution_count": 101,
   "metadata": {},
   "outputs": [
    {
     "data": {
      "text/plain": [
       "array([25.78305091, 25.78003989, 26.1179393 , 25.92202168, 26.65795479,\n",
       "       25.76860682, 26.244039  , 26.66823868, 25.757993  , 25.70886802,\n",
       "       26.52268745, 25.75011641, 25.74727328, 26.31386294, 26.10794197,\n",
       "       26.69610237, 25.8695796 , 26.35452071, 26.11569785, 25.71372243,\n",
       "       26.44288947, 26.15911731, 25.90676004, 25.8704664 , 25.91383186,\n",
       "       25.86549556, 26.41184114, 25.91731587, 25.88439744, 25.73537446,\n",
       "       26.31446969, 26.17750612, 26.14142137, 26.12622333, 26.09083904,\n",
       "       26.41484401, 25.7844755 , 25.99155118, 26.16654208, 26.02330272,\n",
       "       26.0432226 , 25.77435142, 25.89788464, 25.74230268, 25.97566159,\n",
       "       26.05504276, 25.77378546, 25.74908555, 25.93835471, 25.99320806,\n",
       "       26.15713299, 25.89259823, 25.90662521, 25.84466786, 25.80727023,\n",
       "       25.71112162, 25.82313894, 25.95683591, 25.95820566, 25.81372462,\n",
       "       25.76343842, 26.23243659, 25.91544394, 25.78676042, 26.1201111 ,\n",
       "       26.6668916 , 26.43131243, 26.14033863, 25.79027669, 26.01826721,\n",
       "       27.20591569, 26.19538233, 26.16389388, 25.98443961, 25.76100486,\n",
       "       25.77767171, 26.10241664, 25.81680712, 25.85673611, 26.31706609,\n",
       "       25.92115741, 25.94923396, 27.48685835, 25.75992721, 25.78389386,\n",
       "       26.25809832])"
      ]
     },
     "execution_count": 101,
     "metadata": {},
     "output_type": "execute_result"
    }
   ],
   "source": [
    "# generates a standard normal random variable that is conditioned to exceed the positive value c\n",
    "\n",
    "# page 219 ross simulation 5th\n",
    "c_ = 1\n",
    "t_time = 100\n",
    "s_time = 50\n",
    "mu = 0.5\n",
    "sigma = 0.1\n",
    "lambda_c = (c_ + np.sqrt(c_**2 + 4)) / 2\n",
    "\n",
    "u_1 = np.random.uniform(0, 1, t_time)\n",
    "u_2 = np.random.uniform(0, 1, t_time)\n",
    "\n",
    "Y_ = -(1 / lambda_c) * np.log(u_1)\n",
    "V_ = c_ + Y_\n",
    "\n",
    "Z_ = V_[[\n",
    "    np.exp(-1 / 2 * (V_[i] - lambda_c)**2) >= u_2[i] for i in range(t_time)\n",
    "]]\n",
    "# (9.17)\n",
    "X_ = s_time * mu + sigma * np.sqrt(s_time) * Z_\n",
    "X_"
   ]
  },
  {
   "cell_type": "code",
   "execution_count": 102,
   "metadata": {},
   "outputs": [
    {
     "name": "stdout",
     "output_type": "stream",
     "text": [
      "蓝T恤 黑短裤\n",
      "蓝T恤 黄短裤\n",
      "红T恤 黑短裤\n",
      "红T恤 黄短裤\n",
      "白T恤 黑短裤\n",
      "白T恤 黄短裤\n"
     ]
    }
   ],
   "source": [
    "# 孙悟空穿衣服\n",
    "shirts = ['蓝T恤','红T恤','白T恤']\n",
    "shorts = ['黑短裤','黄短裤']\n",
    "for suit in ('%s %s'% (shirt,short) for shirt in shirts for short in shorts):\n",
    "    print(suit)"
   ]
  },
  {
   "cell_type": "code",
   "execution_count": null,
   "metadata": {},
   "outputs": [],
   "source": []
  },
  {
   "cell_type": "code",
   "execution_count": null,
   "metadata": {},
   "outputs": [],
   "source": []
  },
  {
   "cell_type": "code",
   "execution_count": null,
   "metadata": {},
   "outputs": [],
   "source": []
  },
  {
   "cell_type": "code",
   "execution_count": null,
   "metadata": {},
   "outputs": [],
   "source": []
  },
  {
   "cell_type": "code",
   "execution_count": null,
   "metadata": {},
   "outputs": [],
   "source": []
  }
 ],
 "metadata": {
  "interpreter": {
   "hash": "8f4a5838e254fd7354b8339e76c4be2d64c1bd6fe9b1f10156f6601567f3d097"
  },
  "kernelspec": {
   "display_name": "Python 3.10.4 ('p39')",
   "language": "python",
   "name": "python3"
  },
  "language_info": {
   "codemirror_mode": {
    "name": "ipython",
    "version": 3
   },
   "file_extension": ".py",
   "mimetype": "text/x-python",
   "name": "python",
   "nbconvert_exporter": "python",
   "pygments_lexer": "ipython3",
   "version": "3.10.4"
  },
  "orig_nbformat": 4
 },
 "nbformat": 4,
 "nbformat_minor": 2
}
