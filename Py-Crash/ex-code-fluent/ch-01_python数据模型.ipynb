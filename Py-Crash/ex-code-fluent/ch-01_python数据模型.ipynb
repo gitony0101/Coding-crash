{
 "cells": [
  {
   "cell_type": "markdown",
   "metadata": {},
   "source": [
    "# Python 数据模型\n"
   ]
  },
  {
   "cell_type": "code",
   "execution_count": 1,
   "metadata": {},
   "outputs": [],
   "source": [
    "import collections"
   ]
  },
  {
   "cell_type": "code",
   "execution_count": 2,
   "metadata": {},
   "outputs": [],
   "source": [
    "Card = collections.namedtuple('Card', ['rank', 'suit'])  # py纸牌\n"
   ]
  },
  {
   "cell_type": "code",
   "execution_count": 3,
   "metadata": {},
   "outputs": [],
   "source": [
    "class FrenchDeck:\n",
    "    ranks = [str(n) for n in range(2, 11)] + list('JQKA')\n",
    "    suits = 'spades dimamonds clubs hearts'.split()\n",
    "\n",
    "    def __init__(self):\n",
    "        self._cards = [\n",
    "            Card(rank, suit) for suit in self.suits for rank in self.ranks\n",
    "        ]  # 注意这里的生成写法\n",
    "\n",
    "    def __len__(self):\n",
    "        return len(self._cards)  # 注意这里的缩进\n",
    "\n",
    "    def __getitem__(self, position):\n",
    "        return self._cards[position]"
   ]
  },
  {
   "cell_type": "code",
   "execution_count": 4,
   "metadata": {},
   "outputs": [
    {
     "data": {
      "text/plain": [
       "Card(rank='7', suit='diamonds')"
      ]
     },
     "execution_count": 4,
     "metadata": {},
     "output_type": "execute_result"
    }
   ],
   "source": [
    "beer_card = Card('7', 'diamonds')\n",
    "beer_card"
   ]
  },
  {
   "cell_type": "code",
   "execution_count": 5,
   "metadata": {},
   "outputs": [],
   "source": [
    "deck = FrenchDeck()"
   ]
  },
  {
   "cell_type": "code",
   "execution_count": 6,
   "metadata": {},
   "outputs": [
    {
     "data": {
      "text/plain": [
       "52"
      ]
     },
     "execution_count": 6,
     "metadata": {},
     "output_type": "execute_result"
    }
   ],
   "source": [
    "len(deck)"
   ]
  },
  {
   "cell_type": "code",
   "execution_count": 7,
   "metadata": {},
   "outputs": [
    {
     "data": {
      "text/plain": [
       "Card(rank='2', suit='spades')"
      ]
     },
     "execution_count": 7,
     "metadata": {},
     "output_type": "execute_result"
    }
   ],
   "source": [
    "deck[0]"
   ]
  },
  {
   "cell_type": "code",
   "execution_count": 8,
   "metadata": {},
   "outputs": [
    {
     "data": {
      "text/plain": [
       "[Card(rank='2', suit='spades'),\n",
       " Card(rank='3', suit='spades'),\n",
       " Card(rank='4', suit='spades'),\n",
       " Card(rank='5', suit='spades'),\n",
       " Card(rank='6', suit='spades'),\n",
       " Card(rank='7', suit='spades'),\n",
       " Card(rank='8', suit='spades'),\n",
       " Card(rank='9', suit='spades'),\n",
       " Card(rank='10', suit='spades'),\n",
       " Card(rank='J', suit='spades'),\n",
       " Card(rank='Q', suit='spades'),\n",
       " Card(rank='K', suit='spades'),\n",
       " Card(rank='A', suit='spades')]"
      ]
     },
     "execution_count": 8,
     "metadata": {},
     "output_type": "execute_result"
    }
   ],
   "source": [
    "deck[0:13]"
   ]
  },
  {
   "cell_type": "code",
   "execution_count": 9,
   "metadata": {},
   "outputs": [],
   "source": [
    "from random import choice\n"
   ]
  },
  {
   "cell_type": "code",
   "execution_count": 10,
   "metadata": {},
   "outputs": [
    {
     "data": {
      "text/plain": [
       "Card(rank='K', suit='dimamonds')"
      ]
     },
     "execution_count": 10,
     "metadata": {},
     "output_type": "execute_result"
    }
   ],
   "source": [
    "choice(deck)"
   ]
  },
  {
   "cell_type": "code",
   "execution_count": 11,
   "metadata": {},
   "outputs": [
    {
     "data": {
      "text/plain": [
       "52"
      ]
     },
     "execution_count": 11,
     "metadata": {},
     "output_type": "execute_result"
    }
   ],
   "source": [
    "len(deck._cards)"
   ]
  },
  {
   "cell_type": "code",
   "execution_count": 12,
   "metadata": {},
   "outputs": [],
   "source": [
    "from math import hypot"
   ]
  },
  {
   "cell_type": "code",
   "execution_count": 13,
   "metadata": {},
   "outputs": [],
   "source": [
    "class Vector:\n",
    "\n",
    "    def __init__(self, x=0, y=0):\n",
    "        self.x = x\n",
    "        self.y = y\n",
    "\n",
    "    def __repr__(self):\n",
    "        return 'Vector(%r,%r)' % (self.x, self.y)\n",
    "\n",
    "    # def __str__(self): # str 区别？\n",
    "    # return 'Vector(%r,%r)' % (self.x, self.y)\n",
    "    def __abs__(self):\n",
    "        return hypot(self.x, self.y)\n",
    "\n",
    "    def __bool__(self):\n",
    "        return bool(abs(self))\n",
    "\n",
    "    def __add__(self, other):\n",
    "        x = self.x + other.x\n",
    "        y = self.y + other.y\n",
    "        return Vector(x, y)\n",
    "\n",
    "    def __mul__(self, scalar):  # 左乘\n",
    "        return Vector(self.x * scalar, self.y * scalar)\n",
    "\n",
    "    def __rmul__(self, scalarF):  # rmul 右乘\n",
    "        return Vector(scalarF * self.x, scalarF * self.y)\n",
    "\n",
    "\n",
    "v1 = Vector(2, 4)\n",
    "v2 = Vector(2, 1)\n",
    "v3 = Vector(3, 4)\n"
   ]
  },
  {
   "cell_type": "code",
   "execution_count": 14,
   "metadata": {},
   "outputs": [
    {
     "data": {
      "text/plain": [
       "Vector(4,5)"
      ]
     },
     "execution_count": 14,
     "metadata": {},
     "output_type": "execute_result"
    }
   ],
   "source": [
    "v1 + v2\n"
   ]
  },
  {
   "cell_type": "code",
   "execution_count": 15,
   "metadata": {},
   "outputs": [
    {
     "data": {
      "text/plain": [
       "5.0"
      ]
     },
     "execution_count": 15,
     "metadata": {},
     "output_type": "execute_result"
    }
   ],
   "source": [
    "abs(v3)"
   ]
  },
  {
   "cell_type": "code",
   "execution_count": 16,
   "metadata": {},
   "outputs": [
    {
     "data": {
      "text/plain": [
       "Vector(9,12)"
      ]
     },
     "execution_count": 16,
     "metadata": {},
     "output_type": "execute_result"
    }
   ],
   "source": [
    "v3 * 3"
   ]
  },
  {
   "cell_type": "code",
   "execution_count": 17,
   "metadata": {},
   "outputs": [
    {
     "data": {
      "text/plain": [
       "Vector(12,16)"
      ]
     },
     "execution_count": 17,
     "metadata": {},
     "output_type": "execute_result"
    }
   ],
   "source": [
    "4 * v3\n"
   ]
  },
  {
   "cell_type": "code",
   "execution_count": 18,
   "metadata": {},
   "outputs": [
    {
     "data": {
      "text/plain": [
       "15.0"
      ]
     },
     "execution_count": 18,
     "metadata": {},
     "output_type": "execute_result"
    }
   ],
   "source": [
    "abs(3 * v3)\n"
   ]
  },
  {
   "cell_type": "markdown",
   "metadata": {},
   "source": [
    "## 2.2 列表推导和生成器表达式\n"
   ]
  },
  {
   "cell_type": "code",
   "execution_count": 19,
   "metadata": {},
   "outputs": [],
   "source": [
    "import numpy as np"
   ]
  },
  {
   "cell_type": "code",
   "execution_count": 20,
   "metadata": {},
   "outputs": [
    {
     "data": {
      "text/plain": [
       "array([25.86420708, 25.88766836, 25.98510019, 26.19707161, 26.17874004,\n",
       "       26.02449742, 25.88800704, 25.95086563, 25.85774758, 25.81981775,\n",
       "       25.88581193, 26.35510591, 25.84518604, 26.28888232, 26.18048177,\n",
       "       25.78319073, 25.80158675, 25.94032833, 27.11334832, 25.77801343,\n",
       "       26.02580126, 26.54299203, 26.20462129, 26.68895903, 26.05828148,\n",
       "       25.88042465, 25.81901525, 26.20073717, 26.31990497, 26.72244531,\n",
       "       25.9251581 , 26.47788809, 25.90486541, 25.79986529, 26.31059965,\n",
       "       26.61871768, 25.91553901, 25.94560849, 26.53546494, 26.10077074,\n",
       "       25.79852144, 26.25492869, 26.61520268, 25.89310366, 25.77921992,\n",
       "       25.8033105 , 25.77777459, 27.59869379, 26.04177553, 26.01912776,\n",
       "       26.0300403 , 25.9141577 , 25.73330171, 25.99903848, 25.80625717,\n",
       "       26.25761544, 26.53261975, 25.79575739, 25.96374228, 26.04669803,\n",
       "       25.8303248 , 25.88280879, 25.94321725, 25.89858875, 25.73599228,\n",
       "       26.17102973, 26.59297912, 26.24987055, 25.76882012, 25.88222589,\n",
       "       26.38973953, 26.00323362, 26.88726509, 25.77279244, 26.35927033,\n",
       "       26.04546894, 26.2545202 , 26.00844211, 25.7522341 , 25.921311  ,\n",
       "       26.32682285, 25.94673837])"
      ]
     },
     "execution_count": 20,
     "metadata": {},
     "output_type": "execute_result"
    }
   ],
   "source": [
    "# generates a standard normal random variable that is conditioned to exceed the positive value c\n",
    "\n",
    "# page 219 ross simulation 5th\n",
    "c_ = 1\n",
    "t_time = 100\n",
    "s_time = 50\n",
    "mu = 0.5\n",
    "sigma = 0.1\n",
    "lambda_c = (c_ + np.sqrt(c_**2 + 4)) / 2\n",
    "\n",
    "u_1 = np.random.uniform(0, 1, t_time)\n",
    "u_2 = np.random.uniform(0, 1, t_time)\n",
    "\n",
    "Y_ = -(1 / lambda_c) * np.log(u_1)\n",
    "V_ = c_ + Y_\n",
    "\n",
    "Z_ = V_[[\n",
    "    np.exp(-1 / 2 * (V_[i] - lambda_c)**2) >= u_2[i] for i in range(t_time)\n",
    "]]\n",
    "# (9.17)\n",
    "X_ = s_time * mu + sigma * np.sqrt(s_time) * Z_\n",
    "X_"
   ]
  },
  {
   "cell_type": "code",
   "execution_count": 21,
   "metadata": {},
   "outputs": [
    {
     "name": "stdout",
     "output_type": "stream",
     "text": [
      "蓝T恤 黑短裤\n",
      "蓝T恤 黄短裤\n",
      "红T恤 黑短裤\n",
      "红T恤 黄短裤\n",
      "白T恤 黑短裤\n",
      "白T恤 黄短裤\n"
     ]
    }
   ],
   "source": [
    "# 孙悟空穿衣服\n",
    "shirts = ['蓝T恤', '红T恤', '白T恤']\n",
    "shorts = ['黑短裤', '黄短裤']\n",
    "for suit in ('%s %s' % (shirt, short) for shirt in shirts for short in shorts):\n",
    "    print(suit)"
   ]
  },
  {
   "cell_type": "code",
   "execution_count": null,
   "metadata": {},
   "outputs": [],
   "source": [
    "# 可迭代能力和迭代器\n",
    "from collections.abc import *"
   ]
  },
  {
   "cell_type": "code",
   "execution_count": 1,
   "metadata": {},
   "outputs": [],
   "source": [
    "class A:\n",
    "\n",
    "    def __next__(self):\n",
    "        return 1\n",
    "\n",
    "\n",
    "class B:\n",
    "\n",
    "    def __iter__(self):\n",
    "        return A()\n",
    "\n",
    "    def __next__(self):\n",
    "        return None"
   ]
  },
  {
   "cell_type": "code",
   "execution_count": 2,
   "metadata": {},
   "outputs": [],
   "source": [
    "a = A()\n",
    "b = B()"
   ]
  },
  {
   "cell_type": "code",
   "execution_count": 5,
   "metadata": {},
   "outputs": [
    {
     "name": "stdout",
     "output_type": "stream",
     "text": [
      "False\n",
      "False\n",
      "True\n",
      "True\n"
     ]
    }
   ],
   "source": [
    "print(isinstance(a, Iterator))\n",
    "print(isinstance(a, Iterable))\n",
    "print(isinstance(b, Iterator))\n",
    "print(isinstance(b, Iterable))\n"
   ]
  },
  {
   "cell_type": "code",
   "execution_count": 6,
   "metadata": {},
   "outputs": [
    {
     "name": "stdout",
     "output_type": "stream",
     "text": [
      "True\n",
      "False\n",
      "True\n",
      "True\n"
     ]
    }
   ],
   "source": [
    "from collections.abc import Iterable\n",
    "from collections.abc import Iterator\n",
    "\n",
    "l = [1, 2, 3]\n",
    "l_iter = l.__iter__()\n",
    "\n",
    "#检查是否是可迭代的对象\n",
    "print(isinstance(l, Iterable))  #True\n",
    "print(isinstance(l, Iterator))  #False\n",
    "print(isinstance(l_iter, Iterator))  #True\n",
    "print(isinstance(l_iter, Iterable))  #True\n"
   ]
  },
  {
   "cell_type": "code",
   "execution_count": null,
   "metadata": {},
   "outputs": [],
   "source": []
  },
  {
   "cell_type": "code",
   "execution_count": null,
   "metadata": {},
   "outputs": [],
   "source": []
  }
 ],
 "metadata": {
  "interpreter": {
   "hash": "8f4a5838e254fd7354b8339e76c4be2d64c1bd6fe9b1f10156f6601567f3d097"
  },
  "kernelspec": {
   "display_name": "Python 3.10.4 ('p39')",
   "language": "python",
   "name": "python3"
  },
  "language_info": {
   "codemirror_mode": {
    "name": "ipython",
    "version": 3
   },
   "file_extension": ".py",
   "mimetype": "text/x-python",
   "name": "python",
   "nbconvert_exporter": "python",
   "pygments_lexer": "ipython3",
   "version": "3.10.4"
  },
  "orig_nbformat": 4
 },
 "nbformat": 4,
 "nbformat_minor": 2
}
