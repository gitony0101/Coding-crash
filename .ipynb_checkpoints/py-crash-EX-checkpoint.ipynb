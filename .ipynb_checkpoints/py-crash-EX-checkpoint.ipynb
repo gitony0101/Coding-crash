{
 "cells": [
  {
   "cell_type": "markdown",
   "metadata": {},
   "source": [
    "## EX for py"
   ]
  },
  {
   "cell_type": "code",
   "execution_count": 1,
   "metadata": {},
   "outputs": [
    {
     "name": "stdout",
     "output_type": "stream",
     "text": [
      "\n",
      " , nice choice!.\n",
      "\n",
      " , nice choice!.\n",
      "\n",
      " , nice choice!.\n",
      "\n",
      " , nice choice!.\n"
     ]
    }
   ],
   "source": [
    "prompt = \"\\nPlease enter your pizza ingridients:\"\n",
    "prompt += \"\\nEnter 'quit' if you finished.\"\n",
    "\n",
    "while True:\n",
    "    ingredient = input(prompt)\n",
    "    if ingredient == 'quit':\n",
    "        break\n",
    "    else:\n",
    "        print(f\"\\n{ingredient.title()} , nice choice!.\")\n"
   ]
  },
  {
   "cell_type": "code",
   "execution_count": null,
   "metadata": {},
   "outputs": [],
   "source": [
    "# movie ticket price\n",
    "msg = \"\\nHow old are you?\"\n",
    "msg += \"\\nEnter 'quit' when you are finished.\"\n",
    "\n",
    "while True:\n",
    "    age = input(msg)\n",
    "    if age == 'quit':\n",
    "        break\n",
    "    else:\n",
    "        age = int(age)  # make the age as int for py\n",
    "        if age < 3:\n",
    "            print(\"\\nYour ticket is free.\")\n",
    "        elif age < 12:\n",
    "            print(\"\\nYour ticket is $10.\")\n",
    "        else:\n",
    "            print(\"\\nYour ticket is $15.\")"
   ]
  },
  {
   "cell_type": "code",
   "execution_count": null,
   "metadata": {},
   "outputs": [],
   "source": []
  },
  {
   "cell_type": "markdown",
   "metadata": {},
   "source": []
  },
  {
   "cell_type": "code",
   "execution_count": 6,
   "metadata": {},
   "outputs": [
    {
     "name": "stdout",
     "output_type": "stream",
     "text": [
      "Vertfying user: Candace\n",
      "Vertfying user: Brian\n",
      "Vertfying user: Alice\n",
      "\n",
      "The following users have been confirmed:\n",
      "Candace\n",
      "Brian\n",
      "Alice\n"
     ]
    }
   ],
   "source": [
    "unconfirmed_users = ['alice', 'brian', 'candace']  # 初始化未验证用户列表\n",
    "confirmed_users = []  # 创建存储已验证用户的空表\n",
    "\n",
    "while unconfirmed_users:\n",
    "    current_user = unconfirmed_users.pop()  # 从未验证用户列表中取出一个用户\n",
    "    print(f\"Vertfying user: {current_user.title()}\")  # 验证当前用户\n",
    "    confirmed_users.append(current_user)  # 将用户添加到已验证用户列表中\n",
    "\n",
    "print(f\"\\nThe following users have been confirmed:\")\n",
    "for confirmed_user in confirmed_users:\n",
    "    print(confirmed_user.title())"
   ]
  },
  {
   "cell_type": "code",
   "execution_count": 10,
   "metadata": {},
   "outputs": [
    {
     "name": "stdout",
     "output_type": "stream",
     "text": [
      "\n",
      "---Poll Results---\n",
      "ss would like to climb dd.\n",
      "\n",
      "---Poll Results---\n",
      "ss would like to climb dd.\n",
      "dd would like to climb aa.\n",
      "\n",
      "---Poll Results---\n",
      "ss would like to climb dd.\n",
      "dd would like to climb aa.\n",
      "aa would like to climb dd.\n"
     ]
    }
   ],
   "source": [
    "responses = {}  # 创建一个空字典\n",
    "polling_active = True  # 设置一个标志，指出调查是否继续：\n",
    "\n",
    "while polling_active:  # 提示输入被调查者的名字和回答：\n",
    "\n",
    "    name = input(\"\\nWhat is your name? \")\n",
    "    response = input(\"Which moutain would you like to climb someday?\")\n",
    "\n",
    "    responses[name] = response  # 将答案存储在字典中\n",
    "\n",
    "    repeat = input(\"Would you like to let another person respond?(Yes/No)?\")\n",
    "    if repeat == 'no':\n",
    "        polling_active = False\n",
    "\n",
    "    print(\"\\n---Poll Results---\")\n",
    "    for name, response in responses.items():\n",
    "        print(f\"{name} would like to climb {response}.\")"
   ]
  },
  {
   "cell_type": "code",
   "execution_count": 9,
   "metadata": {},
   "outputs": [
    {
     "name": "stdout",
     "output_type": "stream",
     "text": [
      "\n",
      "I made your pastrami sandwich.\n",
      "\n",
      "I made your chicken sandwich.\n",
      "\n",
      "I made your peanut butter sandwich.\n",
      "\n",
      "I made your cheese sandwich.\n",
      "\n",
      "I made your ham sandwich.\n",
      "\n",
      "I made your following sandwiches:\n",
      "Pastrami sandwich\n",
      "Chicken sandwich\n",
      "Peanut Butter sandwich\n",
      "Cheese sandwich\n",
      "Ham sandwich\n"
     ]
    }
   ],
   "source": [
    "sandwiches_ordes = ['ham', 'cheese', 'peanut butter', 'chicken', 'pastrami']\n",
    "finished_sandwiches = []\n",
    "\n",
    "while sandwiches_ordes:\n",
    "    sandwich = sandwiches_ordes.pop()\n",
    "    print(f\"\\nI made your {sandwich} sandwich.\")\n",
    "    finished_sandwiches.append(sandwich)\n",
    "\n",
    "print(\"\\nI made your following sandwiches:\")\n",
    "for sandwich in finished_sandwiches:\n",
    "    print(f\"{sandwich.title()} sandwich\")"
   ]
  },
  {
   "cell_type": "code",
   "execution_count": 15,
   "metadata": {},
   "outputs": [
    {
     "name": "stdout",
     "output_type": "stream",
     "text": [
      "We are out of pastrami.\n",
      "\n",
      "I made your chicken sandwich.\n",
      "\n",
      "I made your peanut butter sandwich.\n",
      "\n",
      "I made your cheese sandwich.\n",
      "\n",
      "I made your ham sandwich.\n",
      "\n",
      "I made your following sandwiches:\n",
      "Chicken sandwich\n",
      "Peanut Butter sandwich\n",
      "Cheese sandwich\n",
      "Ham sandwich\n"
     ]
    }
   ],
   "source": [
    "sandwiches_orders = [\n",
    "    'ham', 'pastrami', 'cheese', 'peanut butter', 'pastrami', 'chicken',\n",
    "    'pastrami'\n",
    "]\n",
    "\n",
    "finished_sandwiches = []\n",
    "\n",
    "print(\"We are out of pastrami.\")\n",
    "\n",
    "while 'pastrami' in sandwiches_orders:\n",
    "    sandwiches_orders.remove('pastrami')\n",
    "while sandwiches_orders:\n",
    "    sandwich = sandwiches_orders.pop()\n",
    "    print(f\"\\nI made your {sandwich} sandwich.\")\n",
    "    finished_sandwiches.append(sandwich)\n",
    "\n",
    "print(\"\\nI made your following sandwiches:\")\n",
    "for sandwich in finished_sandwiches:\n",
    "    print(f\"{sandwich.title()} sandwich\")\n"
   ]
  },
  {
   "cell_type": "code",
   "execution_count": 2,
   "metadata": {},
   "outputs": [
    {
     "name": "stdout",
     "output_type": "stream",
     "text": [
      "beijing, nice choice@\n",
      "dongjing, nice choice@\n",
      "nanjing, nice choice@\n",
      "kaifeng, nice choice@\n",
      "kkk, nice choice@\n",
      "llll, nice choice@\n",
      "\n",
      "Here is the list you guys want to go:\n",
      "{'mike': 'beijing', 'lily': 'dongjing', 'lucy': 'nanjing', 'kitty': 'kaifeng', 'lll': 'kkk', 'dddd': 'llll'}\n"
     ]
    }
   ],
   "source": [
    "places_to_go = {} # set an empty dictionary\n",
    "\n",
    "while True:\n",
    "    name = input(\"What's your name? (Enter 'quit' to leave)\")\n",
    "    if name == \"quit\":\n",
    "        break\n",
    "        print(f\"\\nHere is the list you guys want to go:\")\n",
    "        print(places_to_go)\n",
    "    else:\n",
    "        location = input(\n",
    "            f\"\\nHi {name.title()}! If you could visit one place in the world, where would you go?\\nEnter 'quit' to finish.\"\n",
    "        )\n",
    "        if location == 'quit':\n",
    "            break\n",
    "            print(f\"\\nHere is the list you guys want to go:\")\n",
    "            print(places_to_go)\n",
    "\n",
    "        else:\n",
    "            places_to_go[\n",
    "                name] = location  # store the location in the dictionary\n",
    "            print(f\"{location.title()}, nice choice!\")\n",
    "\n",
    "print(f\"\\nHere is the list you guys want to go:\")\n",
    "print(places_to_go)\n"
   ]
  },
  {
   "cell_type": "markdown",
   "metadata": {},
   "source": [
    "## Chap 10"
   ]
  },
  {
   "cell_type": "code",
   "execution_count": 1,
   "metadata": {},
   "outputs": [
    {
     "name": "stdout",
     "output_type": "stream",
     "text": [
      "3.1415926535 \n",
      "  8979323846 \n",
      "  2643383279\n",
      "\n"
     ]
    }
   ],
   "source": [
    "with open('pi_digits.txt') as file_object:\n",
    "    contents = file_object.read()\n",
    "print(contents)"
   ]
  },
  {
   "cell_type": "code",
   "execution_count": 2,
   "metadata": {},
   "outputs": [
    {
     "name": "stdout",
     "output_type": "stream",
     "text": [
      "3.1415926535\n",
      "  8979323846\n",
      "  2643383279\n"
     ]
    }
   ],
   "source": [
    "file_name = 'pi_digits.txt'\n",
    "with open(file_name) as file_object:\n",
    "    for line in file_object:\n",
    "        print(line.rstrip())"
   ]
  },
  {
   "cell_type": "code",
   "execution_count": null,
   "metadata": {},
   "outputs": [],
   "source": []
  },
  {
   "cell_type": "code",
   "execution_count": null,
   "metadata": {},
   "outputs": [],
   "source": []
  },
  {
   "cell_type": "code",
   "execution_count": null,
   "metadata": {},
   "outputs": [],
   "source": []
  },
  {
   "cell_type": "code",
   "execution_count": null,
   "metadata": {},
   "outputs": [],
   "source": []
  },
  {
   "cell_type": "code",
   "execution_count": null,
   "metadata": {},
   "outputs": [],
   "source": []
  },
  {
   "cell_type": "code",
   "execution_count": null,
   "metadata": {},
   "outputs": [],
   "source": []
  },
  {
   "cell_type": "code",
   "execution_count": null,
   "metadata": {},
   "outputs": [],
   "source": []
  },
  {
   "cell_type": "code",
   "execution_count": null,
   "metadata": {},
   "outputs": [],
   "source": []
  },
  {
   "cell_type": "code",
   "execution_count": null,
   "metadata": {},
   "outputs": [],
   "source": []
  },
  {
   "cell_type": "code",
   "execution_count": null,
   "metadata": {},
   "outputs": [],
   "source": []
  },
  {
   "cell_type": "code",
   "execution_count": null,
   "metadata": {},
   "outputs": [],
   "source": []
  }
 ],
 "metadata": {
  "interpreter": {
   "hash": "daabc12b7e82262630a7e373b09e73b659ba21f5700e5baa669a48eb8260a031"
  },
  "kernelspec": {
   "display_name": "Python 3 (ipykernel)",
   "language": "python",
   "name": "python3"
  },
  "language_info": {
   "codemirror_mode": {
    "name": "ipython",
    "version": 3
   },
   "file_extension": ".py",
   "mimetype": "text/x-python",
   "name": "python",
   "nbconvert_exporter": "python",
   "pygments_lexer": "ipython3",
   "version": "3.9.9"
  }
 },
 "nbformat": 4,
 "nbformat_minor": 4
}
