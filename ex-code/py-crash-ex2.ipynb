{
 "cells": [
  {
   "cell_type": "markdown",
   "metadata": {},
   "source": [
    "# py-crash-ex2"
   ]
  },
  {
   "cell_type": "markdown",
   "metadata": {},
   "source": [
    "练习 10-11:喜欢的数\n",
    "\n",
    "编写一个程序,提示用户输入喜欢的数,并使用 json.dump() 将这个数存储到文件中。再编写一个程序,从文件中读取这个值,并打印如下所示的消息。\n",
    "I know your favorite number! It's **\\_\\_\\_**.\n"
   ]
  },
  {
   "cell_type": "code",
   "execution_count": 2,
   "metadata": {},
   "outputs": [
    {
     "name": "stdout",
     "output_type": "stream",
     "text": [
      "I'll remember that!\n"
     ]
    }
   ],
   "source": [
    "import json\n",
    "\n",
    "number = input(\"what is your favorite number? \")\n",
    "\n",
    "with open('favorite_number.json','w') as f:\n",
    "    json.dump(number,f)\n",
    "    print(\"I'll remember that!\")"
   ]
  },
  {
   "cell_type": "code",
   "execution_count": 3,
   "metadata": {},
   "outputs": [
    {
     "name": "stdout",
     "output_type": "stream",
     "text": [
      "I know your favorite number! It's 22222\n"
     ]
    }
   ],
   "source": [
    "# import json\n",
    "\n",
    "with open('favorite_number.json') as f:\n",
    "    number = json.load(f)\n",
    "\n",
    "print(f\"I know your favorite number! It's {number}\")"
   ]
  },
  {
   "cell_type": "markdown",
   "metadata": {},
   "source": [
    "练习 10-12:记住喜欢的数 \n",
    "\n",
    "将练习 10-11 中的程序合二为一。如果存储了用户喜欢的数,就向用户显示它,否则提示用户输入喜欢的数并将其存储到文件中。运行这个程序两次,看看它能否像预期的那样工作。"
   ]
  },
  {
   "cell_type": "code",
   "execution_count": 7,
   "metadata": {},
   "outputs": [
    {
     "name": "stdout",
     "output_type": "stream",
     "text": [
      "I'll remember your favorite number is 333.\n"
     ]
    }
   ],
   "source": [
    "import json\n",
    "\n",
    "number = input(\"what is your favorite number? \")\n",
    "\n",
    "with open('favorite_number.json', 'w') as f:\n",
    "    json.dump(number, f)\n",
    "    print(f\"I'll remember your favorite number is {number}.\")"
   ]
  },
  {
   "cell_type": "code",
   "execution_count": 1,
   "metadata": {},
   "outputs": [
    {
     "name": "stdout",
     "output_type": "stream",
     "text": [
      "No, the number is NOT 33.\n"
     ]
    }
   ],
   "source": [
    "import json\n",
    "\n",
    "number = input(\"what is your favorite number? \")\n",
    "\n",
    "with open('favorite_number.json', 'w') as f:\n",
    "    json.dump(number, f)\n",
    "\n",
    "input_number = input(\"now give me the number\")\n",
    "\n",
    "if input_number == number:\n",
    "    print(f\"Yes, the number is {number}.\")\n",
    "else:\n",
    "    print(f\"No, the number is NOT {input_number}.\")"
   ]
  },
  {
   "cell_type": "code",
   "execution_count": 14,
   "metadata": {},
   "outputs": [
    {
     "name": "stdout",
     "output_type": "stream",
     "text": [
      "I'll remember your favorite number is 33.\n"
     ]
    }
   ],
   "source": [
    "import json\n",
    "\n",
    "try:\n",
    "    with open('favorite_number.json') as f:\n",
    "        number = json.load(f)\n",
    "except FileNotFoundError:\n",
    "    number = input(\"what is your favorite number? \")\n",
    "    with open('favorite_number.json','w') as f:\n",
    "        json.dump(number,f)\n",
    "    print(f\"Thanks, remembered.\")\n",
    "else:\n",
    "    print(f\"I'll remember your favorite number is {number}.\")"
   ]
  },
  {
   "cell_type": "markdown",
   "metadata": {},
   "source": [
    "练习 10-13:验证用户 最后一个 remember_me.py 版本假设用户要么已输入用户名,要么是首次运行该程序。我们应该修改这个程序,以防当前用户并非上次运行该程序的用户。\n",
    "为此,在 greet_user() 中打印欢迎用户回来的消息前,询问他用户名是否正确。如果不对,就调用 get_new_username() 让用户输入正确的用户名。"
   ]
  },
  {
   "cell_type": "code",
   "execution_count": 9,
   "metadata": {},
   "outputs": [],
   "source": [
    "import json\n",
    "\n",
    "def get_stored_username():\n",
    "    \"\"\"如果存储了用户名，就获取它\"\"\"\n",
    "    filename = 'username.json'\n",
    "    try:\n",
    "        with open(filename) as f:\n",
    "            username = json.load(f)\n",
    "    except FileNotFoundError:\n",
    "        return None\n",
    "    else:\n",
    "        return username\n",
    "\n",
    "def greet_user():\n",
    "    \"\"\"问候用户，并指出其名字\"\"\"\n",
    "    username = get_stored_username()\n",
    "    if username:\n",
    "        print(f\"Welcome back! {username}!\")\n",
    "    else:\n",
    "        username = input(\"Enter your username: \")\n",
    "        filename = 'username.json'\n",
    "        with open(filename, 'w') as f:\n",
    "            json.dump(username, f)\n",
    "            print(f\"We'll remember you when you come back, {username}!\")"
   ]
  },
  {
   "cell_type": "code",
   "execution_count": 10,
   "metadata": {},
   "outputs": [
    {
     "name": "stdout",
     "output_type": "stream",
     "text": [
      "We'll remember you when you come back, tony!\n"
     ]
    }
   ],
   "source": [
    "greet_user()"
   ]
  },
  {
   "cell_type": "code",
   "execution_count": 1,
   "metadata": {},
   "outputs": [],
   "source": [
    "import json\n",
    "\n",
    "def get_stored_username():\n",
    "    \"\"\"获取存储的用户名，如果已经存了\"\"\"\n",
    "    try:\n",
    "        with open(filename) as f_obj:\n",
    "            user_name = json.load(f_obj)\n",
    "    except NameError:\n",
    "        get_new_username()\n",
    "    except FileNotFoundError:\n",
    "        return None\n",
    "    else:\n",
    "        return user_name\n",
    "\n",
    "def get_new_username():\n",
    "    \"\"\"提示输入用户名\"\"\"\n",
    "    username = input(\"What is your name? \")\n",
    "    filename = 'username.json'\n",
    "    with open(filename,'w') as f_obj:\n",
    "        json.dump(user_name, f_obj)\n",
    "    return username\n",
    "\n",
    "def greet_user():\n",
    "    \"\"\"基于用户名问候用户\"\"\"\n",
    "    username = get_stored_username()\n",
    "    if username:\n",
    "        correct = input(f\"Are you {username}? (y/n) \")\n",
    "        if correct == 'y':\n",
    "            print(f\"Welcome back, {username}!\")\n",
    "        else:\n",
    "            username = get_new_username()\n",
    "            print(f\"We'll remember you when you come back, {username}!\")\n",
    "\n",
    "\n",
    "greet_user()"
   ]
  },
  {
   "cell_type": "markdown",
   "metadata": {},
   "source": [
    "## chap 11"
   ]
  },
  {
   "cell_type": "code",
   "execution_count": 7,
   "metadata": {},
   "outputs": [
    {
     "name": "stdout",
     "output_type": "stream",
     "text": [
      "ENter 'q' at any time to quit.\n",
      "\n",
      "Hello, Lily Chen!\n"
     ]
    }
   ],
   "source": [
    "def get_formatted_name(first,last):\n",
    "    \"\"\"生成整洁的姓名。\"\"\"\n",
    "    full_name = f\"{first} {last}\"\n",
    "    return full_name.title()\n",
    "\n",
    "print(\"ENter 'q' at any time to quit.\")\n",
    "while True: \n",
    "    first = input(\"Enter your first name: \")\n",
    "    if first == 'q':\n",
    "        break\n",
    "    last = input(\"Enter your last name: \")\n",
    "    if last == 'q':\n",
    "        break\n",
    "\n",
    "    formatted_name = get_formatted_name(first,last)\n",
    "    print(f\"\\nHello, {formatted_name}!\")"
   ]
  },
  {
   "cell_type": "markdown",
   "metadata": {},
   "source": [
    "下面的测试用例只包含一个方法,它检查函数get_formatted_name() 在给定名和姓时能否正确工作"
   ]
  },
  {
   "cell_type": "code",
   "execution_count": null,
   "metadata": {},
   "outputs": [],
   "source": [
    "import unittest\n",
    "\n",
    "\n",
    "def get_formatted_name(first, last):\n",
    "    \"\"\"生成整洁的姓名。\"\"\"\n",
    "    full_name = f\"{first} {last}\"\n",
    "    return full_name.title()\n",
    "\n",
    "class NameTestCase(unittest.TestCase):\n",
    "    \"\"\"测试name_function\"\"\"\n",
    "\n",
    "    def test_first_last_name(self):\n",
    "        "
   ]
  },
  {
   "cell_type": "code",
   "execution_count": null,
   "metadata": {},
   "outputs": [],
   "source": []
  },
  {
   "cell_type": "code",
   "execution_count": null,
   "metadata": {},
   "outputs": [],
   "source": []
  },
  {
   "cell_type": "code",
   "execution_count": null,
   "metadata": {},
   "outputs": [],
   "source": []
  },
  {
   "cell_type": "code",
   "execution_count": null,
   "metadata": {},
   "outputs": [],
   "source": []
  },
  {
   "cell_type": "code",
   "execution_count": null,
   "metadata": {},
   "outputs": [],
   "source": []
  },
  {
   "cell_type": "code",
   "execution_count": null,
   "metadata": {},
   "outputs": [],
   "source": []
  },
  {
   "cell_type": "code",
   "execution_count": null,
   "metadata": {},
   "outputs": [],
   "source": []
  }
 ],
 "metadata": {
  "interpreter": {
   "hash": "daabc12b7e82262630a7e373b09e73b659ba21f5700e5baa669a48eb8260a031"
  },
  "kernelspec": {
   "display_name": "Python 3.9.10 ('p39')",
   "language": "python",
   "name": "python3"
  },
  "language_info": {
   "codemirror_mode": {
    "name": "ipython",
    "version": 3
   },
   "file_extension": ".py",
   "mimetype": "text/x-python",
   "name": "python",
   "nbconvert_exporter": "python",
   "pygments_lexer": "ipython3",
   "version": "3.9.10"
  },
  "orig_nbformat": 4
 },
 "nbformat": 4,
 "nbformat_minor": 2
}
